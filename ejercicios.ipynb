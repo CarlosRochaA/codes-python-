{
  "nbformat": 4,
  "nbformat_minor": 0,
  "metadata": {
    "colab": {
      "name": "ejercicios.ipynb",
      "provenance": [],
      "include_colab_link": true
    },
    "kernelspec": {
      "name": "python3",
      "display_name": "Python 3"
    },
    "language_info": {
      "name": "python"
    }
  },
  "cells": [
    {
      "cell_type": "markdown",
      "metadata": {
        "id": "view-in-github",
        "colab_type": "text"
      },
      "source": [
        "<a href=\"https://colab.research.google.com/github/CarlosRochaA/codes-python-/blob/main/ejercicios.ipynb\" target=\"_parent\"><img src=\"https://colab.research.google.com/assets/colab-badge.svg\" alt=\"Open In Colab\"/></a>"
      ]
    },
    {
      "cell_type": "markdown",
      "metadata": {
        "id": "C1RZEm1RAlRE"
      },
      "source": [
        "# Clase 1 - Tipos de datos"
      ]
    },
    {
      "cell_type": "markdown",
      "metadata": {
        "id": "idIpJPg1A_Cs"
      },
      "source": [
        "### 1- Cambiar un texto\n",
        "Necesitamos mostrar en nuestra web la sinopsis de las películas. El problema es que tenemos los textos separados por pipes (\"|\") en lugar de saltos de línea."
      ]
    },
    {
      "cell_type": "code",
      "metadata": {
        "id": "F8n12VmJBAMc"
      },
      "source": [
        "string = 'Sinopsis | Marty McFly, un típico adolescente americano de los años ochenta, '\\\n",
        "'es accidentalmente enviado de vuelta a 1955 en una \"máquina del tiempo\" realizada con'\\\n",
        "'un DeLorean inventada por un científico un poco loco. | En este viaje, Marty debe '\\\n",
        "'asegurarse de que sus padres se encuentren y se enamoren, para que pueda volver a su tiempo. '"
      ],
      "execution_count": null,
      "outputs": []
    },
    {
      "cell_type": "code",
      "metadata": {
        "colab": {
          "base_uri": "https://localhost:8080/"
        },
        "id": "qHm99oJeBRAY",
        "outputId": "97f05b7a-a24e-46cf-e948-b32f64856c89"
      },
      "source": [
        "print(string)"
      ],
      "execution_count": null,
      "outputs": [
        {
          "output_type": "stream",
          "text": [
            "Sinopsis | Marty McFly, un típico adolescente americano de los años ochenta, es accidentalmente enviado de vuelta a 1955 en una \"máquina del tiempo\" realizada conun DeLorean inventada por un científico un poco loco. | En este viaje, Marty debe asegurarse de que sus padres se encuentren y se enamoren, para que pueda volver a su tiempo. \n"
          ],
          "name": "stdout"
        }
      ]
    },
    {
      "cell_type": "markdown",
      "metadata": {
        "id": "UV9Hoov9BTd6"
      },
      "source": [
        "¿Cómo podríamos hacer para que la función \"print\" muestre saltos de línea en lugar de pipes?"
      ]
    },
    {
      "cell_type": "code",
      "metadata": {
        "colab": {
          "base_uri": "https://localhost:8080/"
        },
        "id": "vPEkpaBaBUye",
        "outputId": "f1b6275f-e076-4ec5-cfc1-4d3988108965"
      },
      "source": [
        "string = string.replace('|', '\\n')\n",
        "print(string)"
      ],
      "execution_count": null,
      "outputs": [
        {
          "output_type": "stream",
          "text": [
            "Sinopsis \n",
            " Marty McFly, un típico adolescente americano de los años ochenta, es accidentalmente enviado de vuelta a 1955 en una \"máquina del tiempo\" realizada conun DeLorean inventada por un científico un poco loco. \n",
            " En este viaje, Marty debe asegurarse de que sus padres se encuentren y se enamoren, para que pueda volver a su tiempo. \n"
          ],
          "name": "stdout"
        }
      ]
    },
    {
      "cell_type": "markdown",
      "metadata": {
        "id": "S7cOGm4UBhi6"
      },
      "source": [
        "### 2 - Crear un acrónimo\n",
        "\n",
        "Ahora nos piden crear un acrónimo (una palabra compuesta por la primera letra de cada palabra) de cada título. Pero antes de eso es necesario que transformemos los títulos a \"title case\" porque no todos van a llegar prolijos. Entonces, el acrónimo de \"Volver al futuro\" debería ser \"VAF\". "
      ]
    },
    {
      "cell_type": "code",
      "metadata": {
        "id": "EPaCFYcMB1LY"
      },
      "source": [
        "titulo = 'Volver al futuro'"
      ],
      "execution_count": null,
      "outputs": []
    },
    {
      "cell_type": "code",
      "metadata": {
        "colab": {
          "base_uri": "https://localhost:8080/"
        },
        "id": "O352TLH2B3Cd",
        "outputId": "6ac96797-db5f-4f68-e5f0-1fcfc6b37833"
      },
      "source": [
        "acronimo = ''\n",
        "titulo_lista = titulo.title().split()\n",
        "for palabra in titulo_lista:\n",
        "  acronimo = acronimo + palabra[0]\n",
        "print(acronimo)"
      ],
      "execution_count": null,
      "outputs": [
        {
          "output_type": "stream",
          "text": [
            "VAF\n"
          ],
          "name": "stdout"
        }
      ]
    },
    {
      "cell_type": "markdown",
      "metadata": {
        "id": "P52-HQyIWpqA"
      },
      "source": [
        "# Clase 2 - Errores y funciones"
      ]
    },
    {
      "cell_type": "markdown",
      "metadata": {
        "id": "NYhKyYTnWuTf"
      },
      "source": [
        "## El contador de palabras\n",
        "\n",
        "Una revista científica quiere publicar los abstracts de los trabajos que aprobó recientemente pero primero tiene que asegurarse de que ninguno de los abstracts tenga más de 200 palabras. \n",
        "\n",
        "Para interactuar con los archivos que tenemos en nuestro \"file system\" vamos a utilizar el módulo os. No se preocupen por entender todos los detalles ahora, vamos a ir profundizando en la utilización de módulos. "
      ]
    },
    {
      "cell_type": "code",
      "metadata": {
        "colab": {
          "base_uri": "https://localhost:8080/"
        },
        "id": "UO3fPsseW-xO",
        "outputId": "190fb33f-4304-4c71-f261-788bd56843c4"
      },
      "source": [
        "!wget https://datasets-humai.s3.amazonaws.com/datasets/publicaciones.zip"
      ],
      "execution_count": 1,
      "outputs": [
        {
          "output_type": "stream",
          "text": [
            "--2021-04-12 18:33:53--  https://datasets-humai.s3.amazonaws.com/datasets/publicaciones.zip\n",
            "Resolving datasets-humai.s3.amazonaws.com (datasets-humai.s3.amazonaws.com)... 52.216.21.35\n",
            "Connecting to datasets-humai.s3.amazonaws.com (datasets-humai.s3.amazonaws.com)|52.216.21.35|:443... connected.\n",
            "HTTP request sent, awaiting response... 200 OK\n",
            "Length: 4342 (4.2K) [application/zip]\n",
            "Saving to: ‘publicaciones.zip’\n",
            "\n",
            "publicaciones.zip   100%[===================>]   4.24K  --.-KB/s    in 0s      \n",
            "\n",
            "2021-04-12 18:33:53 (99.3 MB/s) - ‘publicaciones.zip’ saved [4342/4342]\n",
            "\n"
          ],
          "name": "stdout"
        }
      ]
    },
    {
      "cell_type": "code",
      "metadata": {
        "colab": {
          "base_uri": "https://localhost:8080/"
        },
        "id": "VxdiLX9OYYk4",
        "outputId": "cfd48d50-4d9b-4fd9-a2d7-206f909d0d74"
      },
      "source": [
        "!unzip publicaciones.zip"
      ],
      "execution_count": 2,
      "outputs": [
        {
          "output_type": "stream",
          "text": [
            "Archive:  publicaciones.zip\n",
            "   creating: publicaciones/\n",
            "  inflating: publicaciones/Yukon Delta Salmon Management.txt  \n",
            "  inflating: publicaciones/The Citrus Solution Phase II.txt  \n",
            "  inflating: publicaciones/Characterization of Iron Deposition in Recombinant Heteropolymer.txt  \n",
            "  inflating: publicaciones/Using GIS Site Suitability Analysis to Study Adaptability.txt  \n"
          ],
          "name": "stdout"
        }
      ]
    },
    {
      "cell_type": "code",
      "metadata": {
        "id": "oC83IC5dYfa5"
      },
      "source": [
        "import os "
      ],
      "execution_count": 3,
      "outputs": []
    },
    {
      "cell_type": "code",
      "metadata": {
        "id": "0wQO7BeGYgmR"
      },
      "source": [
        "archivos_directorio = os.listdir('publicaciones')"
      ],
      "execution_count": 4,
      "outputs": []
    },
    {
      "cell_type": "code",
      "metadata": {
        "colab": {
          "base_uri": "https://localhost:8080/"
        },
        "id": "tFRcUPPKYgpF",
        "outputId": "e06e0252-f5ae-48b2-945d-402703bd2eb6"
      },
      "source": [
        "print(archivos_directorio)"
      ],
      "execution_count": 5,
      "outputs": [
        {
          "output_type": "stream",
          "text": [
            "['The Citrus Solution Phase II.txt', 'Yukon Delta Salmon Management.txt', 'Characterization of Iron Deposition in Recombinant Heteropolymer.txt', 'Using GIS Site Suitability Analysis to Study Adaptability.txt']\n"
          ],
          "name": "stdout"
        }
      ]
    },
    {
      "cell_type": "markdown",
      "metadata": {
        "id": "t43NF04OYvKs"
      },
      "source": [
        "La función listdir nos devuelve una lista con todos los archivos que están en la carpeta publicaciones. Noten que solamente nos devuelve los nombres de los archivos, no la ruta completa que necesitamos para acceder a los mismos desde la ubicación en el filesystem donde se encuentra esta notebook.\n",
        "\n",
        "Las rutas hasta los archivos cambian con el sistema operativo, por eso si están en Windows, la forma de acceder al archivo Yukon Delta Salmon Management.txt es ejercicios\\\\Yukon Delta Salmon Management.txt mientras que si están en Linux o Unix la forma de acceder es ejercicios/Yukon Delta Salmon Management.txt .  Para evitar problemas y que el código sea ejecutable desde cualquier sistema operativo, el módulo os tiene la función os.join.\n",
        "\n",
        "Entonces para crear las rutas vamos a usar la función os.path.join y para esto es ideal una lista por comprensión"
      ]
    },
    {
      "cell_type": "code",
      "metadata": {
        "colab": {
          "base_uri": "https://localhost:8080/"
        },
        "id": "xU07LAb9Y6Xo",
        "outputId": "bc282ba8-660c-43fa-d4be-c58b8dce84bf"
      },
      "source": [
        "rutas_archivos = [os.path.join('publicaciones',archivo) for archivo in archivos_directorio]\n",
        "print(rutas_archivos)\n",
        "print(type(rutas_archivos))"
      ],
      "execution_count": 10,
      "outputs": [
        {
          "output_type": "stream",
          "text": [
            "['publicaciones/The Citrus Solution Phase II.txt', 'publicaciones/Yukon Delta Salmon Management.txt', 'publicaciones/Characterization of Iron Deposition in Recombinant Heteropolymer.txt', 'publicaciones/Using GIS Site Suitability Analysis to Study Adaptability.txt']\n",
            "<class 'list'>\n"
          ],
          "name": "stdout"
        }
      ]
    },
    {
      "cell_type": "markdown",
      "metadata": {
        "id": "mntnGWBbw4FR"
      },
      "source": [
        "Ahora sí, vamos a pedirles que creen una función que reciba una tupla con la ruta y el nombre del archivo. Necesitamos que esta función cuente las palabras que hay en el txt que se encuentra en esa ruta y luego imprima el nombre del archivo y la cantidad. \n",
        "Después vamos a escribir un for loop que recorra la lista tuplas_archivos y devuelve una tupla con el nombre del archivo y la cantidad de palabras. Desde el loop for vamos a imprimir esa tupla."
      ]
    },
    {
      "cell_type": "code",
      "metadata": {
        "id": "u7r1-1myxOK0"
      },
      "source": [
        "def cuenta_palabras(ruta, archivo):\n",
        "  with open(ruta, 'r') as f:\n",
        "    contenido = f.read()\n",
        "    palabras = contenido.split()  \n",
        "  return archivo + \" tiene \" + str(len(palabras)) + \" palabras\"\n",
        "#cant_palabras = cuenta_palabras('publicaciones/The Citrus Solution Phase II.txt','The Citrus Solution Phase II.txt')  "
      ],
      "execution_count": 61,
      "outputs": []
    },
    {
      "cell_type": "code",
      "metadata": {
        "colab": {
          "base_uri": "https://localhost:8080/"
        },
        "id": "VZDTljqwPABu",
        "outputId": "b940c470-c1b2-4f1a-a2d9-cc3fb28f071b"
      },
      "source": [
        "tuplas_archivos = [(rutas_archivos [i], archivos_directorio[i]) for i in range(len(archivos_directorio))]\n",
        "for archivos in tuplas_archivos:  \n",
        "  print(cuenta_palabras(archivos[0],archivos[1]))                "
      ],
      "execution_count": 62,
      "outputs": [
        {
          "output_type": "stream",
          "text": [
            "The Citrus Solution Phase II.txt tiene 518 palabras\n",
            "Yukon Delta Salmon Management.txt tiene 106 palabras\n",
            "Characterization of Iron Deposition in Recombinant Heteropolymer.txt tiene 217 palabras\n",
            "Using GIS Site Suitability Analysis to Study Adaptability.txt tiene 133 palabras\n"
          ],
          "name": "stdout"
        }
      ]
    },
    {
      "cell_type": "markdown",
      "metadata": {
        "id": "V-ral9_OeJp4"
      },
      "source": [
        "Entonces ¿Cuáles superan las 250 palabras? Si quieren ir una milla extra modifiquen la función para que devuelva True si supera y False si no supera en lugar de devolver la cantidad."
      ]
    },
    {
      "cell_type": "code",
      "metadata": {
        "id": "mBxQYMELeFr0"
      },
      "source": [
        "def cuenta_palabras(ruta, archivo):\n",
        "  with open(ruta, 'r') as f:\n",
        "    contenido = f.read()\n",
        "    palabras = contenido.split()  \n",
        "    if len(palabras) > 250:\n",
        "      return True\n",
        "    else:\n",
        "      pass\n",
        "#cant_palabras = cuenta_palabras('publicaciones/The Citrus Solution Phase II.txt','The Citrus Solution Phase II.txt')  "
      ],
      "execution_count": 71,
      "outputs": []
    },
    {
      "cell_type": "code",
      "metadata": {
        "colab": {
          "base_uri": "https://localhost:8080/"
        },
        "id": "-_alADUOef-w",
        "outputId": "9290077a-514e-4d03-fab4-844b422b3f10"
      },
      "source": [
        "tuplas_archivos = [(rutas_archivos [i], archivos_directorio[i]) for i in range(len(archivos_directorio))]\n",
        "for archivos in tuplas_archivos:  \n",
        "  if cuenta_palabras(archivos[0],archivos[1]):\n",
        "    print(archivos[1])"
      ],
      "execution_count": 74,
      "outputs": [
        {
          "output_type": "stream",
          "text": [
            "The Citrus Solution Phase II.txt\n"
          ],
          "name": "stdout"
        }
      ]
    },
    {
      "cell_type": "markdown",
      "metadata": {
        "id": "RQPCfvAwhUz1"
      },
      "source": [
        "### Otra solución"
      ]
    },
    {
      "cell_type": "markdown",
      "metadata": {
        "id": "kwFj_YQ9jVlr"
      },
      "source": [
        "Ahora vamos a unir estas dos listas del mismo tamaño en una lista de tuplas utilizando la función \"zip\" de Python nativo. Como el zip de Python devuelve un objeto iterable, vamos a convertirlo en lista para trabajar mejor"
      ]
    },
    {
      "cell_type": "code",
      "metadata": {
        "id": "bNl7jWWFhYsc"
      },
      "source": [
        "tuplas_archivos = list(zip(rutas_archivos,archivos_directorio))"
      ],
      "execution_count": 76,
      "outputs": []
    },
    {
      "cell_type": "code",
      "metadata": {
        "id": "foOfr2xmhzNe",
        "outputId": "43170f13-8a3b-43a5-d209-e77f8fd92b1f",
        "colab": {
          "base_uri": "https://localhost:8080/"
        }
      },
      "source": [
        "for tupla in tuplas_archivos:\n",
        "    print(tupla)"
      ],
      "execution_count": 77,
      "outputs": [
        {
          "output_type": "stream",
          "text": [
            "('publicaciones/The Citrus Solution Phase II.txt', 'The Citrus Solution Phase II.txt')\n",
            "('publicaciones/Yukon Delta Salmon Management.txt', 'Yukon Delta Salmon Management.txt')\n",
            "('publicaciones/Characterization of Iron Deposition in Recombinant Heteropolymer.txt', 'Characterization of Iron Deposition in Recombinant Heteropolymer.txt')\n",
            "('publicaciones/Using GIS Site Suitability Analysis to Study Adaptability.txt', 'Using GIS Site Suitability Analysis to Study Adaptability.txt')\n"
          ],
          "name": "stdout"
        }
      ]
    },
    {
      "cell_type": "code",
      "metadata": {
        "id": "g-JCL32Lh7m-"
      },
      "source": [
        "# 1. Escribir la función \n",
        "def contar_palabras(tupla):\n",
        "    ruta = tupla[0]\n",
        "    nombre = tupla[1]\n",
        "    with open(ruta, 'r') as inp:\n",
        "        string_contenido = inp.read()\n",
        "    palabras = string_contenido.split(' ')\n",
        "    cantidad_palabras = len(palabras)\n",
        "    return (nombre, cantidad_palabras)"
      ],
      "execution_count": 79,
      "outputs": []
    },
    {
      "cell_type": "code",
      "metadata": {
        "id": "jfMVzxdOjmgZ",
        "outputId": "72348b55-66e6-4f59-d8f4-f88fd6dcfa11",
        "colab": {
          "base_uri": "https://localhost:8080/"
        }
      },
      "source": [
        "# 2. Recorrer en un loop tuplas_archivos invocando a la función\n",
        "for tupla in tuplas_archivos:\n",
        "    print(contar_palabras(tupla))"
      ],
      "execution_count": 80,
      "outputs": [
        {
          "output_type": "stream",
          "text": [
            "('The Citrus Solution Phase II.txt', 519)\n",
            "('Yukon Delta Salmon Management.txt', 109)\n",
            "('Characterization of Iron Deposition in Recombinant Heteropolymer.txt', 217)\n",
            "('Using GIS Site Suitability Analysis to Study Adaptability.txt', 134)\n"
          ],
          "name": "stdout"
        }
      ]
    },
    {
      "cell_type": "markdown",
      "metadata": {
        "id": "2wB2sPDUjw_R"
      },
      "source": [
        "Entonces ¿Cuáles superan las 250 palabras? Si quieren ir una milla extra modifiquen la función para que devuelva True si supera y False si no supera en lugar de devolver la cantidad. "
      ]
    },
    {
      "cell_type": "code",
      "metadata": {
        "id": "zkl6Ou8Oj1uz"
      },
      "source": [
        "# 3. Modifiquen la función\n",
        "def contar_palabras(tupla):\n",
        "    ruta = tupla[0]\n",
        "    nombre = tupla[1]\n",
        "    with open(ruta, 'r') as inp:\n",
        "        string_contenido = inp.read()\n",
        "    palabras = string_contenido.split(' ')\n",
        "    cantidad_palabras = len(palabras)\n",
        "    supera = False\n",
        "    if cantidad_palabras > 250:\n",
        "        supera = True\n",
        "    return (nombre, supera)"
      ],
      "execution_count": 81,
      "outputs": []
    },
    {
      "cell_type": "code",
      "metadata": {
        "id": "gKRITDmbj6FM",
        "outputId": "a6c74a80-087e-463e-ead9-8d33aee898b1",
        "colab": {
          "base_uri": "https://localhost:8080/"
        }
      },
      "source": [
        "#4. Vuelvan a llamarla\n",
        "for tupla in tuplas_archivos:\n",
        "    print(contar_palabras(tupla))"
      ],
      "execution_count": 82,
      "outputs": [
        {
          "output_type": "stream",
          "text": [
            "('The Citrus Solution Phase II.txt', True)\n",
            "('Yukon Delta Salmon Management.txt', False)\n",
            "('Characterization of Iron Deposition in Recombinant Heteropolymer.txt', False)\n",
            "('Using GIS Site Suitability Analysis to Study Adaptability.txt', False)\n"
          ],
          "name": "stdout"
        }
      ]
    }
  ]
}