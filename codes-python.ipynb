{
  "nbformat": 4,
  "nbformat_minor": 0,
  "metadata": {
    "colab": {
      "name": "codes-python.ipynb",
      "provenance": [],
      "toc_visible": true,
      "authorship_tag": "ABX9TyOwx27tn0dcvDz4XWbGppVo",
      "include_colab_link": true
    },
    "kernelspec": {
      "name": "python3",
      "display_name": "Python 3"
    },
    "language_info": {
      "name": "python"
    }
  },
  "cells": [
    {
      "cell_type": "markdown",
      "metadata": {
        "id": "view-in-github",
        "colab_type": "text"
      },
      "source": [
        "<a href=\"https://colab.research.google.com/github/CarlosRochaA/codes-python-/blob/main/codes-python.ipynb\" target=\"_parent\"><img src=\"https://colab.research.google.com/assets/colab-badge.svg\" alt=\"Open In Colab\"/></a>"
      ]
    },
    {
      "cell_type": "markdown",
      "metadata": {
        "id": "eBbaZmiioHt6"
      },
      "source": [
        "# Tipos de Datos"
      ]
    },
    {
      "cell_type": "code",
      "metadata": {
        "colab": {
          "base_uri": "https://localhost:8080/"
        },
        "id": "PfiXJSTl0Vru",
        "outputId": "a785c62e-90d7-4357-832b-79c079ed6baf"
      },
      "source": [
        "x = 5\n",
        "y = 17\n",
        "\n",
        "print(x+y) # suma\n",
        "print(x*2) # multiplicacion\n",
        "print(x**(1/2)) # elevado a \n",
        "print(y / x) # División\n",
        "print(y // x)  # Parte entera de la división\n",
        "print(y % x) # Devuelve el resto\n",
        "\n",
        "type(x), type(y)\n"
      ],
      "execution_count": 4,
      "outputs": [
        {
          "output_type": "stream",
          "text": [
            "22\n",
            "10\n",
            "2.23606797749979\n",
            "3.4\n",
            "3\n",
            "2\n"
          ],
          "name": "stdout"
        },
        {
          "output_type": "execute_result",
          "data": {
            "text/plain": [
              "(int, int)"
            ]
          },
          "metadata": {
            "tags": []
          },
          "execution_count": 4
        }
      ]
    },
    {
      "cell_type": "markdown",
      "metadata": {
        "id": "PgyayOWbpYzT"
      },
      "source": [
        "## Operadores diponibles"
      ]
    },
    {
      "cell_type": "markdown",
      "metadata": {
        "id": "1fNhyC00pKhY"
      },
      "source": [
        "Los operadores disponibles son: \n",
        "\n",
        "    Relacionales:\n",
        "    - >= , <=, <, > : Mayor o igual, menor o igual, mayor o menor\n",
        "    - != , == : Distinto, Igual\n",
        "    - in : Contenido por \n",
        "    Lógicos:\n",
        "    - not o ~ : Negación\n",
        "    - and o & : Ambas verdaderas\n",
        "    - or o | : Una u otra es verdadera\n",
        "    \n",
        "Como booleanos, se pueden utilizar tanto 0 y 1 como True y False."
      ]
    },
    {
      "cell_type": "markdown",
      "metadata": {
        "id": "0NudoTlVrvv_"
      },
      "source": [
        "## Strings"
      ]
    },
    {
      "cell_type": "markdown",
      "metadata": {
        "id": "IsGhr4SzsM5m"
      },
      "source": [
        "También podemos usar los índices para traer más de un elemento al mismo tiempo, usando el **slicing**. El slicing lleva tres parámetros: comienzo (start), final (stop) e intervalo o paso (step).\n",
        "\n",
        "- El parámetro comienzo (start) indica la primera posición incluida en la selección, por default es 0.\n",
        "\n",
        "- El parámetro final (stop) es la primera posición que NO va a estar incluída, por default se incluyen todos los elementos. \n",
        "\n",
        "- El parámetro intervalo o paso (step), es optativo e indica el tamaño del paso entre seleccionar un elemento y el siguiente, por default el paso es 1. El paso también puede ser negativo, en este caso contamos desde el final hacia el comienzo, esto es muy útil para dar vuelta los strings...\n",
        "\n",
        "    \n",
        "    [comienzo : final : intervalo] (en inglés es [start : stop : step] )\n",
        "    \n",
        "    \n",
        "El intervalo que se recibe es semi-abierto (indice_primero, indice_segundo], es decir se incluye el primero y no el segundo valor. Se admiten números negativos, que contabilizan desde el final."
      ]
    },
    {
      "cell_type": "code",
      "metadata": {
        "id": "EuwRUcXTryRM",
        "outputId": "7f06d6db-e339-47f3-bc79-d75b4ee33321",
        "colab": {
          "base_uri": "https://localhost:8080/"
        }
      },
      "source": [
        "texto = \"programación en python\"\n",
        "print(texto[0])\n",
        "print(texto[:])\n",
        "print(texto[:1])\n",
        "print(texto[1:4])\n",
        "print(texto[::-1])\n",
        "print(texto[16:23])\n",
        "print(texto[-6:])\n",
        "print(texto[-6:23:1])\n",
        "print(texto.upper())\n",
        "print(texto.title())\n",
        "print(texto.split()) # Devuelve una lista"
      ],
      "execution_count": 9,
      "outputs": [
        {
          "output_type": "stream",
          "text": [
            "p\n",
            "programación en python\n",
            "p\n",
            "rog\n",
            "nohtyp ne nóicamargorp\n",
            "python\n",
            "python\n",
            "python\n",
            "PROGRAMACIÓN EN PYTHON\n",
            "Programación En Python\n",
            "['programación', 'en', 'python']\n"
          ],
          "name": "stdout"
        }
      ]
    },
    {
      "cell_type": "markdown",
      "metadata": {
        "id": "RmO7Auyn1qNK"
      },
      "source": [
        "Otras formas de combinar texto"
      ]
    },
    {
      "cell_type": "code",
      "metadata": {
        "id": "Z7VkiZmlsWiK",
        "outputId": "0a48b75f-1296-48c8-faec-88f86dda4767",
        "colab": {
          "base_uri": "https://localhost:8080/"
        }
      },
      "source": [
        "tema = 'data science'\n",
        "modales = 'por favor'\n",
        "print('Dame información de {0} si esta disponible, {1}'.format(tema, modales))\n",
        "print(f'Dame información de {tema.upper()} si esta disponible, {modales}') # mas utilizada\n",
        "print(\"1000\".isdigit()) # verifica si un texto se puede castear como entero\n",
        "print(\"   quitando espacios  \".strip()) # quita espacios adelante y atras\n",
        "texto = \"Me gusta el 37\" # Piso el contenido de la variable para hacer otras pruebas\n",
        "print(texto.replace(' ', '...'))\n",
        "print(texto.isalpha())\n",
        "texto = \"Me\" # Piso el contenido de la variable\n",
        "print(texto.isalpha()) # pregunta si todo esta compuesto por letras o es una combinacion\n",
        "str1 = \"Hola\"\n",
        "str2 = \"qué tal\"\n",
        "print( f\"{str1}{str2}\")\n",
        "resultado = f\"{str1} {str2}\" # Note el espacio\n",
        "print(resultado)"
      ],
      "execution_count": 18,
      "outputs": [
        {
          "output_type": "stream",
          "text": [
            "Dame información de data science si esta disponible, por favor\n",
            "Dame información de DATA SCIENCE si esta disponible, por favor\n",
            "True\n",
            "quitando espacios\n",
            "Me...gusta...el...37\n",
            "False\n",
            "True\n",
            "Holaqué tal\n",
            "Hola qué tal\n"
          ],
          "name": "stdout"
        }
      ]
    },
    {
      "cell_type": "markdown",
      "metadata": {
        "id": "lTcFgE3M-jI_"
      },
      "source": [
        "## Listas"
      ]
    },
    {
      "cell_type": "code",
      "metadata": {
        "id": "ubGQ1zJr-wkR",
        "outputId": "f0282f40-9162-4dd9-8f20-2868c414a6e7",
        "colab": {
          "base_uri": "https://localhost:8080/"
        }
      },
      "source": [
        "amigos =  ['Mateo', 'Nico', 'Claudia', 'Ernestina', 'Paola']\n",
        "print(amigos[0])  # Devuelve un string\n",
        "print(type(amigos[0]))\n",
        "print(amigos[:1]) # arranco en 0 y el primero sin incluir es el 1, con el paso default (1), devuelve una lista\n",
        "print(type(amigos[:1]))\n",
        "print(\" \")\n",
        "print(amigos[-1]) # Último elemento, devuelve un string\n",
        "print(amigos[:]) # arranco en 0 hasta el final, con el paso default (1)\n",
        "print(amigos[:-1]) # excluímos el último elemento\n",
        "print(amigos[::2]) # salteamos un elemento a la vez\n",
        "print(amigos[::-1]) # lista de atras hacia adelante"
      ],
      "execution_count": 34,
      "outputs": [
        {
          "output_type": "stream",
          "text": [
            "Mateo\n",
            "<class 'str'>\n",
            "['Mateo']\n",
            "<class 'list'>\n",
            " \n",
            "Paola\n",
            "['Mateo', 'Nico', 'Claudia', 'Ernestina', 'Paola']\n",
            "['Mateo', 'Nico', 'Claudia', 'Ernestina']\n",
            "['Mateo', 'Claudia', 'Paola']\n",
            "['Paola', 'Ernestina', 'Claudia', 'Nico', 'Mateo']\n"
          ],
          "name": "stdout"
        }
      ]
    },
    {
      "cell_type": "code",
      "metadata": {
        "id": "VeUTuIJ3UetC",
        "outputId": "2f0ee2ed-03d7-4d83-e8a1-17df76f066bc",
        "colab": {
          "base_uri": "https://localhost:8080/"
        }
      },
      "source": [
        "amigos =  ['Mateo', 'Nico', 'Claudia', 'Ernestina', 'Paola']\n",
        "# Formas de agregar items a la \n",
        "amigos.append('Chicharito')\n",
        "# print(amigos)\n",
        "amigos = amigos + ['Chicharito']\n",
        "print(amigos)\n",
        "# Suma de listas\n",
        "print(amigos + ['Pipi', 'Toto'])\n",
        "amigos_sep = ';'.join(amigos) # devuelve un string  \n",
        "print(amigos_sep)  \n",
        "amigos.remove('Chicharito') # Elimina sólo un elemento, la primera coincidencia\n",
        "print(amigos)\n",
        "del amigos[0]   # Eliminacion por índice\n",
        "print(amigos)\n",
        "valor = amigos.pop(0) # Devuelve un elemento y lo borra de la lista\n",
        "print(valor)\n",
        "print(amigos)"
      ],
      "execution_count": 3,
      "outputs": [
        {
          "output_type": "stream",
          "text": [
            "['Mateo', 'Nico', 'Claudia', 'Ernestina', 'Paola', 'Chicharito', 'Chicharito']\n",
            "['Mateo', 'Nico', 'Claudia', 'Ernestina', 'Paola', 'Chicharito', 'Chicharito', 'Pipi', 'Toto']\n",
            "Mateo;Nico;Claudia;Ernestina;Paola;Chicharito;Chicharito\n",
            "['Mateo', 'Nico', 'Claudia', 'Ernestina', 'Paola', 'Chicharito']\n",
            "['Nico', 'Claudia', 'Ernestina', 'Paola', 'Chicharito']\n",
            "Nico\n",
            "['Claudia', 'Ernestina', 'Paola', 'Chicharito']\n"
          ],
          "name": "stdout"
        }
      ]
    },
    {
      "cell_type": "code",
      "metadata": {
        "id": "MQZZghcrLeMD",
        "outputId": "193b050c-1af6-462e-8f96-4e2be98d1c5d",
        "colab": {
          "base_uri": "https://localhost:8080/"
        }
      },
      "source": [
        "edades = [30, 48, 38, 30, 37]\n",
        "print(edades.count(30)) # Cantidad de apariciones\n",
        "print(len(edades)) # Largo de la lista\n",
        "print(sorted(edades)) # Ordenamiento\n",
        "print(edades)\n",
        "print(sum(edades)) \n",
        "print(min(edades))\n",
        "print(max(edades))"
      ],
      "execution_count": 10,
      "outputs": [
        {
          "output_type": "stream",
          "text": [
            "2\n",
            "5\n",
            "[30, 30, 37, 38, 48]\n",
            "[30, 48, 38, 30, 37]\n",
            "183\n",
            "30\n",
            "48\n"
          ],
          "name": "stdout"
        }
      ]
    },
    {
      "cell_type": "markdown",
      "metadata": {
        "id": "YhODXAgcc-F9"
      },
      "source": [
        "## Diccionarios"
      ]
    },
    {
      "cell_type": "code",
      "metadata": {
        "id": "nFZdqmP9KwBn",
        "outputId": "262f0243-1db2-45ca-abd3-049882ed94a5",
        "colab": {
          "base_uri": "https://localhost:8080/"
        }
      },
      "source": [
        "dnis = {'Herrera':32676585, 'Guzmán':9564787, \n",
        "        'Pérez':5676898, 'Hernández':40565999, \n",
        "        'Abraham':28375814,\n",
        "       \"soy_una_llave\":\"soy_un_valor\"} \n",
        "print(dnis['Abraham']) # noten que se usa la misma notación que con las listas, pero no es posible acceder por indices\n",
        "print(dnis.keys()) # Muestra todas las llaves, devuelve un tipo dict_keys\n",
        "print(type(dnis.keys()))\n",
        "print(dnis.items()) # Muestra todos los pares de elementos, devuelve un tipo dict_items\n",
        "print(type(dnis.items()))\n",
        "dnis.pop('Herrera')   # metodo igual al de listas\n",
        "print(dnis.items())\n",
        "print(len(dnis))   # cantidad de pares"
      ],
      "execution_count": 16,
      "outputs": [
        {
          "output_type": "stream",
          "text": [
            "28375814\n",
            "dict_keys(['Herrera', 'Guzmán', 'Pérez', 'Hernández', 'Abraham', 'soy_una_llave'])\n",
            "<class 'dict_keys'>\n",
            "dict_items([('Herrera', 32676585), ('Guzmán', 9564787), ('Pérez', 5676898), ('Hernández', 40565999), ('Abraham', 28375814), ('soy_una_llave', 'soy_un_valor')])\n",
            "<class 'dict_items'>\n",
            "dict_items([('Guzmán', 9564787), ('Pérez', 5676898), ('Hernández', 40565999), ('Abraham', 28375814), ('soy_una_llave', 'soy_un_valor')])\n",
            "5\n"
          ],
          "name": "stdout"
        }
      ]
    },
    {
      "cell_type": "markdown",
      "metadata": {
        "id": "DVFaHJI-eZdP"
      },
      "source": [
        "## Condicionales <a name=\"section-9\"></a>"
      ]
    },
    {
      "cell_type": "code",
      "metadata": {
        "id": "zTWwLN0UeY8S",
        "outputId": "d9a7c249-536e-4bf8-bdc9-31cc2afa591c",
        "colab": {
          "base_uri": "https://localhost:8080/"
        }
      },
      "source": [
        "precio_dolar = 62\n",
        "\n",
        "if precio_dolar >= 90:\n",
        "    print(\"El dólar se fue por las nubes\")\n",
        "elif (precio_dolar < 90) and (precio_dolar >= 70):\n",
        "    print(\"El dolar subió\")\n",
        "else: \n",
        "    print(\"El dólar es menor a 70\")\n",
        "\n",
        "print(precio_dolar)"
      ],
      "execution_count": 18,
      "outputs": [
        {
          "output_type": "stream",
          "text": [
            "El dólar es menor a 70\n",
            "62\n"
          ],
          "name": "stdout"
        }
      ]
    },
    {
      "cell_type": "code",
      "metadata": {
        "id": "2FBNYyzreotJ"
      },
      "source": [
        ""
      ],
      "execution_count": null,
      "outputs": []
    },
    {
      "cell_type": "markdown",
      "metadata": {
        "id": "mXfccDjKepur"
      },
      "source": [
        "## Bucles"
      ]
    },
    {
      "cell_type": "markdown",
      "metadata": {
        "id": "Cp8DZ5NBewdG"
      },
      "source": [
        "### For loop"
      ]
    },
    {
      "cell_type": "code",
      "metadata": {
        "id": "yjHbepnTeyYj",
        "outputId": "72fa0b76-5b4e-47cb-cafe-9c8e71cda89a",
        "colab": {
          "base_uri": "https://localhost:8080/"
        }
      },
      "source": [
        "for n in [1,2,'3']:\n",
        "    print(f'EL tipo es {n*2} {type(n*2)}')\n",
        "\n",
        "lista = [1,2,3,4,5]\n",
        "\n",
        "for n in lista:\n",
        "    print(n * 2)"
      ],
      "execution_count": 19,
      "outputs": [
        {
          "output_type": "stream",
          "text": [
            "EL tipo es 2 <class 'int'>\n",
            "EL tipo es 4 <class 'int'>\n",
            "EL tipo es 33 <class 'str'>\n",
            "2\n",
            "4\n",
            "6\n",
            "8\n",
            "10\n"
          ],
          "name": "stdout"
        }
      ]
    },
    {
      "cell_type": "code",
      "metadata": {
        "id": "yv2IQGmFe8fN",
        "outputId": "e7ea1c79-1e79-4c58-ca82-b41d83fb18ca",
        "colab": {
          "base_uri": "https://localhost:8080/"
        }
      },
      "source": [
        "for n in range(5):     # maneja un intervalo abierto\n",
        "    print(n)\n",
        "print(\"\")\n",
        "for n in range(0,5,2):# range puede recibir los parametros de start, stop, step\n",
        "    print(n)"
      ],
      "execution_count": 21,
      "outputs": [
        {
          "output_type": "stream",
          "text": [
            "0\n",
            "1\n",
            "2\n",
            "3\n",
            "4\n",
            "\n",
            "0\n",
            "2\n",
            "4\n"
          ],
          "name": "stdout"
        }
      ]
    },
    {
      "cell_type": "markdown",
      "metadata": {
        "id": "xj4FFcv7-26Z"
      },
      "source": [
        "### While"
      ]
    },
    {
      "cell_type": "code",
      "metadata": {
        "id": "h1k9-E0D-x5Z",
        "outputId": "28100d96-bc9a-41f1-b4a9-032692936305",
        "colab": {
          "base_uri": "https://localhost:8080/"
        }
      },
      "source": [
        "contador = 0\n",
        "\n",
        "while contador < 5:\n",
        "    contador += 1 # esto equivale a count = count + 1\n",
        "    print(contador)"
      ],
      "execution_count": 2,
      "outputs": [
        {
          "output_type": "stream",
          "text": [
            "1\n",
            "2\n",
            "3\n",
            "4\n",
            "5\n"
          ],
          "name": "stdout"
        }
      ]
    }
  ]
}