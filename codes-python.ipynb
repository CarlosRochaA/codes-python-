{
  "nbformat": 4,
  "nbformat_minor": 0,
  "metadata": {
    "colab": {
      "name": "codes-python.ipynb",
      "provenance": [],
      "toc_visible": true,
      "authorship_tag": "ABX9TyNhxHLwq0RWM/KKEfi7ya7m",
      "include_colab_link": true
    },
    "kernelspec": {
      "name": "python3",
      "display_name": "Python 3"
    },
    "language_info": {
      "name": "python"
    }
  },
  "cells": [
    {
      "cell_type": "markdown",
      "metadata": {
        "id": "view-in-github",
        "colab_type": "text"
      },
      "source": [
        "<a href=\"https://colab.research.google.com/github/CarlosRochaA/codes-python-/blob/main/codes-python.ipynb\" target=\"_parent\"><img src=\"https://colab.research.google.com/assets/colab-badge.svg\" alt=\"Open In Colab\"/></a>"
      ]
    },
    {
      "cell_type": "markdown",
      "metadata": {
        "id": "eBbaZmiioHt6"
      },
      "source": [
        "# Tipos de Datos"
      ]
    },
    {
      "cell_type": "code",
      "metadata": {
        "colab": {
          "base_uri": "https://localhost:8080/"
        },
        "id": "PfiXJSTl0Vru",
        "outputId": "a785c62e-90d7-4357-832b-79c079ed6baf"
      },
      "source": [
        "x = 5\n",
        "y = 17\n",
        "\n",
        "print(x+y) # suma\n",
        "print(x*2) # multiplicacion\n",
        "print(x**(1/2)) # elevado a \n",
        "print(y / x) # División\n",
        "print(y // x)  # Parte entera de la división\n",
        "print(y % x) # Devuelve el resto\n",
        "\n",
        "type(x), type(y)\n"
      ],
      "execution_count": 4,
      "outputs": [
        {
          "output_type": "stream",
          "text": [
            "22\n",
            "10\n",
            "2.23606797749979\n",
            "3.4\n",
            "3\n",
            "2\n"
          ],
          "name": "stdout"
        },
        {
          "output_type": "execute_result",
          "data": {
            "text/plain": [
              "(int, int)"
            ]
          },
          "metadata": {
            "tags": []
          },
          "execution_count": 4
        }
      ]
    },
    {
      "cell_type": "markdown",
      "metadata": {
        "id": "PgyayOWbpYzT"
      },
      "source": [
        "## Operadores diponibles"
      ]
    },
    {
      "cell_type": "markdown",
      "metadata": {
        "id": "1fNhyC00pKhY"
      },
      "source": [
        "Los operadores disponibles son: \n",
        "\n",
        "    Relacionales:\n",
        "    - >= , <=, <, > : Mayor o igual, menor o igual, mayor o menor\n",
        "    - != , == : Distinto, Igual\n",
        "    - in : Contenido por \n",
        "    Lógicos:\n",
        "    - not o ~ : Negación\n",
        "    - and o & : Ambas verdaderas\n",
        "    - or o | : Una u otra es verdadera\n",
        "    \n",
        "Como booleanos, se pueden utilizar tanto 0 y 1 como True y False."
      ]
    },
    {
      "cell_type": "markdown",
      "metadata": {
        "id": "0NudoTlVrvv_"
      },
      "source": [
        "## Strings"
      ]
    },
    {
      "cell_type": "markdown",
      "metadata": {
        "id": "IsGhr4SzsM5m"
      },
      "source": [
        "También podemos usar los índices para traer más de un elemento al mismo tiempo, usando el **slicing**. El slicing lleva tres parámetros: comienzo (start), final (stop) e intervalo o paso (step).\n",
        "\n",
        "- El parámetro comienzo (start) indica la primera posición incluida en la selección, por default es 0.\n",
        "\n",
        "- El parámetro final (stop) es la primera posición que NO va a estar incluída, por default se incluyen todos los elementos. \n",
        "\n",
        "- El parámetro intervalo o paso (step), es optativo e indica el tamaño del paso entre seleccionar un elemento y el siguiente, por default el paso es 1. El paso también puede ser negativo, en este caso contamos desde el final hacia el comienzo, esto es muy útil para dar vuelta los strings...\n",
        "\n",
        "    \n",
        "    [comienzo : final : intervalo] (en inglés es [start : stop : step] )\n",
        "    \n",
        "    \n",
        "El intervalo que se recibe es semi-abierto (indice_primero, indice_segundo], es decir se incluye el primero y no el segundo valor. Se admiten números negativos, que contabilizan desde el final."
      ]
    },
    {
      "cell_type": "code",
      "metadata": {
        "colab": {
          "base_uri": "https://localhost:8080/"
        },
        "id": "EuwRUcXTryRM",
        "outputId": "7f06d6db-e339-47f3-bc79-d75b4ee33321"
      },
      "source": [
        "texto = \"programación en python\"\n",
        "print(texto[0])\n",
        "print(texto[:])\n",
        "print(texto[:1])\n",
        "print(texto[1:4])\n",
        "print(texto[::-1])\n",
        "print(texto[16:23])\n",
        "print(texto[-6:])\n",
        "print(texto[-6:23:1])\n",
        "print(texto.upper())\n",
        "print(texto.title())\n",
        "print(texto.split()) # Devuelve una lista"
      ],
      "execution_count": 9,
      "outputs": [
        {
          "output_type": "stream",
          "text": [
            "p\n",
            "programación en python\n",
            "p\n",
            "rog\n",
            "nohtyp ne nóicamargorp\n",
            "python\n",
            "python\n",
            "python\n",
            "PROGRAMACIÓN EN PYTHON\n",
            "Programación En Python\n",
            "['programación', 'en', 'python']\n"
          ],
          "name": "stdout"
        }
      ]
    },
    {
      "cell_type": "markdown",
      "metadata": {
        "id": "RmO7Auyn1qNK"
      },
      "source": [
        "Otras formas de combinar texto"
      ]
    },
    {
      "cell_type": "code",
      "metadata": {
        "colab": {
          "base_uri": "https://localhost:8080/"
        },
        "id": "Z7VkiZmlsWiK",
        "outputId": "0a48b75f-1296-48c8-faec-88f86dda4767"
      },
      "source": [
        "tema = 'data science'\n",
        "modales = 'por favor'\n",
        "print('Dame información de {0} si esta disponible, {1}'.format(tema, modales))\n",
        "print(f'Dame información de {tema.upper()} si esta disponible, {modales}') # mas utilizada\n",
        "print(\"1000\".isdigit()) # verifica si un texto se puede castear como entero\n",
        "print(\"   quitando espacios  \".strip()) # quita espacios adelante y atras\n",
        "texto = \"Me gusta el 37\" # Piso el contenido de la variable para hacer otras pruebas\n",
        "print(texto.replace(' ', '...'))\n",
        "print(texto.isalpha())\n",
        "texto = \"Me\" # Piso el contenido de la variable\n",
        "print(texto.isalpha()) # pregunta si todo esta compuesto por letras o es una combinacion\n",
        "str1 = \"Hola\"\n",
        "str2 = \"qué tal\"\n",
        "print( f\"{str1}{str2}\")\n",
        "resultado = f\"{str1} {str2}\" # Note el espacio\n",
        "print(resultado)"
      ],
      "execution_count": 18,
      "outputs": [
        {
          "output_type": "stream",
          "text": [
            "Dame información de data science si esta disponible, por favor\n",
            "Dame información de DATA SCIENCE si esta disponible, por favor\n",
            "True\n",
            "quitando espacios\n",
            "Me...gusta...el...37\n",
            "False\n",
            "True\n",
            "Holaqué tal\n",
            "Hola qué tal\n"
          ],
          "name": "stdout"
        }
      ]
    },
    {
      "cell_type": "markdown",
      "metadata": {
        "id": "lTcFgE3M-jI_"
      },
      "source": [
        "## Listas"
      ]
    },
    {
      "cell_type": "code",
      "metadata": {
        "colab": {
          "base_uri": "https://localhost:8080/"
        },
        "id": "ubGQ1zJr-wkR",
        "outputId": "f0282f40-9162-4dd9-8f20-2868c414a6e7"
      },
      "source": [
        "amigos =  ['Mateo', 'Nico', 'Claudia', 'Ernestina', 'Paola']\n",
        "print(amigos[0])  # Devuelve un string\n",
        "print(type(amigos[0]))\n",
        "print(amigos[:1]) # arranco en 0 y el primero sin incluir es el 1, con el paso default (1), devuelve una lista\n",
        "print(type(amigos[:1]))\n",
        "print(\" \")\n",
        "print(amigos[-1]) # Último elemento, devuelve un string\n",
        "print(amigos[:]) # arranco en 0 hasta el final, con el paso default (1)\n",
        "print(amigos[:-1]) # excluímos el último elemento\n",
        "print(amigos[::2]) # salteamos un elemento a la vez\n",
        "print(amigos[::-1]) # lista de atras hacia adelante"
      ],
      "execution_count": 34,
      "outputs": [
        {
          "output_type": "stream",
          "text": [
            "Mateo\n",
            "<class 'str'>\n",
            "['Mateo']\n",
            "<class 'list'>\n",
            " \n",
            "Paola\n",
            "['Mateo', 'Nico', 'Claudia', 'Ernestina', 'Paola']\n",
            "['Mateo', 'Nico', 'Claudia', 'Ernestina']\n",
            "['Mateo', 'Claudia', 'Paola']\n",
            "['Paola', 'Ernestina', 'Claudia', 'Nico', 'Mateo']\n"
          ],
          "name": "stdout"
        }
      ]
    },
    {
      "cell_type": "code",
      "metadata": {
        "colab": {
          "base_uri": "https://localhost:8080/"
        },
        "id": "VeUTuIJ3UetC",
        "outputId": "2f0ee2ed-03d7-4d83-e8a1-17df76f066bc"
      },
      "source": [
        "amigos =  ['Mateo', 'Nico', 'Claudia', 'Ernestina', 'Paola']\n",
        "# Formas de agregar items a la \n",
        "amigos.append('Chicharito')\n",
        "# print(amigos)\n",
        "amigos = amigos + ['Chicharito']\n",
        "print(amigos)\n",
        "# Suma de listas\n",
        "print(amigos + ['Pipi', 'Toto'])\n",
        "amigos_sep = ';'.join(amigos) # devuelve un string  \n",
        "print(amigos_sep)  \n",
        "amigos.remove('Chicharito') # Elimina sólo un elemento, la primera coincidencia\n",
        "print(amigos)\n",
        "del amigos[0]   # Eliminacion por índice\n",
        "print(amigos)\n",
        "valor = amigos.pop(0) # Devuelve un elemento y lo borra de la lista\n",
        "print(valor)\n",
        "print(amigos)"
      ],
      "execution_count": 3,
      "outputs": [
        {
          "output_type": "stream",
          "text": [
            "['Mateo', 'Nico', 'Claudia', 'Ernestina', 'Paola', 'Chicharito', 'Chicharito']\n",
            "['Mateo', 'Nico', 'Claudia', 'Ernestina', 'Paola', 'Chicharito', 'Chicharito', 'Pipi', 'Toto']\n",
            "Mateo;Nico;Claudia;Ernestina;Paola;Chicharito;Chicharito\n",
            "['Mateo', 'Nico', 'Claudia', 'Ernestina', 'Paola', 'Chicharito']\n",
            "['Nico', 'Claudia', 'Ernestina', 'Paola', 'Chicharito']\n",
            "Nico\n",
            "['Claudia', 'Ernestina', 'Paola', 'Chicharito']\n"
          ],
          "name": "stdout"
        }
      ]
    },
    {
      "cell_type": "code",
      "metadata": {
        "colab": {
          "base_uri": "https://localhost:8080/"
        },
        "id": "MQZZghcrLeMD",
        "outputId": "193b050c-1af6-462e-8f96-4e2be98d1c5d"
      },
      "source": [
        "edades = [30, 48, 38, 30, 37]\n",
        "print(edades.count(30)) # Cantidad de apariciones\n",
        "print(len(edades)) # Largo de la lista\n",
        "print(sorted(edades)) # Ordenamiento\n",
        "print(edades)\n",
        "print(sum(edades)) \n",
        "print(min(edades))\n",
        "print(max(edades))"
      ],
      "execution_count": 10,
      "outputs": [
        {
          "output_type": "stream",
          "text": [
            "2\n",
            "5\n",
            "[30, 30, 37, 38, 48]\n",
            "[30, 48, 38, 30, 37]\n",
            "183\n",
            "30\n",
            "48\n"
          ],
          "name": "stdout"
        }
      ]
    },
    {
      "cell_type": "markdown",
      "metadata": {
        "id": "YhODXAgcc-F9"
      },
      "source": [
        "## Diccionarios"
      ]
    },
    {
      "cell_type": "code",
      "metadata": {
        "colab": {
          "base_uri": "https://localhost:8080/"
        },
        "id": "nFZdqmP9KwBn",
        "outputId": "262f0243-1db2-45ca-abd3-049882ed94a5"
      },
      "source": [
        "dnis = {'Herrera':32676585, 'Guzmán':9564787, \n",
        "        'Pérez':5676898, 'Hernández':40565999, \n",
        "        'Abraham':28375814,\n",
        "       \"soy_una_llave\":\"soy_un_valor\"} \n",
        "print(dnis['Abraham']) # noten que se usa la misma notación que con las listas, pero no es posible acceder por indices\n",
        "print(dnis.keys()) # Muestra todas las llaves, devuelve un tipo dict_keys\n",
        "print(type(dnis.keys()))\n",
        "print(dnis.items()) # Muestra todos los pares de elementos, devuelve un tipo dict_items\n",
        "print(type(dnis.items()))\n",
        "dnis.pop('Herrera')   # metodo igual al de listas\n",
        "print(dnis.items())\n",
        "print(len(dnis))   # cantidad de pares"
      ],
      "execution_count": 16,
      "outputs": [
        {
          "output_type": "stream",
          "text": [
            "28375814\n",
            "dict_keys(['Herrera', 'Guzmán', 'Pérez', 'Hernández', 'Abraham', 'soy_una_llave'])\n",
            "<class 'dict_keys'>\n",
            "dict_items([('Herrera', 32676585), ('Guzmán', 9564787), ('Pérez', 5676898), ('Hernández', 40565999), ('Abraham', 28375814), ('soy_una_llave', 'soy_un_valor')])\n",
            "<class 'dict_items'>\n",
            "dict_items([('Guzmán', 9564787), ('Pérez', 5676898), ('Hernández', 40565999), ('Abraham', 28375814), ('soy_una_llave', 'soy_un_valor')])\n",
            "5\n"
          ],
          "name": "stdout"
        }
      ]
    },
    {
      "cell_type": "markdown",
      "metadata": {
        "id": "DVFaHJI-eZdP"
      },
      "source": [
        "## Condicionales <a name=\"section-9\"></a>"
      ]
    },
    {
      "cell_type": "code",
      "metadata": {
        "colab": {
          "base_uri": "https://localhost:8080/"
        },
        "id": "zTWwLN0UeY8S",
        "outputId": "d9a7c249-536e-4bf8-bdc9-31cc2afa591c"
      },
      "source": [
        "precio_dolar = 62\n",
        "\n",
        "if precio_dolar >= 90:\n",
        "    print(\"El dólar se fue por las nubes\")\n",
        "elif (precio_dolar < 90) and (precio_dolar >= 70):\n",
        "    print(\"El dolar subió\")\n",
        "else: \n",
        "    print(\"El dólar es menor a 70\")\n",
        "\n",
        "print(precio_dolar)"
      ],
      "execution_count": 18,
      "outputs": [
        {
          "output_type": "stream",
          "text": [
            "El dólar es menor a 70\n",
            "62\n"
          ],
          "name": "stdout"
        }
      ]
    },
    {
      "cell_type": "code",
      "metadata": {
        "id": "2FBNYyzreotJ"
      },
      "source": [
        ""
      ],
      "execution_count": null,
      "outputs": []
    },
    {
      "cell_type": "markdown",
      "metadata": {
        "id": "mXfccDjKepur"
      },
      "source": [
        "## Bucles"
      ]
    },
    {
      "cell_type": "markdown",
      "metadata": {
        "id": "Cp8DZ5NBewdG"
      },
      "source": [
        "### For loop"
      ]
    },
    {
      "cell_type": "code",
      "metadata": {
        "colab": {
          "base_uri": "https://localhost:8080/"
        },
        "id": "yjHbepnTeyYj",
        "outputId": "72fa0b76-5b4e-47cb-cafe-9c8e71cda89a"
      },
      "source": [
        "for n in [1,2,'3']:\n",
        "    print(f'EL tipo es {n*2} {type(n*2)}')\n",
        "\n",
        "lista = [1,2,3,4,5]\n",
        "\n",
        "for n in lista:\n",
        "    print(n * 2)"
      ],
      "execution_count": 19,
      "outputs": [
        {
          "output_type": "stream",
          "text": [
            "EL tipo es 2 <class 'int'>\n",
            "EL tipo es 4 <class 'int'>\n",
            "EL tipo es 33 <class 'str'>\n",
            "2\n",
            "4\n",
            "6\n",
            "8\n",
            "10\n"
          ],
          "name": "stdout"
        }
      ]
    },
    {
      "cell_type": "code",
      "metadata": {
        "colab": {
          "base_uri": "https://localhost:8080/"
        },
        "id": "yv2IQGmFe8fN",
        "outputId": "e7ea1c79-1e79-4c58-ca82-b41d83fb18ca"
      },
      "source": [
        "for n in range(5):     # maneja un intervalo abierto\n",
        "    print(n)\n",
        "print(\"\")\n",
        "for n in range(0,5,2):# range puede recibir los parametros de start, stop, step\n",
        "    print(n)"
      ],
      "execution_count": 21,
      "outputs": [
        {
          "output_type": "stream",
          "text": [
            "0\n",
            "1\n",
            "2\n",
            "3\n",
            "4\n",
            "\n",
            "0\n",
            "2\n",
            "4\n"
          ],
          "name": "stdout"
        }
      ]
    },
    {
      "cell_type": "markdown",
      "metadata": {
        "id": "xj4FFcv7-26Z"
      },
      "source": [
        "### While"
      ]
    },
    {
      "cell_type": "code",
      "metadata": {
        "colab": {
          "base_uri": "https://localhost:8080/"
        },
        "id": "h1k9-E0D-x5Z",
        "outputId": "28100d96-bc9a-41f1-b4a9-032692936305"
      },
      "source": [
        "contador = 0\n",
        "\n",
        "while contador < 5:\n",
        "    contador += 1 # esto equivale a count = count + 1\n",
        "    print(contador)"
      ],
      "execution_count": 2,
      "outputs": [
        {
          "output_type": "stream",
          "text": [
            "1\n",
            "2\n",
            "3\n",
            "4\n",
            "5\n"
          ],
          "name": "stdout"
        }
      ]
    },
    {
      "cell_type": "markdown",
      "metadata": {
        "id": "YbVRXr0FGfJK"
      },
      "source": [
        "# Control de flujo\n",
        "Contamos con 3 _keywords_ que modifican el orden de ejecución **dentro de un bucle**\n",
        "\n",
        "- **continue**: interrumpe el flujo del bucle y retoma la ejecución en la siguiente iteración\n",
        "- **break**: termina el bucle\n",
        "- **pass**: no tiene efecto, se usa para evitar error cuando lo exige la sintáxis"
      ]
    },
    {
      "cell_type": "code",
      "metadata": {
        "id": "Mi2l0G3eGsKP"
      },
      "source": [
        "base = {\n",
        "    1: {\"nombre\":\"Fernanda\",\n",
        "        \"apellido\":\"Fernandez\",\n",
        "        \"dni\":333333331},\n",
        "    2: {\"nombre\":\"Gonzalo\",\n",
        "        \"apellido\":\"Gonzalez\",\n",
        "        \"dni\":333333332},\n",
        "    3: {\"nombre\":\"Rodrigo\",\n",
        "        \"apellido\":\"Rodriguez\",\n",
        "        \"dni\":333333333}\n",
        "    }"
      ],
      "execution_count": 3,
      "outputs": []
    },
    {
      "cell_type": "code",
      "metadata": {
        "id": "f8n9tjrtGx8u"
      },
      "source": [
        "dnis = [333333331, 333333336, 333333339, 333333332, None, 333333333]"
      ],
      "execution_count": 4,
      "outputs": []
    },
    {
      "cell_type": "code",
      "metadata": {
        "colab": {
          "base_uri": "https://localhost:8080/"
        },
        "id": "aHEA8BV9G5qA",
        "outputId": "cbc12444-424e-4038-b67a-4ee33dfe229f"
      },
      "source": [
        "n_encontrados = 0\n",
        "\n",
        "for dni in dnis: # itero por todos los dnis\n",
        "\n",
        "    if type(dni) == int: # si el tipo es entero\n",
        "        dni_encontrado = False # inicializo una variable con valor False, ya van a ver para qué :-)\n",
        "        \n",
        "        # Ahora viene la parte complicada, ¿cómo sé si ese dni ya está en mi base?\n",
        "        # 1- Recordemos que base es un diccionario y como tal tiene el método items(), pruébenlo afuera de esta celda\n",
        "        # me devuelve una tupla, con la llave en el primer elemento y el valor en el segundo\n",
        "        \n",
        "        # itero por todos los elementos\n",
        "        for i in base.items(): \n",
        "            valor = i[1] # guardo el valor en una variable\n",
        "            if dni == valor[\"dni\"]: # si el dni es el mismo que estoy buscando...\n",
        "                dni_encontrado = True\n",
        "                nombre_completo = valor[\"nombre\"] + \" \" + valor[\"apellido\"]\n",
        "                n_encontrados += 1 # esto equivale a encontrados = encontrados + 1, agrega uno\n",
        "                break # freno la búsqueda, ésto evita que siga buscando\n",
        "\n",
        "        if dni_encontrado: # entra acá si es True\n",
        "            print(f\"{nombre_completo.title()} ingreso a nuestra web\")\n",
        "\n",
        "        elif not dni_encontrado: # noten el not\n",
        "            print(f'El dni {dni} no se encuentra en la base...')\n",
        "            continue # sigo con la búsqueda, NO paso a la siguiente línea\n",
        "            \n",
        "        print(f\"Hasta el momento se encontraron {n_encontrados} casos\")\n",
        "    \n",
        "    else:\n",
        "        pass # si dni no es un entero entonces no hacemos nada, suponemos que hubo algún tipo de error"
      ],
      "execution_count": 5,
      "outputs": [
        {
          "output_type": "stream",
          "text": [
            "Fernanda Fernandez ingreso a nuestra web\n",
            "Hasta el momento se encontraron 1 casos\n",
            "El dni 333333336 no se encuentra en la base...\n",
            "El dni 333333339 no se encuentra en la base...\n",
            "Gonzalo Gonzalez ingreso a nuestra web\n",
            "Hasta el momento se encontraron 2 casos\n",
            "Rodrigo Rodriguez ingreso a nuestra web\n",
            "Hasta el momento se encontraron 3 casos\n"
          ],
          "name": "stdout"
        }
      ]
    },
    {
      "cell_type": "markdown",
      "metadata": {
        "id": "u-qOWbFcK9J5"
      },
      "source": [
        "# Tupla\n",
        "Una **tupla** es una secuencia **inmutable** de longitud fija. Las tuplas generalmente se utilizan para representar secuencias de elementos que tienen longitud fija."
      ]
    },
    {
      "cell_type": "code",
      "metadata": {
        "colab": {
          "base_uri": "https://localhost:8080/"
        },
        "id": "9WGcoEooLFvn",
        "outputId": "a074345d-9c0f-44ba-ba61-26f6c3b75bad"
      },
      "source": [
        "registro = ('Argentina', 112000, 'Bariloche')\n",
        "print(registro[0])\n"
      ],
      "execution_count": 6,
      "outputs": [
        {
          "output_type": "stream",
          "text": [
            "Argentina\n"
          ],
          "name": "stdout"
        }
      ]
    },
    {
      "cell_type": "code",
      "metadata": {
        "colab": {
          "base_uri": "https://localhost:8080/"
        },
        "id": "MeeTvokrLVo0",
        "outputId": "bd8aa55b-fd5d-4a3f-db45-1491dea30e35"
      },
      "source": [
        "# Unpacking: Con una tupla, o una lista podemos separar una secuencia en variables:\n",
        "pais, poblacion, ciudad = registro\n",
        "\n",
        "print(\"País:\", pais)\n",
        "print(\"Población:\", poblacion)\n",
        "print(\"Ciudad:\", ciudad)"
      ],
      "execution_count": 7,
      "outputs": [
        {
          "output_type": "stream",
          "text": [
            "País: Argentina\n",
            "Población: 112000\n",
            "Ciudad: Bariloche\n"
          ],
          "name": "stdout"
        }
      ]
    },
    {
      "cell_type": "markdown",
      "metadata": {
        "id": "-bq3HVLCN6sv"
      },
      "source": [
        "# Manejo de errores\n",
        "### Tipos de errores\n",
        "**AttributeError**: cuando tratamos de llamar a una referencia que no existe.\n",
        "\n",
        "**NameError**: cuando se llama a una variable u otro nombre que no está definido en el ambiente en que estamos trabajando.\n",
        "\n",
        "**KeyError**: cuando queremos llamar a una llave que no existe, por ejemplo, en un diccionario.\n",
        "\n",
        "**SyntaxError**: cuando hay un problema de sintaxis, errores muy comunes al comienzo pueden ser que no se cerró una llave o corchete, que falta alguna coma o dos puntos.\n",
        "\n",
        "**TypeError**: cuando el tipo de soporta una determinada operación.\n",
        "\n",
        "**IndexError**: cuando el índice al que se quiere acceder no existe, generalmente debido a que se llama a un índice mayor al largo de la lista."
      ]
    },
    {
      "cell_type": "code",
      "metadata": {
        "colab": {
          "base_uri": "https://localhost:8080/"
        },
        "id": "tDW9WHcPOvXu",
        "outputId": "507d6d1f-59d0-4fbb-8894-c587f08e3a23"
      },
      "source": [
        "a = '20'\n",
        "b = 5\n",
        "\n",
        "try:\n",
        "    print(a+b)\n",
        "except:\n",
        "    print(int(a)+int(b)) # convierto a int ambas variables"
      ],
      "execution_count": 8,
      "outputs": [
        {
          "output_type": "stream",
          "text": [
            "25\n"
          ],
          "name": "stdout"
        }
      ]
    },
    {
      "cell_type": "code",
      "metadata": {
        "colab": {
          "base_uri": "https://localhost:8080/"
        },
        "id": "XD6w4WWEO6rx",
        "outputId": "066e5ed6-a28f-4759-c334-e43c13da8b12"
      },
      "source": [
        "try:\n",
        "    print(a+b)\n",
        "except Exception as e:\n",
        "    print(f\"El error fue {e}\")"
      ],
      "execution_count": 9,
      "outputs": [
        {
          "output_type": "stream",
          "text": [
            "El error fue can only concatenate str (not \"int\") to str\n"
          ],
          "name": "stdout"
        }
      ]
    },
    {
      "cell_type": "code",
      "metadata": {
        "colab": {
          "base_uri": "https://localhost:8080/"
        },
        "id": "abGmDw1yPDrz",
        "outputId": "70ee3061-e153-42a6-fd83-73bc7d10cc85"
      },
      "source": [
        "lista_tuplas = [('3', 8), \n",
        "                (5, 0), \n",
        "                (3, ), \n",
        "                (4, 6)]\n",
        "\n",
        "for t in lista_tuplas:\n",
        "    print(f\"la tupla es {t}\")\n",
        "    \n",
        "    try:\n",
        "        print(\"intento dividir...\")\n",
        "        print(t[0] / t[1])\n",
        "        print(\"éxito!\")\n",
        "    except IndexError:\n",
        "        print('El largo está mal')\n",
        "    except TypeError:\n",
        "        print('Error en el tipo de datos')\n",
        "    except ZeroDivisionError:\n",
        "        print(\"No se puede dividir por cero\")"
      ],
      "execution_count": 10,
      "outputs": [
        {
          "output_type": "stream",
          "text": [
            "la tupla es ('3', 8)\n",
            "intento dividir...\n",
            "Error en el tipo de datos\n",
            "la tupla es (5, 0)\n",
            "intento dividir...\n",
            "No se puede dividir por cero\n",
            "la tupla es (3,)\n",
            "intento dividir...\n",
            "El largo está mal\n",
            "la tupla es (4, 6)\n",
            "intento dividir...\n",
            "0.6666666666666666\n",
            "éxito!\n"
          ],
          "name": "stdout"
        }
      ]
    },
    {
      "cell_type": "markdown",
      "metadata": {
        "id": "ZCGLNs3zSPgO"
      },
      "source": [
        "# Listas por comprensión (List Comprehension)\n",
        "Las listas por comprensión son una funcionalidad muy flexible de Python que permite crear listas de un modo más \"descriptivo\", basandose en la notación de definición de conjuntos.\n",
        "\n",
        "\n"
      ]
    },
    {
      "cell_type": "code",
      "metadata": {
        "colab": {
          "base_uri": "https://localhost:8080/"
        },
        "id": "QXx5_HV3SVk4",
        "outputId": "f9ee44d2-de2a-4ed9-a8e5-c04478769477"
      },
      "source": [
        "lista = [1,2,3,4,5]\n",
        "cuadrados = []\n",
        "for x in lista:\n",
        "    cuadrados.append(x**2)\n",
        "print(cuadrados)"
      ],
      "execution_count": 13,
      "outputs": [
        {
          "output_type": "stream",
          "text": [
            "[1, 4, 9, 16, 25]\n"
          ],
          "name": "stdout"
        }
      ]
    },
    {
      "cell_type": "code",
      "metadata": {
        "colab": {
          "base_uri": "https://localhost:8080/"
        },
        "id": "02XLNTQISfhw",
        "outputId": "6a4c797a-eeda-4e7a-dbd7-62ea8ebdba5d"
      },
      "source": [
        "cuadrados = [x**2 for x in lista]\n",
        "print(cuadrados)"
      ],
      "execution_count": 15,
      "outputs": [
        {
          "output_type": "stream",
          "text": [
            "[1, 4, 9, 16, 25]\n"
          ],
          "name": "stdout"
        }
      ]
    },
    {
      "cell_type": "code",
      "metadata": {
        "colab": {
          "base_uri": "https://localhost:8080/"
        },
        "id": "WvfmGGDNSvw1",
        "outputId": "0160772d-fc0b-45fe-df3c-6883316324a0"
      },
      "source": [
        "cuadrados = [x**2 for x in lista if x**2 < 15]\n",
        "cuadrados"
      ],
      "execution_count": 17,
      "outputs": [
        {
          "output_type": "execute_result",
          "data": {
            "text/plain": [
              "[1, 4, 9]"
            ]
          },
          "metadata": {
            "tags": []
          },
          "execution_count": 17
        }
      ]
    },
    {
      "cell_type": "markdown",
      "metadata": {
        "id": "PqaMGnL1TMIR"
      },
      "source": [
        "La sintáxis para **filtrar** con condicionales es\n",
        "\n",
        "> [ (elemento) ( for x in (iterable) ) ( if condicion ) ]\n",
        "\n",
        "Donde \"elemento\" es lo que vayamos a guardar en la lista. Incluyendo un **else**:\n",
        "\n",
        "> [ (elemento) (if condicion else otro_elemento) ( for x in (iterable) ) ]\n",
        "\n",
        "Pueden hacerse loops anidados:\n",
        "\n",
        "> [i for i in range(x) for j in range(y)]"
      ]
    },
    {
      "cell_type": "markdown",
      "metadata": {
        "id": "RPlumdEjTSdo"
      },
      "source": [
        "Otra forma de pensar la sintaxis es a partir de teoría de conjuntos. Por ejemplo:\n",
        "Un conjunto S definido por todos los números X / 4 que pertenecen a los Naturales y cumplen que su cuadrado es menor a 20\n",
        "\n",
        "$$S=\\{\\,\\frac{x}{4}\\mid x \\in \\mathbb{N},\\ x^2<60\\,\\}$$"
      ]
    },
    {
      "cell_type": "code",
      "metadata": {
        "colab": {
          "base_uri": "https://localhost:8080/"
        },
        "id": "PpIUVxbySv7b",
        "outputId": "040fc810-ac12-4d41-c744-aa60a71b6b7b"
      },
      "source": [
        "S = []\n",
        "for x in range(1000):\n",
        "    if x ** 2 < 60:\n",
        "        S.append(x/4)\n",
        "S"
      ],
      "execution_count": 18,
      "outputs": [
        {
          "output_type": "execute_result",
          "data": {
            "text/plain": [
              "[0.0, 0.25, 0.5, 0.75, 1.0, 1.25, 1.5, 1.75]"
            ]
          },
          "metadata": {
            "tags": []
          },
          "execution_count": 18
        }
      ]
    },
    {
      "cell_type": "code",
      "metadata": {
        "colab": {
          "base_uri": "https://localhost:8080/"
        },
        "id": "07fvnDauSwAK",
        "outputId": "f1484e91-7794-4721-edc1-cb4860da0f9a"
      },
      "source": [
        "S = [x/4 for x in range(1000) if x**2 < 60]\n",
        "S"
      ],
      "execution_count": 19,
      "outputs": [
        {
          "output_type": "execute_result",
          "data": {
            "text/plain": [
              "[0.0, 0.25, 0.5, 0.75, 1.0, 1.25, 1.5, 1.75]"
            ]
          },
          "metadata": {
            "tags": []
          },
          "execution_count": 19
        }
      ]
    },
    {
      "cell_type": "code",
      "metadata": {
        "colab": {
          "base_uri": "https://localhost:8080/"
        },
        "id": "MdKEP5f3SwDe",
        "outputId": "b83a3460-52f3-4cb7-f724-775a98167323"
      },
      "source": [
        "for x in range(3):\n",
        "    for y in 'abc':\n",
        "        print(x,y)"
      ],
      "execution_count": 20,
      "outputs": [
        {
          "output_type": "stream",
          "text": [
            "0 a\n",
            "0 b\n",
            "0 c\n",
            "1 a\n",
            "1 b\n",
            "1 c\n",
            "2 a\n",
            "2 b\n",
            "2 c\n"
          ],
          "name": "stdout"
        }
      ]
    },
    {
      "cell_type": "code",
      "metadata": {
        "colab": {
          "base_uri": "https://localhost:8080/"
        },
        "id": "pol7cJ3DSwGL",
        "outputId": "c786b14d-395c-4855-96a2-8a49f4520937"
      },
      "source": [
        "[(x, y) for x in range(3) for y in 'abc']"
      ],
      "execution_count": 21,
      "outputs": [
        {
          "output_type": "execute_result",
          "data": {
            "text/plain": [
              "[(0, 'a'),\n",
              " (0, 'b'),\n",
              " (0, 'c'),\n",
              " (1, 'a'),\n",
              " (1, 'b'),\n",
              " (1, 'c'),\n",
              " (2, 'a'),\n",
              " (2, 'b'),\n",
              " (2, 'c')]"
            ]
          },
          "metadata": {
            "tags": []
          },
          "execution_count": 21
        }
      ]
    },
    {
      "cell_type": "markdown",
      "metadata": {
        "id": "r6So5OaAUGv_"
      },
      "source": [
        "O comprensiones anidadas:\n",
        "\n",
        "> [ [i for i in range(x) ] for j in range(y) ]"
      ]
    },
    {
      "cell_type": "code",
      "metadata": {
        "colab": {
          "base_uri": "https://localhost:8080/"
        },
        "id": "AASTAdcvUH-O",
        "outputId": "29b5fc5e-30c4-47eb-a717-2e1ae8a74fe7"
      },
      "source": [
        "[[l*n for l in 'abc'] for n in range(3)]"
      ],
      "execution_count": 24,
      "outputs": [
        {
          "output_type": "execute_result",
          "data": {
            "text/plain": [
              "[['', '', ''], ['a', 'b', 'c'], ['aa', 'bb', 'cc']]"
            ]
          },
          "metadata": {
            "tags": []
          },
          "execution_count": 24
        }
      ]
    },
    {
      "cell_type": "code",
      "metadata": {
        "colab": {
          "base_uri": "https://localhost:8080/"
        },
        "id": "6DCL5dIIUIIS",
        "outputId": "f5b2bca3-344a-48f3-99ac-6a448079396e"
      },
      "source": [
        "# los elementos tambien pueden ser tuplas\n",
        "animales = ['mantarraya', 'pandas', 'narval', 'unicornio']\n",
        "[(a, len(a)) for a in animales]"
      ],
      "execution_count": 25,
      "outputs": [
        {
          "output_type": "execute_result",
          "data": {
            "text/plain": [
              "[('mantarraya', 10), ('pandas', 6), ('narval', 6), ('unicornio', 9)]"
            ]
          },
          "metadata": {
            "tags": []
          },
          "execution_count": 25
        }
      ]
    },
    {
      "cell_type": "code",
      "metadata": {
        "colab": {
          "base_uri": "https://localhost:8080/"
        },
        "id": "ijyrMmDAUILS",
        "outputId": "55b28d38-dc21-4ce8-b6f9-e39bc9c4a6e9"
      },
      "source": [
        "lista = ['a','ante','bajo','cabe','con']\n",
        "s = [i[0] for i in lista]  # devuelve la primera letra de ada\n",
        "print(s)"
      ],
      "execution_count": 35,
      "outputs": [
        {
          "output_type": "stream",
          "text": [
            "['a', 'a', 'b', 'c', 'c']\n"
          ],
          "name": "stdout"
        }
      ]
    },
    {
      "cell_type": "code",
      "metadata": {
        "colab": {
          "base_uri": "https://localhost:8080/"
        },
        "id": "8uDCx-2XUIPA",
        "outputId": "63422b15-76aa-4042-f4f9-adf62a8a224a"
      },
      "source": [
        "frase = 'Cambiar el mundo, amigo Sancho, no es ni utopía ni locura, es justicia'\n",
        "print([len(palabra) for palabra in frase.replace(\",\", \"\").split()])"
      ],
      "execution_count": 38,
      "outputs": [
        {
          "output_type": "stream",
          "text": [
            "[7, 2, 5, 5, 6, 2, 2, 2, 6, 2, 6, 2, 8]\n"
          ],
          "name": "stdout"
        }
      ]
    },
    {
      "cell_type": "markdown",
      "metadata": {
        "id": "4ZcUAkPouHPx"
      },
      "source": [
        "# I/O\n",
        "Existen varios modos de abrir un archivo, incluyendo:\n",
        "\n",
        "    - r: read, lectura\n",
        "    - w: write, escritura\n",
        "    - a: append, agregar al final del archivo\n",
        "   \n",
        "Por ejemplo, para escribir en un archivo, haríamos:\n",
        "\n",
        "    with open(outpath, 'w') as f:\n",
        "        f.write(string)"
      ]
    },
    {
      "cell_type": "code",
      "metadata": {
        "id": "w15qHSqzt8Vi"
      },
      "source": [
        "with open('nuevo.txt', 'w') as f:\n",
        "    f.write('ejemplo de escritura')"
      ],
      "execution_count": 39,
      "outputs": []
    },
    {
      "cell_type": "code",
      "metadata": {
        "colab": {
          "base_uri": "https://localhost:8080/"
        },
        "id": "Mfzc9YQNuasU",
        "outputId": "d9d945b5-9ccf-47a0-e8e5-f2460dbf95c6"
      },
      "source": [
        "with open('nuevo.txt', 'r') as f:\n",
        "    contenido = f.read()\n",
        "\n",
        "print(contenido)"
      ],
      "execution_count": 40,
      "outputs": [
        {
          "output_type": "stream",
          "text": [
            "ejemplo de escritura\n"
          ],
          "name": "stdout"
        }
      ]
    },
    {
      "cell_type": "code",
      "metadata": {
        "colab": {
          "base_uri": "https://localhost:8080/"
        },
        "id": "209xvs_gujU0",
        "outputId": "e6a5b6a2-a0f0-4356-e2ac-8f675a34f9eb"
      },
      "source": [
        "while True:\n",
        "    usuario_dijo = input('Ingrese un numero')\n",
        "\n",
        "    try:\n",
        "        num = int(usuario_dijo)\n",
        "        break\n",
        "    except:\n",
        "        print('No anduvo, intente de nuevo')\n",
        "\n",
        "print(f'Su numero fue {num}! :D')"
      ],
      "execution_count": 41,
      "outputs": [
        {
          "output_type": "stream",
          "text": [
            "Ingrese un numerohola\n",
            "No anduvo, intente de nuevo\n",
            "Ingrese un numero123\n",
            "Su numero fue 123! :D\n"
          ],
          "name": "stdout"
        }
      ]
    },
    {
      "cell_type": "markdown",
      "metadata": {
        "id": "kOXSdU30vP0K"
      },
      "source": [
        "# Fuciones"
      ]
    },
    {
      "cell_type": "code",
      "metadata": {
        "id": "31vXhb2jvTdt"
      },
      "source": [
        "def promedio(lista):\n",
        "    return sum(lista) / len(lista)"
      ],
      "execution_count": 42,
      "outputs": []
    },
    {
      "cell_type": "code",
      "metadata": {
        "colab": {
          "base_uri": "https://localhost:8080/"
        },
        "id": "HoDOUCLDvXKL",
        "outputId": "685e3f77-48fb-4699-ddf5-5549ae8b6710"
      },
      "source": [
        "resultado = promedio([0,1,2,3]) # asigno el resultado\n",
        "print(resultado)"
      ],
      "execution_count": 43,
      "outputs": [
        {
          "output_type": "stream",
          "text": [
            "1.5\n"
          ],
          "name": "stdout"
        }
      ]
    },
    {
      "cell_type": "code",
      "metadata": {
        "id": "P-Z6p-kNvXM3"
      },
      "source": [
        "def suma(a,b):\n",
        "    \"\"\"Esta función recibe dos numeros y devuelve la suma\"\"\"\n",
        "    return a+b"
      ],
      "execution_count": 44,
      "outputs": []
    },
    {
      "cell_type": "code",
      "metadata": {
        "colab": {
          "base_uri": "https://localhost:8080/"
        },
        "id": "bocNuSSFvXQK",
        "outputId": "e7e5d2f6-1924-4d41-e5c2-bd8e88194ce7"
      },
      "source": [
        "r = suma(3,5) # asigno el resultado\n",
        "print(r)"
      ],
      "execution_count": 45,
      "outputs": [
        {
          "output_type": "stream",
          "text": [
            "8\n"
          ],
          "name": "stdout"
        }
      ]
    },
    {
      "cell_type": "code",
      "metadata": {
        "colab": {
          "base_uri": "https://localhost:8080/"
        },
        "id": "KbQjhI9dvXUh",
        "outputId": "a83f6ecd-8147-426e-a0f3-7903979cc2d7"
      },
      "source": [
        "# parametro por default\n",
        "def unir_lista(lista, conector=' '):\n",
        "    \"\"\"Esta funcion recibe dos argumentos, una lista y un conector\n",
        "    y devuelve la lista unida usando el conector.\"\"\"    \n",
        "    unida = conector.join([str(e) for e in lista])    \n",
        "    return unida\n",
        "\n",
        "print(unir_lista(['unir',3,'cosas']))\n",
        "print(unir_lista(['unir',3,'cosas'],conector = ',') )"
      ],
      "execution_count": 48,
      "outputs": [
        {
          "output_type": "stream",
          "text": [
            "unir 3 cosas\n",
            "unir,3,cosas\n"
          ],
          "name": "stdout"
        }
      ]
    },
    {
      "cell_type": "markdown",
      "metadata": {
        "id": "8oG3SeTtC33Z"
      },
      "source": [
        "Existen distintos tipos de argumentos, principalmente los llamados \"args\" y \"kwargs\", o argumentos y \"keyword arguments\" es decir argumentos nombrados.\n",
        "\n",
        "También podemos tener un numero variable de argumentos, usando el symbolo *, por conveción al parámetro se le llama 'args'\n",
        "\n",
        "Internamente, los elementos de *args se tratan como una tupla"
      ]
    },
    {
      "cell_type": "code",
      "metadata": {
        "id": "FBXxk9-hADcQ"
      },
      "source": [
        "def suma_todos(*args):\n",
        "    print(type(args))\n",
        "    return sum(args)"
      ],
      "execution_count": 49,
      "outputs": []
    },
    {
      "cell_type": "code",
      "metadata": {
        "colab": {
          "base_uri": "https://localhost:8080/"
        },
        "id": "M9kzaofuADjv",
        "outputId": "74f9a00f-cc60-4e2d-866d-705a16fba952"
      },
      "source": [
        "suma_todos(9,1,4,2)"
      ],
      "execution_count": 50,
      "outputs": [
        {
          "output_type": "stream",
          "text": [
            "<class 'tuple'>\n"
          ],
          "name": "stdout"
        },
        {
          "output_type": "execute_result",
          "data": {
            "text/plain": [
              "16"
            ]
          },
          "metadata": {
            "tags": []
          },
          "execution_count": 50
        }
      ]
    },
    {
      "cell_type": "code",
      "metadata": {
        "id": "7YkPSjM1ADms"
      },
      "source": [
        "def consulta(**kwargs):\n",
        "    print(type(kwargs))\n",
        "    texto = f\"Su consulta es {kwargs['fecha']} a las {kwargs['hora']}\"\n",
        "    return texto"
      ],
      "execution_count": null,
      "outputs": []
    },
    {
      "cell_type": "code",
      "metadata": {
        "id": "sS53AoyGADrH"
      },
      "source": [
        ""
      ],
      "execution_count": null,
      "outputs": []
    },
    {
      "cell_type": "code",
      "metadata": {
        "id": "nQZH_hGzADuL"
      },
      "source": [
        ""
      ],
      "execution_count": null,
      "outputs": []
    },
    {
      "cell_type": "code",
      "metadata": {
        "id": "QECPtHJ8ADv3"
      },
      "source": [
        ""
      ],
      "execution_count": null,
      "outputs": []
    }
  ]
}