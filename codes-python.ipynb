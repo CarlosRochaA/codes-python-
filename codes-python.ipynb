{
  "nbformat": 4,
  "nbformat_minor": 0,
  "metadata": {
    "colab": {
      "name": "codes-python.ipynb",
      "provenance": [],
      "toc_visible": true,
      "include_colab_link": true
    },
    "kernelspec": {
      "name": "python3",
      "display_name": "Python 3"
    },
    "language_info": {
      "name": "python"
    }
  },
  "cells": [
    {
      "cell_type": "markdown",
      "metadata": {
        "id": "view-in-github",
        "colab_type": "text"
      },
      "source": [
        "<a href=\"https://colab.research.google.com/github/CarlosRochaA/codes-python-/blob/main/codes-python.ipynb\" target=\"_parent\"><img src=\"https://colab.research.google.com/assets/colab-badge.svg\" alt=\"Open In Colab\"/></a>"
      ]
    },
    {
      "cell_type": "markdown",
      "metadata": {
        "id": "eBbaZmiioHt6"
      },
      "source": [
        "# Tipos de Datos"
      ]
    },
    {
      "cell_type": "code",
      "metadata": {
        "colab": {
          "base_uri": "https://localhost:8080/"
        },
        "id": "PfiXJSTl0Vru",
        "outputId": "a785c62e-90d7-4357-832b-79c079ed6baf"
      },
      "source": [
        "x = 5\n",
        "y = 17\n",
        "\n",
        "print(x+y) # suma\n",
        "print(x*2) # multiplicacion\n",
        "print(x**(1/2)) # elevado a \n",
        "print(y / x) # División\n",
        "print(y // x)  # Parte entera de la división\n",
        "print(y % x) # Devuelve el resto\n",
        "\n",
        "type(x), type(y)\n"
      ],
      "execution_count": null,
      "outputs": [
        {
          "output_type": "stream",
          "text": [
            "22\n",
            "10\n",
            "2.23606797749979\n",
            "3.4\n",
            "3\n",
            "2\n"
          ],
          "name": "stdout"
        },
        {
          "output_type": "execute_result",
          "data": {
            "text/plain": [
              "(int, int)"
            ]
          },
          "metadata": {
            "tags": []
          },
          "execution_count": 4
        }
      ]
    },
    {
      "cell_type": "markdown",
      "metadata": {
        "id": "PgyayOWbpYzT"
      },
      "source": [
        "## Operadores diponibles"
      ]
    },
    {
      "cell_type": "markdown",
      "metadata": {
        "id": "1fNhyC00pKhY"
      },
      "source": [
        "Los operadores disponibles son: \n",
        "\n",
        "    Relacionales:\n",
        "    - >= , <=, <, > : Mayor o igual, menor o igual, mayor o menor\n",
        "    - != , == : Distinto, Igual\n",
        "    - in : Contenido por \n",
        "    Lógicos:\n",
        "    - not o ~ : Negación\n",
        "    - and o & : Ambas verdaderas\n",
        "    - or o | : Una u otra es verdadera\n",
        "    \n",
        "Como booleanos, se pueden utilizar tanto 0 y 1 como True y False."
      ]
    },
    {
      "cell_type": "markdown",
      "metadata": {
        "id": "0NudoTlVrvv_"
      },
      "source": [
        "## Strings"
      ]
    },
    {
      "cell_type": "markdown",
      "metadata": {
        "id": "IsGhr4SzsM5m"
      },
      "source": [
        "También podemos usar los índices para traer más de un elemento al mismo tiempo, usando el **slicing**. El slicing lleva tres parámetros: comienzo (start), final (stop) e intervalo o paso (step).\n",
        "\n",
        "- El parámetro comienzo (start) indica la primera posición incluida en la selección, por default es 0.\n",
        "\n",
        "- El parámetro final (stop) es la primera posición que NO va a estar incluída, por default se incluyen todos los elementos. \n",
        "\n",
        "- El parámetro intervalo o paso (step), es optativo e indica el tamaño del paso entre seleccionar un elemento y el siguiente, por default el paso es 1. El paso también puede ser negativo, en este caso contamos desde el final hacia el comienzo, esto es muy útil para dar vuelta los strings...\n",
        "\n",
        "    \n",
        "    [comienzo : final : intervalo] (en inglés es [start : stop : step] )\n",
        "    \n",
        "    \n",
        "El intervalo que se recibe es semi-abierto (indice_primero, indice_segundo], es decir se incluye el primero y no el segundo valor. Se admiten números negativos, que contabilizan desde el final."
      ]
    },
    {
      "cell_type": "code",
      "metadata": {
        "colab": {
          "base_uri": "https://localhost:8080/"
        },
        "id": "EuwRUcXTryRM",
        "outputId": "7f06d6db-e339-47f3-bc79-d75b4ee33321"
      },
      "source": [
        "texto = \"programación en python\"\n",
        "print(texto[0])\n",
        "print(texto[:])\n",
        "print(texto[:1])\n",
        "print(texto[1:4])\n",
        "print(texto[::-1])\n",
        "print(texto[16:23])\n",
        "print(texto[-6:])\n",
        "print(texto[-6:23:1])\n",
        "print(texto.upper())\n",
        "print(texto.title())\n",
        "print(texto.split()) # Devuelve una lista"
      ],
      "execution_count": null,
      "outputs": [
        {
          "output_type": "stream",
          "text": [
            "p\n",
            "programación en python\n",
            "p\n",
            "rog\n",
            "nohtyp ne nóicamargorp\n",
            "python\n",
            "python\n",
            "python\n",
            "PROGRAMACIÓN EN PYTHON\n",
            "Programación En Python\n",
            "['programación', 'en', 'python']\n"
          ],
          "name": "stdout"
        }
      ]
    },
    {
      "cell_type": "markdown",
      "metadata": {
        "id": "RmO7Auyn1qNK"
      },
      "source": [
        "Otras formas de combinar texto"
      ]
    },
    {
      "cell_type": "code",
      "metadata": {
        "colab": {
          "base_uri": "https://localhost:8080/"
        },
        "id": "Z7VkiZmlsWiK",
        "outputId": "0a48b75f-1296-48c8-faec-88f86dda4767"
      },
      "source": [
        "tema = 'data science'\n",
        "modales = 'por favor'\n",
        "print('Dame información de {0} si esta disponible, {1}'.format(tema, modales))\n",
        "print(f'Dame información de {tema.upper()} si esta disponible, {modales}') # mas utilizada\n",
        "print(\"1000\".isdigit()) # verifica si un texto se puede castear como entero\n",
        "print(\"   quitando espacios  \".strip()) # quita espacios adelante y atras\n",
        "texto = \"Me gusta el 37\" # Piso el contenido de la variable para hacer otras pruebas\n",
        "print(texto.replace(' ', '...'))\n",
        "print(texto.isalpha())\n",
        "texto = \"Me\" # Piso el contenido de la variable\n",
        "print(texto.isalpha()) # pregunta si todo esta compuesto por letras o es una combinacion\n",
        "str1 = \"Hola\"\n",
        "str2 = \"qué tal\"\n",
        "print( f\"{str1}{str2}\")\n",
        "resultado = f\"{str1} {str2}\" # Note el espacio\n",
        "print(resultado)"
      ],
      "execution_count": null,
      "outputs": [
        {
          "output_type": "stream",
          "text": [
            "Dame información de data science si esta disponible, por favor\n",
            "Dame información de DATA SCIENCE si esta disponible, por favor\n",
            "True\n",
            "quitando espacios\n",
            "Me...gusta...el...37\n",
            "False\n",
            "True\n",
            "Holaqué tal\n",
            "Hola qué tal\n"
          ],
          "name": "stdout"
        }
      ]
    },
    {
      "cell_type": "markdown",
      "metadata": {
        "id": "lTcFgE3M-jI_"
      },
      "source": [
        "## Listas"
      ]
    },
    {
      "cell_type": "code",
      "metadata": {
        "colab": {
          "base_uri": "https://localhost:8080/"
        },
        "id": "ubGQ1zJr-wkR",
        "outputId": "f0282f40-9162-4dd9-8f20-2868c414a6e7"
      },
      "source": [
        "amigos =  ['Mateo', 'Nico', 'Claudia', 'Ernestina', 'Paola']\n",
        "print(amigos[0])  # Devuelve un string\n",
        "print(type(amigos[0]))\n",
        "print(amigos[:1]) # arranco en 0 y el primero sin incluir es el 1, con el paso default (1), devuelve una lista\n",
        "print(type(amigos[:1]))\n",
        "print(\" \")\n",
        "print(amigos[-1]) # Último elemento, devuelve un string\n",
        "print(amigos[:]) # arranco en 0 hasta el final, con el paso default (1)\n",
        "print(amigos[:-1]) # excluímos el último elemento\n",
        "print(amigos[::2]) # salteamos un elemento a la vez\n",
        "print(amigos[::-1]) # lista de atras hacia adelante"
      ],
      "execution_count": null,
      "outputs": [
        {
          "output_type": "stream",
          "text": [
            "Mateo\n",
            "<class 'str'>\n",
            "['Mateo']\n",
            "<class 'list'>\n",
            " \n",
            "Paola\n",
            "['Mateo', 'Nico', 'Claudia', 'Ernestina', 'Paola']\n",
            "['Mateo', 'Nico', 'Claudia', 'Ernestina']\n",
            "['Mateo', 'Claudia', 'Paola']\n",
            "['Paola', 'Ernestina', 'Claudia', 'Nico', 'Mateo']\n"
          ],
          "name": "stdout"
        }
      ]
    },
    {
      "cell_type": "code",
      "metadata": {
        "colab": {
          "base_uri": "https://localhost:8080/"
        },
        "id": "VeUTuIJ3UetC",
        "outputId": "2f0ee2ed-03d7-4d83-e8a1-17df76f066bc"
      },
      "source": [
        "amigos =  ['Mateo', 'Nico', 'Claudia', 'Ernestina', 'Paola']\n",
        "# Formas de agregar items a la \n",
        "amigos.append('Chicharito')\n",
        "# print(amigos)\n",
        "amigos = amigos + ['Chicharito']\n",
        "print(amigos)\n",
        "# Suma de listas\n",
        "print(amigos + ['Pipi', 'Toto'])\n",
        "amigos_sep = ';'.join(amigos) # devuelve un string  \n",
        "print(amigos_sep)  \n",
        "amigos.remove('Chicharito') # Elimina sólo un elemento, la primera coincidencia\n",
        "print(amigos)\n",
        "del amigos[0]   # Eliminacion por índice\n",
        "print(amigos)\n",
        "valor = amigos.pop(0) # Devuelve un elemento y lo borra de la lista\n",
        "print(valor)\n",
        "print(amigos)"
      ],
      "execution_count": null,
      "outputs": [
        {
          "output_type": "stream",
          "text": [
            "['Mateo', 'Nico', 'Claudia', 'Ernestina', 'Paola', 'Chicharito', 'Chicharito']\n",
            "['Mateo', 'Nico', 'Claudia', 'Ernestina', 'Paola', 'Chicharito', 'Chicharito', 'Pipi', 'Toto']\n",
            "Mateo;Nico;Claudia;Ernestina;Paola;Chicharito;Chicharito\n",
            "['Mateo', 'Nico', 'Claudia', 'Ernestina', 'Paola', 'Chicharito']\n",
            "['Nico', 'Claudia', 'Ernestina', 'Paola', 'Chicharito']\n",
            "Nico\n",
            "['Claudia', 'Ernestina', 'Paola', 'Chicharito']\n"
          ],
          "name": "stdout"
        }
      ]
    },
    {
      "cell_type": "code",
      "metadata": {
        "colab": {
          "base_uri": "https://localhost:8080/"
        },
        "id": "MQZZghcrLeMD",
        "outputId": "193b050c-1af6-462e-8f96-4e2be98d1c5d"
      },
      "source": [
        "edades = [30, 48, 38, 30, 37]\n",
        "print(edades.count(30)) # Cantidad de apariciones\n",
        "print(len(edades)) # Largo de la lista\n",
        "print(sorted(edades)) # Ordenamiento\n",
        "print(edades)\n",
        "print(sum(edades)) \n",
        "print(min(edades))\n",
        "print(max(edades))"
      ],
      "execution_count": null,
      "outputs": [
        {
          "output_type": "stream",
          "text": [
            "2\n",
            "5\n",
            "[30, 30, 37, 38, 48]\n",
            "[30, 48, 38, 30, 37]\n",
            "183\n",
            "30\n",
            "48\n"
          ],
          "name": "stdout"
        }
      ]
    },
    {
      "cell_type": "markdown",
      "metadata": {
        "id": "YhODXAgcc-F9"
      },
      "source": [
        "## Diccionarios"
      ]
    },
    {
      "cell_type": "code",
      "metadata": {
        "colab": {
          "base_uri": "https://localhost:8080/"
        },
        "id": "nFZdqmP9KwBn",
        "outputId": "262f0243-1db2-45ca-abd3-049882ed94a5"
      },
      "source": [
        "dnis = {'Herrera':32676585, 'Guzmán':9564787, \n",
        "        'Pérez':5676898, 'Hernández':40565999, \n",
        "        'Abraham':28375814,\n",
        "       \"soy_una_llave\":\"soy_un_valor\"} \n",
        "print(dnis['Abraham']) # noten que se usa la misma notación que con las listas, pero no es posible acceder por indices\n",
        "print(dnis.keys()) # Muestra todas las llaves, devuelve un tipo dict_keys\n",
        "print(type(dnis.keys()))\n",
        "print(dnis.items()) # Muestra todos los pares de elementos, devuelve un tipo dict_items\n",
        "print(type(dnis.items()))\n",
        "dnis.pop('Herrera')   # metodo igual al de listas\n",
        "print(dnis.items())\n",
        "print(len(dnis))   # cantidad de pares"
      ],
      "execution_count": null,
      "outputs": [
        {
          "output_type": "stream",
          "text": [
            "28375814\n",
            "dict_keys(['Herrera', 'Guzmán', 'Pérez', 'Hernández', 'Abraham', 'soy_una_llave'])\n",
            "<class 'dict_keys'>\n",
            "dict_items([('Herrera', 32676585), ('Guzmán', 9564787), ('Pérez', 5676898), ('Hernández', 40565999), ('Abraham', 28375814), ('soy_una_llave', 'soy_un_valor')])\n",
            "<class 'dict_items'>\n",
            "dict_items([('Guzmán', 9564787), ('Pérez', 5676898), ('Hernández', 40565999), ('Abraham', 28375814), ('soy_una_llave', 'soy_un_valor')])\n",
            "5\n"
          ],
          "name": "stdout"
        }
      ]
    },
    {
      "cell_type": "markdown",
      "metadata": {
        "id": "DVFaHJI-eZdP"
      },
      "source": [
        "## Condicionales <a name=\"section-9\"></a>"
      ]
    },
    {
      "cell_type": "code",
      "metadata": {
        "colab": {
          "base_uri": "https://localhost:8080/"
        },
        "id": "zTWwLN0UeY8S",
        "outputId": "d9a7c249-536e-4bf8-bdc9-31cc2afa591c"
      },
      "source": [
        "precio_dolar = 62\n",
        "\n",
        "if precio_dolar >= 90:\n",
        "    print(\"El dólar se fue por las nubes\")\n",
        "elif (precio_dolar < 90) and (precio_dolar >= 70):\n",
        "    print(\"El dolar subió\")\n",
        "else: \n",
        "    print(\"El dólar es menor a 70\")\n",
        "\n",
        "print(precio_dolar)"
      ],
      "execution_count": null,
      "outputs": [
        {
          "output_type": "stream",
          "text": [
            "El dólar es menor a 70\n",
            "62\n"
          ],
          "name": "stdout"
        }
      ]
    },
    {
      "cell_type": "code",
      "metadata": {
        "id": "2FBNYyzreotJ"
      },
      "source": [
        ""
      ],
      "execution_count": null,
      "outputs": []
    },
    {
      "cell_type": "markdown",
      "metadata": {
        "id": "mXfccDjKepur"
      },
      "source": [
        "## Bucles"
      ]
    },
    {
      "cell_type": "markdown",
      "metadata": {
        "id": "Cp8DZ5NBewdG"
      },
      "source": [
        "### For loop"
      ]
    },
    {
      "cell_type": "code",
      "metadata": {
        "colab": {
          "base_uri": "https://localhost:8080/"
        },
        "id": "yjHbepnTeyYj",
        "outputId": "72fa0b76-5b4e-47cb-cafe-9c8e71cda89a"
      },
      "source": [
        "for n in [1,2,'3']:\n",
        "    print(f'EL tipo es {n*2} {type(n*2)}')\n",
        "\n",
        "lista = [1,2,3,4,5]\n",
        "\n",
        "for n in lista:\n",
        "    print(n * 2)"
      ],
      "execution_count": null,
      "outputs": [
        {
          "output_type": "stream",
          "text": [
            "EL tipo es 2 <class 'int'>\n",
            "EL tipo es 4 <class 'int'>\n",
            "EL tipo es 33 <class 'str'>\n",
            "2\n",
            "4\n",
            "6\n",
            "8\n",
            "10\n"
          ],
          "name": "stdout"
        }
      ]
    },
    {
      "cell_type": "code",
      "metadata": {
        "colab": {
          "base_uri": "https://localhost:8080/"
        },
        "id": "yv2IQGmFe8fN",
        "outputId": "e7ea1c79-1e79-4c58-ca82-b41d83fb18ca"
      },
      "source": [
        "for n in range(5):     # maneja un intervalo abierto\n",
        "    print(n)\n",
        "print(\"\")\n",
        "for n in range(0,5,2):# range puede recibir los parametros de start, stop, step\n",
        "    print(n)"
      ],
      "execution_count": null,
      "outputs": [
        {
          "output_type": "stream",
          "text": [
            "0\n",
            "1\n",
            "2\n",
            "3\n",
            "4\n",
            "\n",
            "0\n",
            "2\n",
            "4\n"
          ],
          "name": "stdout"
        }
      ]
    },
    {
      "cell_type": "markdown",
      "metadata": {
        "id": "xj4FFcv7-26Z"
      },
      "source": [
        "### While"
      ]
    },
    {
      "cell_type": "code",
      "metadata": {
        "colab": {
          "base_uri": "https://localhost:8080/"
        },
        "id": "h1k9-E0D-x5Z",
        "outputId": "28100d96-bc9a-41f1-b4a9-032692936305"
      },
      "source": [
        "contador = 0\n",
        "\n",
        "while contador < 5:\n",
        "    contador += 1 # esto equivale a count = count + 1\n",
        "    print(contador)"
      ],
      "execution_count": null,
      "outputs": [
        {
          "output_type": "stream",
          "text": [
            "1\n",
            "2\n",
            "3\n",
            "4\n",
            "5\n"
          ],
          "name": "stdout"
        }
      ]
    },
    {
      "cell_type": "markdown",
      "metadata": {
        "id": "YbVRXr0FGfJK"
      },
      "source": [
        "# Control de flujo"
      ]
    },
    {
      "cell_type": "markdown",
      "metadata": {
        "id": "d0vhQ4LYVqiO"
      },
      "source": [
        "Contamos con 3 _keywords_ que modifican el orden de ejecución **dentro de un bucle**\n",
        "\n",
        "- **continue**: interrumpe el flujo del bucle y retoma la ejecución en la siguiente iteración\n",
        "- **break**: termina el bucle\n",
        "- **pass**: no tiene efecto, se usa para evitar error cuando lo exige la sintáxis"
      ]
    },
    {
      "cell_type": "code",
      "metadata": {
        "id": "Mi2l0G3eGsKP"
      },
      "source": [
        "base = {\n",
        "    1: {\"nombre\":\"Fernanda\",\n",
        "        \"apellido\":\"Fernandez\",\n",
        "        \"dni\":333333331},\n",
        "    2: {\"nombre\":\"Gonzalo\",\n",
        "        \"apellido\":\"Gonzalez\",\n",
        "        \"dni\":333333332},\n",
        "    3: {\"nombre\":\"Rodrigo\",\n",
        "        \"apellido\":\"Rodriguez\",\n",
        "        \"dni\":333333333}\n",
        "    }"
      ],
      "execution_count": null,
      "outputs": []
    },
    {
      "cell_type": "code",
      "metadata": {
        "id": "f8n9tjrtGx8u"
      },
      "source": [
        "dnis = [333333331, 333333336, 333333339, 333333332, None, 333333333]"
      ],
      "execution_count": null,
      "outputs": []
    },
    {
      "cell_type": "code",
      "metadata": {
        "colab": {
          "base_uri": "https://localhost:8080/"
        },
        "id": "aHEA8BV9G5qA",
        "outputId": "cbc12444-424e-4038-b67a-4ee33dfe229f"
      },
      "source": [
        "n_encontrados = 0\n",
        "\n",
        "for dni in dnis: # itero por todos los dnis\n",
        "\n",
        "    if type(dni) == int: # si el tipo es entero\n",
        "        dni_encontrado = False # inicializo una variable con valor False, ya van a ver para qué :-)\n",
        "        \n",
        "        # Ahora viene la parte complicada, ¿cómo sé si ese dni ya está en mi base?\n",
        "        # 1- Recordemos que base es un diccionario y como tal tiene el método items(), pruébenlo afuera de esta celda\n",
        "        # me devuelve una tupla, con la llave en el primer elemento y el valor en el segundo\n",
        "        \n",
        "        # itero por todos los elementos\n",
        "        for i in base.items(): \n",
        "            valor = i[1] # guardo el valor en una variable\n",
        "            if dni == valor[\"dni\"]: # si el dni es el mismo que estoy buscando...\n",
        "                dni_encontrado = True\n",
        "                nombre_completo = valor[\"nombre\"] + \" \" + valor[\"apellido\"]\n",
        "                n_encontrados += 1 # esto equivale a encontrados = encontrados + 1, agrega uno\n",
        "                break # freno la búsqueda, ésto evita que siga buscando\n",
        "\n",
        "        if dni_encontrado: # entra acá si es True\n",
        "            print(f\"{nombre_completo.title()} ingreso a nuestra web\")\n",
        "\n",
        "        elif not dni_encontrado: # noten el not\n",
        "            print(f'El dni {dni} no se encuentra en la base...')\n",
        "            continue # sigo con la búsqueda, NO paso a la siguiente línea\n",
        "            \n",
        "        print(f\"Hasta el momento se encontraron {n_encontrados} casos\")\n",
        "    \n",
        "    else:\n",
        "        pass # si dni no es un entero entonces no hacemos nada, suponemos que hubo algún tipo de error"
      ],
      "execution_count": null,
      "outputs": [
        {
          "output_type": "stream",
          "text": [
            "Fernanda Fernandez ingreso a nuestra web\n",
            "Hasta el momento se encontraron 1 casos\n",
            "El dni 333333336 no se encuentra en la base...\n",
            "El dni 333333339 no se encuentra en la base...\n",
            "Gonzalo Gonzalez ingreso a nuestra web\n",
            "Hasta el momento se encontraron 2 casos\n",
            "Rodrigo Rodriguez ingreso a nuestra web\n",
            "Hasta el momento se encontraron 3 casos\n"
          ],
          "name": "stdout"
        }
      ]
    },
    {
      "cell_type": "markdown",
      "metadata": {
        "id": "u-qOWbFcK9J5"
      },
      "source": [
        "# Tupla"
      ]
    },
    {
      "cell_type": "markdown",
      "metadata": {
        "id": "ImxNRyFJVvO5"
      },
      "source": [
        "Una **tupla** es una secuencia **inmutable** de longitud fija. Las tuplas generalmente se utilizan para representar secuencias de elementos que tienen longitud fija."
      ]
    },
    {
      "cell_type": "code",
      "metadata": {
        "colab": {
          "base_uri": "https://localhost:8080/"
        },
        "id": "9WGcoEooLFvn",
        "outputId": "a074345d-9c0f-44ba-ba61-26f6c3b75bad"
      },
      "source": [
        "registro = ('Argentina', 112000, 'Bariloche')\n",
        "print(registro[0])\n"
      ],
      "execution_count": null,
      "outputs": [
        {
          "output_type": "stream",
          "text": [
            "Argentina\n"
          ],
          "name": "stdout"
        }
      ]
    },
    {
      "cell_type": "code",
      "metadata": {
        "colab": {
          "base_uri": "https://localhost:8080/"
        },
        "id": "MeeTvokrLVo0",
        "outputId": "bd8aa55b-fd5d-4a3f-db45-1491dea30e35"
      },
      "source": [
        "# Unpacking: Con una tupla, o una lista podemos separar una secuencia en variables:\n",
        "pais, poblacion, ciudad = registro\n",
        "\n",
        "print(\"País:\", pais)\n",
        "print(\"Población:\", poblacion)\n",
        "print(\"Ciudad:\", ciudad)"
      ],
      "execution_count": null,
      "outputs": [
        {
          "output_type": "stream",
          "text": [
            "País: Argentina\n",
            "Población: 112000\n",
            "Ciudad: Bariloche\n"
          ],
          "name": "stdout"
        }
      ]
    },
    {
      "cell_type": "markdown",
      "metadata": {
        "id": "-bq3HVLCN6sv"
      },
      "source": [
        "# Manejo de errores"
      ]
    },
    {
      "cell_type": "markdown",
      "metadata": {
        "id": "5y7tJapdV31w"
      },
      "source": [
        "### Tipos de errores\n",
        "**AttributeError**: cuando tratamos de llamar a una referencia que no existe.\n",
        "\n",
        "**NameError**: cuando se llama a una variable u otro nombre que no está definido en el ambiente en que estamos trabajando.\n",
        "\n",
        "**KeyError**: cuando queremos llamar a una llave que no existe, por ejemplo, en un diccionario.\n",
        "\n",
        "**SyntaxError**: cuando hay un problema de sintaxis, errores muy comunes al comienzo pueden ser que no se cerró una llave o corchete, que falta alguna coma o dos puntos.\n",
        "\n",
        "**TypeError**: cuando el tipo de soporta una determinada operación.\n",
        "\n",
        "**IndexError**: cuando el índice al que se quiere acceder no existe, generalmente debido a que se llama a un índice mayor al largo de la lista."
      ]
    },
    {
      "cell_type": "code",
      "metadata": {
        "colab": {
          "base_uri": "https://localhost:8080/"
        },
        "id": "tDW9WHcPOvXu",
        "outputId": "507d6d1f-59d0-4fbb-8894-c587f08e3a23"
      },
      "source": [
        "a = '20'\n",
        "b = 5\n",
        "\n",
        "try:\n",
        "    print(a+b)\n",
        "except:\n",
        "    print(int(a)+int(b)) # convierto a int ambas variables"
      ],
      "execution_count": null,
      "outputs": [
        {
          "output_type": "stream",
          "text": [
            "25\n"
          ],
          "name": "stdout"
        }
      ]
    },
    {
      "cell_type": "code",
      "metadata": {
        "colab": {
          "base_uri": "https://localhost:8080/"
        },
        "id": "XD6w4WWEO6rx",
        "outputId": "066e5ed6-a28f-4759-c334-e43c13da8b12"
      },
      "source": [
        "try:\n",
        "    print(a+b)\n",
        "except Exception as e:\n",
        "    print(f\"El error fue {e}\")"
      ],
      "execution_count": null,
      "outputs": [
        {
          "output_type": "stream",
          "text": [
            "El error fue can only concatenate str (not \"int\") to str\n"
          ],
          "name": "stdout"
        }
      ]
    },
    {
      "cell_type": "code",
      "metadata": {
        "colab": {
          "base_uri": "https://localhost:8080/"
        },
        "id": "abGmDw1yPDrz",
        "outputId": "70ee3061-e153-42a6-fd83-73bc7d10cc85"
      },
      "source": [
        "lista_tuplas = [('3', 8), \n",
        "                (5, 0), \n",
        "                (3, ), \n",
        "                (4, 6)]\n",
        "\n",
        "for t in lista_tuplas:\n",
        "    print(f\"la tupla es {t}\")\n",
        "    \n",
        "    try:\n",
        "        print(\"intento dividir...\")\n",
        "        print(t[0] / t[1])\n",
        "        print(\"éxito!\")\n",
        "    except IndexError:\n",
        "        print('El largo está mal')\n",
        "    except TypeError:\n",
        "        print('Error en el tipo de datos')\n",
        "    except ZeroDivisionError:\n",
        "        print(\"No se puede dividir por cero\")"
      ],
      "execution_count": null,
      "outputs": [
        {
          "output_type": "stream",
          "text": [
            "la tupla es ('3', 8)\n",
            "intento dividir...\n",
            "Error en el tipo de datos\n",
            "la tupla es (5, 0)\n",
            "intento dividir...\n",
            "No se puede dividir por cero\n",
            "la tupla es (3,)\n",
            "intento dividir...\n",
            "El largo está mal\n",
            "la tupla es (4, 6)\n",
            "intento dividir...\n",
            "0.6666666666666666\n",
            "éxito!\n"
          ],
          "name": "stdout"
        }
      ]
    },
    {
      "cell_type": "markdown",
      "metadata": {
        "id": "ZCGLNs3zSPgO"
      },
      "source": [
        "# Listas por comprensión (List Comprehension)\n",
        "\n",
        "\n"
      ]
    },
    {
      "cell_type": "markdown",
      "metadata": {
        "id": "GYI6bfhfV9Jk"
      },
      "source": [
        "Las listas por comprensión son una funcionalidad muy flexible de Python que permite crear listas de un modo más \"descriptivo\", basandose en la notación de definición de conjuntos."
      ]
    },
    {
      "cell_type": "code",
      "metadata": {
        "colab": {
          "base_uri": "https://localhost:8080/"
        },
        "id": "QXx5_HV3SVk4",
        "outputId": "f9ee44d2-de2a-4ed9-a8e5-c04478769477"
      },
      "source": [
        "lista = [1,2,3,4,5]\n",
        "cuadrados = []\n",
        "for x in lista:\n",
        "    cuadrados.append(x**2)\n",
        "print(cuadrados)"
      ],
      "execution_count": null,
      "outputs": [
        {
          "output_type": "stream",
          "text": [
            "[1, 4, 9, 16, 25]\n"
          ],
          "name": "stdout"
        }
      ]
    },
    {
      "cell_type": "code",
      "metadata": {
        "colab": {
          "base_uri": "https://localhost:8080/"
        },
        "id": "02XLNTQISfhw",
        "outputId": "6a4c797a-eeda-4e7a-dbd7-62ea8ebdba5d"
      },
      "source": [
        "cuadrados = [x**2 for x in lista]\n",
        "print(cuadrados)"
      ],
      "execution_count": null,
      "outputs": [
        {
          "output_type": "stream",
          "text": [
            "[1, 4, 9, 16, 25]\n"
          ],
          "name": "stdout"
        }
      ]
    },
    {
      "cell_type": "code",
      "metadata": {
        "colab": {
          "base_uri": "https://localhost:8080/"
        },
        "id": "WvfmGGDNSvw1",
        "outputId": "0160772d-fc0b-45fe-df3c-6883316324a0"
      },
      "source": [
        "cuadrados = [x**2 for x in lista if x**2 < 15]\n",
        "cuadrados"
      ],
      "execution_count": null,
      "outputs": [
        {
          "output_type": "execute_result",
          "data": {
            "text/plain": [
              "[1, 4, 9]"
            ]
          },
          "metadata": {
            "tags": []
          },
          "execution_count": 17
        }
      ]
    },
    {
      "cell_type": "markdown",
      "metadata": {
        "id": "PqaMGnL1TMIR"
      },
      "source": [
        "La sintáxis para **filtrar** con condicionales es\n",
        "\n",
        "> [ (elemento) ( for x in (iterable) ) ( if condicion ) ]\n",
        "\n",
        "Donde \"elemento\" es lo que vayamos a guardar en la lista. Incluyendo un **else**:\n",
        "\n",
        "> [ (elemento) (if condicion else otro_elemento) ( for x in (iterable) ) ]\n",
        "\n",
        "Pueden hacerse loops anidados:\n",
        "\n",
        "> [i for i in range(x) for j in range(y)]"
      ]
    },
    {
      "cell_type": "markdown",
      "metadata": {
        "id": "RPlumdEjTSdo"
      },
      "source": [
        "Otra forma de pensar la sintaxis es a partir de teoría de conjuntos. Por ejemplo:\n",
        "Un conjunto S definido por todos los números X / 4 que pertenecen a los Naturales y cumplen que su cuadrado es menor a 20\n",
        "\n",
        "$$S=\\{\\,\\frac{x}{4}\\mid x \\in \\mathbb{N},\\ x^2<60\\,\\}$$"
      ]
    },
    {
      "cell_type": "code",
      "metadata": {
        "colab": {
          "base_uri": "https://localhost:8080/"
        },
        "id": "PpIUVxbySv7b",
        "outputId": "040fc810-ac12-4d41-c744-aa60a71b6b7b"
      },
      "source": [
        "S = []\n",
        "for x in range(1000):\n",
        "    if x ** 2 < 60:\n",
        "        S.append(x/4)\n",
        "S"
      ],
      "execution_count": null,
      "outputs": [
        {
          "output_type": "execute_result",
          "data": {
            "text/plain": [
              "[0.0, 0.25, 0.5, 0.75, 1.0, 1.25, 1.5, 1.75]"
            ]
          },
          "metadata": {
            "tags": []
          },
          "execution_count": 18
        }
      ]
    },
    {
      "cell_type": "code",
      "metadata": {
        "colab": {
          "base_uri": "https://localhost:8080/"
        },
        "id": "07fvnDauSwAK",
        "outputId": "f1484e91-7794-4721-edc1-cb4860da0f9a"
      },
      "source": [
        "S = [x/4 for x in range(1000) if x**2 < 60]\n",
        "S"
      ],
      "execution_count": null,
      "outputs": [
        {
          "output_type": "execute_result",
          "data": {
            "text/plain": [
              "[0.0, 0.25, 0.5, 0.75, 1.0, 1.25, 1.5, 1.75]"
            ]
          },
          "metadata": {
            "tags": []
          },
          "execution_count": 19
        }
      ]
    },
    {
      "cell_type": "code",
      "metadata": {
        "colab": {
          "base_uri": "https://localhost:8080/"
        },
        "id": "MdKEP5f3SwDe",
        "outputId": "b83a3460-52f3-4cb7-f724-775a98167323"
      },
      "source": [
        "for x in range(3):\n",
        "    for y in 'abc':\n",
        "        print(x,y)"
      ],
      "execution_count": null,
      "outputs": [
        {
          "output_type": "stream",
          "text": [
            "0 a\n",
            "0 b\n",
            "0 c\n",
            "1 a\n",
            "1 b\n",
            "1 c\n",
            "2 a\n",
            "2 b\n",
            "2 c\n"
          ],
          "name": "stdout"
        }
      ]
    },
    {
      "cell_type": "code",
      "metadata": {
        "colab": {
          "base_uri": "https://localhost:8080/"
        },
        "id": "pol7cJ3DSwGL",
        "outputId": "c786b14d-395c-4855-96a2-8a49f4520937"
      },
      "source": [
        "[(x, y) for x in range(3) for y in 'abc']"
      ],
      "execution_count": null,
      "outputs": [
        {
          "output_type": "execute_result",
          "data": {
            "text/plain": [
              "[(0, 'a'),\n",
              " (0, 'b'),\n",
              " (0, 'c'),\n",
              " (1, 'a'),\n",
              " (1, 'b'),\n",
              " (1, 'c'),\n",
              " (2, 'a'),\n",
              " (2, 'b'),\n",
              " (2, 'c')]"
            ]
          },
          "metadata": {
            "tags": []
          },
          "execution_count": 21
        }
      ]
    },
    {
      "cell_type": "markdown",
      "metadata": {
        "id": "r6So5OaAUGv_"
      },
      "source": [
        "O comprensiones anidadas:\n",
        "\n",
        "> [ [i for i in range(x) ] for j in range(y) ]"
      ]
    },
    {
      "cell_type": "code",
      "metadata": {
        "colab": {
          "base_uri": "https://localhost:8080/"
        },
        "id": "AASTAdcvUH-O",
        "outputId": "29b5fc5e-30c4-47eb-a717-2e1ae8a74fe7"
      },
      "source": [
        "[[l*n for l in 'abc'] for n in range(3)]"
      ],
      "execution_count": null,
      "outputs": [
        {
          "output_type": "execute_result",
          "data": {
            "text/plain": [
              "[['', '', ''], ['a', 'b', 'c'], ['aa', 'bb', 'cc']]"
            ]
          },
          "metadata": {
            "tags": []
          },
          "execution_count": 24
        }
      ]
    },
    {
      "cell_type": "code",
      "metadata": {
        "colab": {
          "base_uri": "https://localhost:8080/"
        },
        "id": "6DCL5dIIUIIS",
        "outputId": "f5b2bca3-344a-48f3-99ac-6a448079396e"
      },
      "source": [
        "# los elementos tambien pueden ser tuplas\n",
        "animales = ['mantarraya', 'pandas', 'narval', 'unicornio']\n",
        "[(a, len(a)) for a in animales]"
      ],
      "execution_count": null,
      "outputs": [
        {
          "output_type": "execute_result",
          "data": {
            "text/plain": [
              "[('mantarraya', 10), ('pandas', 6), ('narval', 6), ('unicornio', 9)]"
            ]
          },
          "metadata": {
            "tags": []
          },
          "execution_count": 25
        }
      ]
    },
    {
      "cell_type": "code",
      "metadata": {
        "colab": {
          "base_uri": "https://localhost:8080/"
        },
        "id": "ijyrMmDAUILS",
        "outputId": "55b28d38-dc21-4ce8-b6f9-e39bc9c4a6e9"
      },
      "source": [
        "lista = ['a','ante','bajo','cabe','con']\n",
        "s = [i[0] for i in lista]  # devuelve la primera letra de ada\n",
        "print(s)"
      ],
      "execution_count": null,
      "outputs": [
        {
          "output_type": "stream",
          "text": [
            "['a', 'a', 'b', 'c', 'c']\n"
          ],
          "name": "stdout"
        }
      ]
    },
    {
      "cell_type": "code",
      "metadata": {
        "colab": {
          "base_uri": "https://localhost:8080/"
        },
        "id": "8uDCx-2XUIPA",
        "outputId": "63422b15-76aa-4042-f4f9-adf62a8a224a"
      },
      "source": [
        "frase = 'Cambiar el mundo, amigo Sancho, no es ni utopía ni locura, es justicia'\n",
        "print([len(palabra) for palabra in frase.replace(\",\", \"\").split()])"
      ],
      "execution_count": null,
      "outputs": [
        {
          "output_type": "stream",
          "text": [
            "[7, 2, 5, 5, 6, 2, 2, 2, 6, 2, 6, 2, 8]\n"
          ],
          "name": "stdout"
        }
      ]
    },
    {
      "cell_type": "markdown",
      "metadata": {
        "id": "4ZcUAkPouHPx"
      },
      "source": [
        "# I/O"
      ]
    },
    {
      "cell_type": "markdown",
      "metadata": {
        "id": "6X3IZ1JXWCj1"
      },
      "source": [
        "Existen varios modos de abrir un archivo, incluyendo:\n",
        "\n",
        "    - r: read, lectura\n",
        "    - w: write, escritura\n",
        "    - a: append, agregar al final del archivo\n",
        "   \n",
        "Por ejemplo, para escribir en un archivo, haríamos:\n",
        "\n",
        "    with open(outpath, 'w') as f:\n",
        "        f.write(string)"
      ]
    },
    {
      "cell_type": "code",
      "metadata": {
        "id": "w15qHSqzt8Vi"
      },
      "source": [
        "with open('nuevo.txt', 'w') as f:\n",
        "    f.write('ejemplo de escritura')"
      ],
      "execution_count": null,
      "outputs": []
    },
    {
      "cell_type": "code",
      "metadata": {
        "colab": {
          "base_uri": "https://localhost:8080/"
        },
        "id": "Mfzc9YQNuasU",
        "outputId": "d9d945b5-9ccf-47a0-e8e5-f2460dbf95c6"
      },
      "source": [
        "with open('nuevo.txt', 'r') as f:\n",
        "    contenido = f.read()\n",
        "\n",
        "print(contenido)"
      ],
      "execution_count": null,
      "outputs": [
        {
          "output_type": "stream",
          "text": [
            "ejemplo de escritura\n"
          ],
          "name": "stdout"
        }
      ]
    },
    {
      "cell_type": "code",
      "metadata": {
        "colab": {
          "base_uri": "https://localhost:8080/"
        },
        "id": "209xvs_gujU0",
        "outputId": "e6a5b6a2-a0f0-4356-e2ac-8f675a34f9eb"
      },
      "source": [
        "while True:\n",
        "    usuario_dijo = input('Ingrese un numero')\n",
        "\n",
        "    try:\n",
        "        num = int(usuario_dijo)\n",
        "        break\n",
        "    except:\n",
        "        print('No anduvo, intente de nuevo')\n",
        "\n",
        "print(f'Su numero fue {num}! :D')"
      ],
      "execution_count": null,
      "outputs": [
        {
          "output_type": "stream",
          "text": [
            "Ingrese un numerohola\n",
            "No anduvo, intente de nuevo\n",
            "Ingrese un numero123\n",
            "Su numero fue 123! :D\n"
          ],
          "name": "stdout"
        }
      ]
    },
    {
      "cell_type": "markdown",
      "metadata": {
        "id": "kOXSdU30vP0K"
      },
      "source": [
        "# **Funciones**"
      ]
    },
    {
      "cell_type": "code",
      "metadata": {
        "id": "31vXhb2jvTdt"
      },
      "source": [
        "def promedio(lista):\n",
        "    return sum(lista) / len(lista)"
      ],
      "execution_count": null,
      "outputs": []
    },
    {
      "cell_type": "code",
      "metadata": {
        "colab": {
          "base_uri": "https://localhost:8080/"
        },
        "id": "HoDOUCLDvXKL",
        "outputId": "685e3f77-48fb-4699-ddf5-5549ae8b6710"
      },
      "source": [
        "resultado = promedio([0,1,2,3]) # asigno el resultado\n",
        "print(resultado)"
      ],
      "execution_count": null,
      "outputs": [
        {
          "output_type": "stream",
          "text": [
            "1.5\n"
          ],
          "name": "stdout"
        }
      ]
    },
    {
      "cell_type": "code",
      "metadata": {
        "id": "P-Z6p-kNvXM3"
      },
      "source": [
        "def suma(a,b):\n",
        "    \"\"\"Esta función recibe dos numeros y devuelve la suma\"\"\"\n",
        "    return a+b"
      ],
      "execution_count": null,
      "outputs": []
    },
    {
      "cell_type": "code",
      "metadata": {
        "colab": {
          "base_uri": "https://localhost:8080/"
        },
        "id": "bocNuSSFvXQK",
        "outputId": "e7e5d2f6-1924-4d41-e5c2-bd8e88194ce7"
      },
      "source": [
        "r = suma(3,5) # asigno el resultado\n",
        "print(r)"
      ],
      "execution_count": null,
      "outputs": [
        {
          "output_type": "stream",
          "text": [
            "8\n"
          ],
          "name": "stdout"
        }
      ]
    },
    {
      "cell_type": "code",
      "metadata": {
        "colab": {
          "base_uri": "https://localhost:8080/"
        },
        "id": "KbQjhI9dvXUh",
        "outputId": "a83f6ecd-8147-426e-a0f3-7903979cc2d7"
      },
      "source": [
        "# parametro por default\n",
        "def unir_lista(lista, conector=' '):\n",
        "    \"\"\"Esta funcion recibe dos argumentos, una lista y un conector\n",
        "    y devuelve la lista unida usando el conector.\"\"\"    \n",
        "    unida = conector.join([str(e) for e in lista])    \n",
        "    return unida\n",
        "\n",
        "print(unir_lista(['unir',3,'cosas']))\n",
        "print(unir_lista(['unir',3,'cosas'],conector = ',') )"
      ],
      "execution_count": null,
      "outputs": [
        {
          "output_type": "stream",
          "text": [
            "unir 3 cosas\n",
            "unir,3,cosas\n"
          ],
          "name": "stdout"
        }
      ]
    },
    {
      "cell_type": "markdown",
      "metadata": {
        "id": "8oG3SeTtC33Z"
      },
      "source": [
        "Existen distintos tipos de argumentos, principalmente los llamados \"args\" y \"kwargs\", o argumentos y \"keyword arguments\" es decir argumentos nombrados.\n",
        "\n",
        "También podemos tener un numero variable de argumentos, usando el symbolo *, por conveción al parámetro se le llama 'args'\n",
        "\n",
        "Internamente, los elementos de *args se tratan como una tupla"
      ]
    },
    {
      "cell_type": "code",
      "metadata": {
        "id": "FBXxk9-hADcQ"
      },
      "source": [
        "def suma_todos(*args):\n",
        "    print(type(args))\n",
        "    return sum(args)"
      ],
      "execution_count": null,
      "outputs": []
    },
    {
      "cell_type": "code",
      "metadata": {
        "colab": {
          "base_uri": "https://localhost:8080/"
        },
        "id": "M9kzaofuADjv",
        "outputId": "74f9a00f-cc60-4e2d-866d-705a16fba952"
      },
      "source": [
        "suma_todos(9,1,4,2)"
      ],
      "execution_count": null,
      "outputs": [
        {
          "output_type": "stream",
          "text": [
            "<class 'tuple'>\n"
          ],
          "name": "stdout"
        },
        {
          "output_type": "execute_result",
          "data": {
            "text/plain": [
              "16"
            ]
          },
          "metadata": {
            "tags": []
          },
          "execution_count": 50
        }
      ]
    },
    {
      "cell_type": "code",
      "metadata": {
        "id": "7YkPSjM1ADms"
      },
      "source": [
        "def consulta(**kwargs):\n",
        "    print(type(kwargs))\n",
        "    texto = f\"Su consulta es {kwargs['fecha']} a las {kwargs['hora']}\"\n",
        "    return texto"
      ],
      "execution_count": null,
      "outputs": []
    },
    {
      "cell_type": "markdown",
      "metadata": {
        "id": "vCW24tpx8nlJ"
      },
      "source": [
        "# Algoritmos"
      ]
    },
    {
      "cell_type": "markdown",
      "metadata": {
        "id": "W49wPsen8-KR"
      },
      "source": [
        "## Palíndromos"
      ]
    },
    {
      "cell_type": "markdown",
      "metadata": {
        "id": "gjQzB1yvHRcD"
      },
      "source": [
        "Vamos a definir tres funciones llamadas es_palindromo y para testear su funcionamiento vamos a chequear que:\n",
        "\n",
        "1- es_palindromo(\"ana\") == True\n",
        "\n",
        "2- es_palindromo(\"barrilete cósmico\") != True\n",
        "\n",
        "3- es_palindromo(\"yo hago yoga hoy\") == True\n",
        "\n",
        "4- es_palindromo(\"arriba la birra\") == True\n",
        "\n",
        "5- es_palindromo(\"arriba la barra\") != True"
      ]
    },
    {
      "cell_type": "code",
      "metadata": {
        "id": "nQZH_hGzADuL"
      },
      "source": [
        "texto_1 = \"ana\"\n",
        "texto_2 = \"barrilete cosmico\"\n",
        "texto_3 = \"yo hago yoga hoy\"\n",
        "texto_4 = \"arriba la birra\"\n",
        "texto_5 = \"arriba la barra\""
      ],
      "execution_count": null,
      "outputs": []
    },
    {
      "cell_type": "code",
      "metadata": {
        "id": "QECPtHJ8ADv3"
      },
      "source": [
        "def es_palindromo(texto):\n",
        "    texto = texto.replace(\" \", \"\")\n",
        "    # vean cómo podemos hacer slicing por un string, en sentido inverso, recorriendo la lista de atrás para adelante.\n",
        "    return texto == texto[::-1] "
      ],
      "execution_count": null,
      "outputs": []
    },
    {
      "cell_type": "code",
      "metadata": {
        "id": "-9dwYkpkQxDB"
      },
      "source": [
        "# assert nos permite controlar que una condición se cumpla, si no da True devuelve un AssertionError con el mensaje de la derecha\n",
        "assert es_palindromo(texto_1) == True, \"falló el test\"\n",
        "assert es_palindromo(texto_2) != True, \"falló el test\"\n",
        "assert es_palindromo(texto_3) == True, \"falló el test\"\n",
        "assert es_palindromo(texto_4) == True, \"falló el test\"\n",
        "assert es_palindromo(texto_5) != True, \"falló el test\""
      ],
      "execution_count": null,
      "outputs": []
    },
    {
      "cell_type": "markdown",
      "metadata": {
        "id": "aQ6_Fy_zRWmc"
      },
      "source": [
        "## Secuencia de Fibonacci"
      ]
    },
    {
      "cell_type": "code",
      "metadata": {
        "id": "cV_ZXoafRb_-"
      },
      "source": [
        "def fibo(n):\n",
        "    \"\"\"\n",
        "    Inicializo a y b. En este caso \"a\" sería F_n-2 (F_0 al inicializarse) \n",
        "    y \"b\" F_n-1 (F_1 al inicializarse)\n",
        "    \"\"\"\n",
        "    \n",
        "    a, b = 0, 1\n",
        "    secuencia = [a, b]\n",
        "    \n",
        "    if n == 0:\n",
        "        return a\n",
        "    elif n == 1:\n",
        "        return b\n",
        "    \n",
        "    n_actual = 2 # número de iteración\n",
        "    while n_actual < n:\n",
        "        n_actual += 1 # sumo 1 a la iteración actual\n",
        "        a, b = b, a + b # Este truquito es importante! \n",
        "        secuencia.append(b) # guardo el nuevo b\n",
        "    return secuencia"
      ],
      "execution_count": null,
      "outputs": []
    },
    {
      "cell_type": "code",
      "metadata": {
        "colab": {
          "base_uri": "https://localhost:8080/"
        },
        "id": "n9wrPMdoRvmB",
        "outputId": "96542b4a-ec22-4572-cf63-d5fb749d0478"
      },
      "source": [
        "print(fibo(10))\n",
        "%timeit fibo(10)\n",
        "%timeit fibo(20)\n",
        "%timeit fibo(30)"
      ],
      "execution_count": null,
      "outputs": [
        {
          "output_type": "stream",
          "text": [
            "[0, 1, 1, 2, 3, 5, 8, 13, 21, 34]\n",
            "The slowest run took 4.76 times longer than the fastest. This could mean that an intermediate result is being cached.\n",
            "1000000 loops, best of 5: 1.48 µs per loop\n",
            "100000 loops, best of 5: 3.13 µs per loop\n",
            "100000 loops, best of 5: 4.73 µs per loop\n"
          ],
          "name": "stdout"
        }
      ]
    },
    {
      "cell_type": "markdown",
      "metadata": {
        "id": "J6o1Oj-CSrao"
      },
      "source": [
        "## Merge sorted array"
      ]
    },
    {
      "cell_type": "code",
      "metadata": {
        "id": "JZdy_9sSS2Vb"
      },
      "source": [
        "def merge_sorted(lista_1,lista_2):\n",
        "    resultado = []\n",
        "    while len(lista_1) > 0 or len(lista_2) > 0: # mientras alguna lista tenga valores\n",
        "        # Vamos a recorrer las listas hasta que no queden más elementos en ninguna.\n",
        "        if len(lista_1) > 0: # si la primera lista tiene valores\n",
        "            if len(lista_2) > 0:\n",
        "                # Este es el caso donde quedan elementos en las dos listas. \n",
        "                # Aquí elegimos el menor de los primeros elementos\n",
        "                if lista_1[0] <= lista_2[0]:\n",
        "                    resultado.append(lista_1.pop(0))\n",
        "                else:\n",
        "                    resultado.append(lista_2.pop(0))\n",
        "            else:\n",
        "                # Este es el caso donde lista_1 todavía tiene elementos pero lista_2 no\n",
        "                resultado.append(lista_1.pop(0))\n",
        "        else:\n",
        "            # Si no quedan elementos en la lista_1 pero seguimos dentro del while loop, \n",
        "            # es porque quedan elementos en la lista2\n",
        "            resultado.append(lista_2.pop(0))\n",
        "    return resultado"
      ],
      "execution_count": null,
      "outputs": []
    },
    {
      "cell_type": "code",
      "metadata": {
        "colab": {
          "base_uri": "https://localhost:8080/"
        },
        "id": "jRvVOIC9S6v3",
        "outputId": "ce8e9d22-45ff-4bff-e641-00734aaa5e67"
      },
      "source": [
        "lista1 = [0,3,5,8,9]\n",
        "lista2 = [4,5,6]\n",
        "merge_sorted(lista1,lista2)"
      ],
      "execution_count": null,
      "outputs": [
        {
          "output_type": "execute_result",
          "data": {
            "text/plain": [
              "[0, 3, 4, 5, 5, 6, 8, 9]"
            ]
          },
          "metadata": {
            "tags": []
          },
          "execution_count": 12
        }
      ]
    },
    {
      "cell_type": "markdown",
      "metadata": {
        "id": "QZCbXqDfUPpa"
      },
      "source": [
        "## Bubble Sort"
      ]
    },
    {
      "cell_type": "code",
      "metadata": {
        "id": "fbtiepJgUS0f"
      },
      "source": [
        "def bubble_sort(lista):\n",
        "    # n igual al largo de la lista\n",
        "    n = len(lista)\n",
        "    \n",
        "    # Vamos a realizar una 'pasada' por cada elemento que tenemos en la lista.\n",
        "    \n",
        "    for i in range(n): \n",
        "        \n",
        "        # Creamos una variable que sirve como 'flag' para indicar si tuvimos que ordenar o no en la pasada actual\n",
        "        # Esto lo podemos usar para terminar el algoritmo antes, ya que si no tuvimos que cambiar nada\n",
        "        # en una pasada, tampoco lo vamos a tener que hacer en la siguiente\n",
        "        \n",
        "        ordenado = True\n",
        "        \n",
        "        # Vamos a comenzar recorriendo la lista de IZQUIERDA a DERECHA pero no hasta el final\n",
        "        # Recordemos que con cada 'pasada' vamos a haber encontrado el valor más alto aún sin ordenar\n",
        "        # Con lo cual, vamos a recorrer la lista desde el comienzo hasta el final menos los valores que ya ordenamos antes\n",
        "        # Tip: recuerden que el índice de una lista tiene como máximo el valor de la longitud - 1 porque arranca en 0\n",
        "        \n",
        "        for j in range(n-i-1): # COMPLETAR: argumento de la función range()\n",
        "\n",
        "            if lista[j] > lista[j+1]: # COMPLETAR: si el valor de la IZQUIERDA es mayor al de la derecha\n",
        "                \n",
        "                # Si es mayor, entonces vamos a intercambiar la posición del valor de la derecha con el de la izquierda\n",
        "                \n",
        "                # COMPLETAR: cambiar el valor de la izquierda por el de la derecha\n",
        "                lista[j], lista[j+1] = lista[j+1], lista[j]\n",
        "\n",
        "                # Como tuvimos que ordenar un par de elementos entonces tenemos que cambiar el flag\n",
        "                # COMPLETAR: cambiar ordenado a False\n",
        "                ordenado = False\n",
        "\n",
        "\n",
        "        # Si no tuvimos que ordenar, salimos del loop\n",
        "        if ordenado:\n",
        "            # COMPLETAR: frenar loop\n",
        "            break\n",
        "\n",
        "    return lista"
      ],
      "execution_count": null,
      "outputs": []
    },
    {
      "cell_type": "code",
      "metadata": {
        "colab": {
          "base_uri": "https://localhost:8080/"
        },
        "id": "qhmKwee7UZzV",
        "outputId": "7d94e88d-7456-4522-f4fb-05fc3e479b2b"
      },
      "source": [
        "lista_1 = [1,3,5,1,32,9,0,-1]\n",
        "bubble_sort(lista_1)"
      ],
      "execution_count": null,
      "outputs": [
        {
          "output_type": "execute_result",
          "data": {
            "text/plain": [
              "[-1, 0, 1, 1, 3, 5, 9, 32]"
            ]
          },
          "metadata": {
            "tags": []
          },
          "execution_count": 14
        }
      ]
    },
    {
      "cell_type": "markdown",
      "metadata": {
        "id": "558np9sKYXPE"
      },
      "source": [
        "# Librerías o módulos"
      ]
    },
    {
      "cell_type": "markdown",
      "metadata": {
        "id": "bs-gU63mYg7X"
      },
      "source": [
        "1. Importar todo el módulo con el mismo nombre que tiene\n",
        "\n",
        "<code>import datetime</code>\n",
        "\n",
        "2. Importar el módulo con un alias más corto (por comodidad)\n",
        "\n",
        "<code>import datetime as dt</code>\n",
        "\n",
        "3. Importar únicamente un sub-módulo\n",
        "\n",
        "<code>from datetime import datetime</code>"
      ]
    },
    {
      "cell_type": "code",
      "metadata": {
        "colab": {
          "base_uri": "https://localhost:8080/"
        },
        "id": "734s3O8hYqvd",
        "outputId": "e1af8156-afa0-44fd-b418-dce8cec3274e"
      },
      "source": [
        "import math\n",
        "\n",
        "print(dir(math))"
      ],
      "execution_count": null,
      "outputs": [
        {
          "output_type": "stream",
          "text": [
            "['__doc__', '__loader__', '__name__', '__package__', '__spec__', 'acos', 'acosh', 'asin', 'asinh', 'atan', 'atan2', 'atanh', 'ceil', 'copysign', 'cos', 'cosh', 'degrees', 'e', 'erf', 'erfc', 'exp', 'expm1', 'fabs', 'factorial', 'floor', 'fmod', 'frexp', 'fsum', 'gamma', 'gcd', 'hypot', 'inf', 'isclose', 'isfinite', 'isinf', 'isnan', 'ldexp', 'lgamma', 'log', 'log10', 'log1p', 'log2', 'modf', 'nan', 'pi', 'pow', 'radians', 'remainder', 'sin', 'sinh', 'sqrt', 'tan', 'tanh', 'tau', 'trunc']\n"
          ],
          "name": "stdout"
        }
      ]
    },
    {
      "cell_type": "code",
      "metadata": {
        "id": "8aLVhPDxZuKS"
      },
      "source": [
        "# modulo propio\n",
        "with open('misfunciones.py', 'w') as out:\n",
        "    out.write(\"\"\"def misuma(a,b):\n",
        "        print('Sumando!')\n",
        "        return a+b\"\"\")"
      ],
      "execution_count": null,
      "outputs": []
    },
    {
      "cell_type": "code",
      "metadata": {
        "colab": {
          "base_uri": "https://localhost:8080/"
        },
        "id": "bxKJPM8jZ0U5",
        "outputId": "13f5c7c5-f053-44f4-bce2-1cd225a1a31d"
      },
      "source": [
        "from misfunciones import misuma\n",
        "\n",
        "misuma(3,2)"
      ],
      "execution_count": null,
      "outputs": [
        {
          "output_type": "stream",
          "text": [
            "Sumando!\n"
          ],
          "name": "stdout"
        },
        {
          "output_type": "execute_result",
          "data": {
            "text/plain": [
              "5"
            ]
          },
          "metadata": {
            "tags": []
          },
          "execution_count": 17
        }
      ]
    },
    {
      "cell_type": "code",
      "metadata": {
        "id": "CdFWA8oAZ7KP"
      },
      "source": [
        "# Modulos de terceros\n",
        "# se agrega ! para ejecutar code bash en notebook\n",
        "# pip install [nombre del paquete]</code>\n",
        "# pip install [nombre del paquete][==version]</code>\n",
        "!pip install seaborn==0.9.0"
      ],
      "execution_count": null,
      "outputs": []
    },
    {
      "cell_type": "code",
      "metadata": {
        "colab": {
          "base_uri": "https://localhost:8080/",
          "height": 35
        },
        "id": "ITo5PYy6aYlg",
        "outputId": "f6dfbf0d-adff-44b6-be63-e154fbc3f688"
      },
      "source": [
        "# Con este comando podemos consultar la versión de cualquier módulo.\n",
        "import pandas as pd\n",
        "pd.__version__"
      ],
      "execution_count": null,
      "outputs": [
        {
          "output_type": "execute_result",
          "data": {
            "application/vnd.google.colaboratory.intrinsic+json": {
              "type": "string"
            },
            "text/plain": [
              "'1.1.5'"
            ]
          },
          "metadata": {
            "tags": []
          },
          "execution_count": 18
        }
      ]
    },
    {
      "cell_type": "markdown",
      "metadata": {
        "id": "8xwPa6jCxKeM"
      },
      "source": [
        "# POO"
      ]
    },
    {
      "cell_type": "markdown",
      "metadata": {
        "id": "ZtetSRDeOzEl"
      },
      "source": [
        "## Clases\n",
        "Aquellos atributos y métodos que queremos que los objetos conserven son definidos como parte del constructor. El constructor en Python es el método reservado **\\_\\_init\\_\\_()**. Este método se llama cuando se instancia la clase y en ese momento se inicializan los atributos de la clase, para lo cual podemos pasar parámetros.\n",
        "\n",
        "Además, vamos a emplear el término reservado **self** para indicar aquellos atributos y métodos que van a ser propios de la instancia. Veámoslo con un ejemplo.\n",
        "\n"
      ]
    },
    {
      "cell_type": "code",
      "metadata": {
        "id": "sPhhx3-9PwED"
      },
      "source": [
        "class Persona():\n",
        "  # __init__ es el constructor, se utiliza para instanciar los atributos o para valores por default\n",
        "  def __init__(self, nombre, apellido, edad, contacto):\n",
        "    # Este método puede tomar parámetros que asignamos a los atributos, que luego podemos acceder\n",
        "    self.edad = edad\n",
        "    self.contacto = contacto\n",
        "    self.nombre = nombre\n",
        "    self.apellido = apellido\n",
        "  \n",
        "  def nombre_completo(self):\n",
        "    # este método muestra el nombre completo a partir del nombre y apellido \n",
        "    nombre_completo = ', '.join([self.apellido,self.nombre])\n",
        "    return nombre_completo\n",
        "\n",
        "  def saludar(self):\n",
        "      print(f'Hola mi nombre es {self.nombre_completo()}',\n",
        "            f'y te dejo mi mail por si necesitás algo: {self.contacto}')\n",
        "           "
      ],
      "execution_count": null,
      "outputs": []
    },
    {
      "cell_type": "code",
      "metadata": {
        "id": "AXfV6EpiQwPJ",
        "colab": {
          "base_uri": "https://localhost:8080/"
        },
        "outputId": "ac766f99-fb87-4f4d-be29-008dfd7e120a"
      },
      "source": [
        "instancia_ejemplo = Persona('Matías Andrés','Ripley', 24, 'mati@rip.com')\n",
        "instancia_ejemplo.saludar()"
      ],
      "execution_count": null,
      "outputs": [
        {
          "output_type": "stream",
          "text": [
            "Hola mi nombre es Ripley, Matías Andrés y te dejo mi mail por si necesitás algo: mati@rip.com\n"
          ],
          "name": "stdout"
        }
      ]
    },
    {
      "cell_type": "code",
      "metadata": {
        "id": "gbnHqoP8bcjI",
        "colab": {
          "base_uri": "https://localhost:8080/",
          "height": 35
        },
        "outputId": "35019393-7d8e-4240-f76f-5e052128596d"
      },
      "source": [
        "instancia_ejemplo.nombre_completo()"
      ],
      "execution_count": null,
      "outputs": [
        {
          "output_type": "execute_result",
          "data": {
            "application/vnd.google.colaboratory.intrinsic+json": {
              "type": "string"
            },
            "text/plain": [
              "'Ripley, Matías Andrés'"
            ]
          },
          "metadata": {
            "tags": []
          },
          "execution_count": 5
        }
      ]
    },
    {
      "cell_type": "code",
      "metadata": {
        "id": "0oM1crNrcoBj"
      },
      "source": [
        "class Menu():\n",
        "    def __init__(self, items):\n",
        "        self.items = items\n",
        "    \n",
        "    def precio(self, lista_items):\n",
        "        precio = 0\n",
        "        for nombre_item in lista_items:\n",
        "            precio = precio + self.items[nombre_item]\n",
        "        return precio\n",
        "    \n",
        "    def tamaño(self):\n",
        "        return len(self.items)"
      ],
      "execution_count": null,
      "outputs": []
    },
    {
      "cell_type": "code",
      "metadata": {
        "id": "wCpHW04Ccx7p"
      },
      "source": [
        "# Envio un diccionario:\n",
        "mi_menu = Menu({'latte':25, 'medialuna':15})"
      ],
      "execution_count": null,
      "outputs": []
    },
    {
      "cell_type": "markdown",
      "metadata": {
        "id": "4f4vcsxbd7gL"
      },
      "source": [
        "¿Cuánto salen un latte y dos madialunas? ¿Cuántos ítems tenemos?"
      ]
    },
    {
      "cell_type": "code",
      "metadata": {
        "id": "6JAXeKnMdYqC",
        "colab": {
          "base_uri": "https://localhost:8080/"
        },
        "outputId": "10ef6203-88b8-40df-9af5-2823a23a3438"
      },
      "source": [
        "print(mi_menu.precio(['latte','medialuna','medialuna']) )\n",
        "print(mi_menu.tamaño())"
      ],
      "execution_count": null,
      "outputs": [
        {
          "output_type": "stream",
          "text": [
            "55\n",
            "2\n"
          ],
          "name": "stdout"
        }
      ]
    },
    {
      "cell_type": "markdown",
      "metadata": {
        "id": "1c1_9uuOmXoX"
      },
      "source": [
        "¿Cuántos cuestan 10 lattes y 30 medialunas?"
      ]
    },
    {
      "cell_type": "code",
      "metadata": {
        "id": "cVl_gdOvnBNU"
      },
      "source": [
        "class Menu():\n",
        "    def __init__(self, items):\n",
        "        self.items = items\n",
        "    \n",
        "    def precio(self, lista_items):\n",
        "        precio_total = 0\n",
        "        for item_pedido in lista_items:\n",
        "            nombre_producto = item_pedido['nombre']\n",
        "            precio_producto = self.items[nombre_producto]\n",
        "            cantidad = item_pedido['cantidad']\n",
        "            precio_total = precio_total + precio_producto * cantidad\n",
        "        return precio_total\n",
        "    \n",
        "    def tamaño(self):\n",
        "        return len(self.items)"
      ],
      "execution_count": null,
      "outputs": []
    },
    {
      "cell_type": "code",
      "metadata": {
        "id": "ZB8QcEUPrtpd"
      },
      "source": [
        "# Instanciación \n",
        "mi_menu = Menu({'latte':25, 'medialuna':15})"
      ],
      "execution_count": null,
      "outputs": []
    },
    {
      "cell_type": "code",
      "metadata": {
        "id": "Vdme_S03lbmM",
        "colab": {
          "base_uri": "https://localhost:8080/"
        },
        "outputId": "0c499b83-4434-414f-9ae6-6d71c07bb3fc"
      },
      "source": [
        "mi_menu.precio([{'nombre':'latte', 'cantidad':10}, \n",
        "                {'nombre':'medialuna', 'cantidad':30}])"
      ],
      "execution_count": null,
      "outputs": [
        {
          "output_type": "execute_result",
          "data": {
            "text/plain": [
              "700"
            ]
          },
          "metadata": {
            "tags": []
          },
          "execution_count": 44
        }
      ]
    },
    {
      "cell_type": "code",
      "metadata": {
        "id": "b_rOvZLbsX0s"
      },
      "source": [
        "lista = ([{'nombre':'latte', 'cantidad':10}, \n",
        "          {'nombre':'medialuna', 'cantidad':30}])"
      ],
      "execution_count": null,
      "outputs": []
    },
    {
      "cell_type": "code",
      "metadata": {
        "id": "h2HV3ICSscIC",
        "colab": {
          "base_uri": "https://localhost:8080/"
        },
        "outputId": "fb75d94f-c65a-4879-9ecb-76bdc1c65836"
      },
      "source": [
        "# Acceso a item de diccionario en lista\n",
        "#print(lista[0]['nombre'])\n",
        "for item_lista in lista:\n",
        "  print(item_lista['nombre'])\n"
      ],
      "execution_count": null,
      "outputs": [
        {
          "output_type": "stream",
          "text": [
            "latte\n",
            "medialuna\n"
          ],
          "name": "stdout"
        }
      ]
    },
    {
      "cell_type": "markdown",
      "metadata": {
        "id": "dRdESHe1w6B7"
      },
      "source": [
        "Los atributos también son conocidos como variables de instancia, en contraposición a las variables de clase. Las variables de instancia toman un valor específico a una instancia en particular (por eso se emplea el término **self**), por su parte, las variables de clase tienen un valor común para todas las instancias de una clase. Por convención las variables de clase se definen antes del constructor y no llevan **self** en su definición pero sí cuando se la quiere llamar."
      ]
    },
    {
      "cell_type": "markdown",
      "metadata": {
        "id": "8sZRrBAq0y96"
      },
      "source": [
        "Sobre *self*:  "
      ]
    },
    {
      "cell_type": "code",
      "metadata": {
        "id": "QaJTVp611ZQG"
      },
      "source": [
        "class SomeClass:\n",
        "    def __init__(self):\n",
        "        self.arr = [] \n",
        "        #All SomeClass objects will have an array arr by default\n",
        "    \n",
        "    def insert_to_arr(self, value):\n",
        "        self.arr.append(value)"
      ],
      "execution_count": null,
      "outputs": []
    },
    {
      "cell_type": "code",
      "metadata": {
        "id": "NRytBpBh1kMX",
        "colab": {
          "base_uri": "https://localhost:8080/"
        },
        "outputId": "f921b327-dfaf-4c23-f35e-40a34e242199"
      },
      "source": [
        "obj1 = SomeClass()\n",
        "obj2 = SomeClass()\n",
        "obj1.insert_to_arr(6)\n",
        "# Python convierte obj1.insert_to_arr(6) a algo asi: SomeClass.inseart_to_arr(obj1, 6)\n",
        "# por eso el uso de self y la razon por la que no se envía un parámetro\n",
        "print(obj1.arr[0])"
      ],
      "execution_count": null,
      "outputs": [
        {
          "output_type": "stream",
          "text": [
            "6\n"
          ],
          "name": "stdout"
        }
      ]
    },
    {
      "cell_type": "code",
      "metadata": {
        "id": "dIXB9HmX3x1K"
      },
      "source": [
        "class Curso:\n",
        "    max_alumnos = 35 # definimos variable de clase\n",
        "\n",
        "    # Constructor\n",
        "    def __init__(self, nombre, duracion, alumnos = None, costo=10):\n",
        "        self.nombre = nombre\n",
        "        self.duracion = duracion\n",
        "        if alumnos is None:\n",
        "            self.alumnos = []\n",
        "        else:\n",
        "            self.alumnos = alumnos\n",
        "        self.costo = costo # costo tiene un valor por default\n",
        "        \"\"\"¿Por qué ese if? Las variables por default sólo se evalúan a la hora de ejecutar la sentencia def. \n",
        "        En nuestro caso necesitamos que self.alumnos sea una lista y las listas son objetos mutables. \n",
        "        Esto quiere decir que podemos modificarla sin volver a asignarla. Si en vez de 'alumnos = None' usáramos\n",
        "        alumnos = [], entonces con cada nueva instancia del objeto estaríamos compartiendo los alumnos.\n",
        "        Para evitar eso, en general la forma pythónica de hacerlo es usando None por default y asignando el valor\n",
        "        deseado dentro de la función y no en el 'def' \"\"\"\n",
        "\n",
        "    def inscribir_alumno(self, nombre):\n",
        "        self.alumnos.append(nombre) # para poder llamar a alumnos tengo que usar self.\n",
        "        print(f'Se agregó al alumno/a {nombre}')\n",
        "\n",
        "    def tomar_lista(self):\n",
        "        for a in self.alumnos:\n",
        "            print(f'Alumno: {a}')\n",
        "\n",
        "    def resumen(self):\n",
        "        print(f'Curso {self.nombre}, {self.duracion} clases pensadas para {len(self.alumnos)} alumnos\\n'\n",
        "              f'Por el muy módico precio de {self.costo} rupias.',\n",
        "              # llamo variable de clase:\n",
        "              f'La ocupación actual es del {round(len(self.alumnos)/self.max_alumnos,2)*100}%') "
      ],
      "execution_count": null,
      "outputs": []
    },
    {
      "cell_type": "code",
      "metadata": {
        "id": "UNDOq1qAH72-",
        "colab": {
          "base_uri": "https://localhost:8080/",
          "height": 35
        },
        "outputId": "82e9ae56-5913-42a7-9b4c-f23c5a59300d"
      },
      "source": [
        "curso_python.nombre"
      ],
      "execution_count": null,
      "outputs": [
        {
          "output_type": "execute_result",
          "data": {
            "application/vnd.google.colaboratory.intrinsic+json": {
              "type": "string"
            },
            "text/plain": [
              "'Python'"
            ]
          },
          "metadata": {
            "tags": []
          },
          "execution_count": 13
        }
      ]
    },
    {
      "cell_type": "code",
      "metadata": {
        "id": "ilQkic3uCe94"
      },
      "source": [
        "curso_python = Curso('Python', 6)"
      ],
      "execution_count": null,
      "outputs": []
    },
    {
      "cell_type": "markdown",
      "metadata": {
        "id": "LpK18RKddc0Y"
      },
      "source": [
        "##Herencia"
      ]
    },
    {
      "cell_type": "markdown",
      "metadata": {
        "id": "iz2NYovBfYIr"
      },
      "source": [
        "La clase derivada (Alumno) **hereda** atributos y métodos de la clase base (Persona).\n",
        "Para acceder a los métodos de la clase previa vamos a emplear el método reservado **super()**. Con este método podemos invocar el constructor y así acceder a los atributos de esa clase."
      ]
    },
    {
      "cell_type": "code",
      "metadata": {
        "id": "4GcNmB4-dhUL"
      },
      "source": [
        "class Persona():\n",
        "    def __init__(self, nombre, apellido, edad, contacto):\n",
        "        # Este método puede tomar parámetros que asignamos a los atributos, que luego podemos acceder\n",
        "        self.edad = edad # este es un atributo\n",
        "        self.contacto = contacto # este es otro atributo\n",
        "        self.nombre = nombre\n",
        "        self.apellido = apellido\n",
        "        \n",
        "    def nombre_completo(self):\n",
        "        # este método muestra el nombre completo a partir del nombre y apellido \n",
        "        nombre_completo = ', '.join([self.apellido,self.nombre])\n",
        "        return nombre_completo\n",
        "\n",
        "    def saludar(self):\n",
        "        print(f'Hola mi nombre es {self.nombre_completo()}',\n",
        "              f'y te dejo mi mail por si necesitás algo: {self.contacto}')"
      ],
      "execution_count": null,
      "outputs": []
    },
    {
      "cell_type": "code",
      "metadata": {
        "id": "73EkCvLdj_zO"
      },
      "source": [
        "class Curso:\n",
        "    max_alumnos = 35 # definimos variable de clase\n",
        "\n",
        "    def __init__(self, nombre, duracion, alumnos = None, costo=10):\n",
        "        self.nombre = nombre\n",
        "        self.duracion = duracion\n",
        "        if alumnos is None:\n",
        "            self.alumnos = []\n",
        "        else:\n",
        "            self.alumnos = alumnos\n",
        "        self.costo = costo # costo tiene un valor por default\n",
        "        \"\"\"¿Por qué ese if? Las variables por default sólo se evalúan a la hora de ejecutar la sentencia def. \n",
        "        En nuestro caso necesitamos que self.alumnos sea una lista y las listas son objetos mutables. \n",
        "        Esto quiere decir que podemos modificarla sin volver a asignarla. Si en vez de 'alumnos = None' usáramos\n",
        "        alumnos = [], entonces con cada nueva instancia del objeto estaríamos compartiendo los alumnos.\n",
        "        Para evitar eso, en general la forma pythónica de hacerlo es usando None por default y asignando el valor\n",
        "        deseado dentro de la función y no en el 'def' \"\"\"\n",
        "\n",
        "    def inscribir_alumno(self, nombre):\n",
        "        self.alumnos.append(nombre) # para poder llamar a alumnos tengo que usar self.\n",
        "        print(f'Se agregó al alumno/a {nombre}')\n",
        "\n",
        "    def tomar_lista(self):\n",
        "        for a in self.alumnos:\n",
        "            print(f'Alumno: {a}')\n",
        "\n",
        "    def resumen(self):\n",
        "        print(f'Curso {self.nombre}, {self.duracion} clases pensadas para {len(self.alumnos)} alumnos\\n'\n",
        "              f'Por el muy módico precio de {self.costo} rupias.',\n",
        "              # llamo variable de clase:\n",
        "              f'La ocupación actual es del {round(len(self.alumnos)/self.max_alumnos,2)*100}%') "
      ],
      "execution_count": null,
      "outputs": []
    },
    {
      "cell_type": "code",
      "metadata": {
        "id": "kWShbSkUkGIr"
      },
      "source": [
        "# Instanciamos una clase de Curso\n",
        "curso_python = Curso('Python', 6)"
      ],
      "execution_count": null,
      "outputs": []
    },
    {
      "cell_type": "code",
      "metadata": {
        "id": "vDcM6n5djwCW"
      },
      "source": [
        "# Clase derivada\n",
        "# class DerivedClassName(BaseClassName):\n",
        "class Alumno(Persona):\n",
        "    # Recibe como parámetro una instancia de curso\n",
        "    def __init__(self, curso: Curso, *args): \n",
        "        \"\"\" \n",
        "        Alumno pertence a un Curso (una instancia de la clase Curso) y, además, tiene otros atributos que pasaremos\n",
        "        a la clase previa\n",
        "        \"\"\"\n",
        "        print('Args:', *args)\n",
        "        self.curso = curso\n",
        "        super().__init__(*args) # inicializamos la clase 'madre'. La llamamos usando super() y ejecutamos el constructor\n",
        "        # Nótese también que desempacamos args\n",
        "\n",
        "    def saludar(self): # Sobrecarga de métodos, ver abajo\n",
        "        super().saludar() # ejecutamos el método de Persona .saludar() y agregamos más cosas a este método\n",
        "        print('Estoy cursando:')\n",
        "        self.curso.resumen()\n",
        "\n",
        "    def estudiar(self, dato): # También podemos definir nuevos métodos\n",
        "        self.conocimiento = dato"
      ],
      "execution_count": null,
      "outputs": []
    },
    {
      "cell_type": "code",
      "metadata": {
        "id": "Qi5dvfJ2oP1y",
        "colab": {
          "base_uri": "https://localhost:8080/"
        },
        "outputId": "d727e791-8672-4237-ef86-85f4f6cb1f55"
      },
      "source": [
        "scott = Alumno(curso_python, 'Scott', 'Henderson', 49, 'sh@mail.com')\n",
        "scott.saludar()"
      ],
      "execution_count": null,
      "outputs": [
        {
          "output_type": "stream",
          "text": [
            "Args: Scott Henderson 49 sh@mail.com\n",
            "Hola mi nombre es Henderson, Scott y te dejo mi mail por si necesitás algo: sh@mail.com\n",
            "Estoy cursando:\n",
            "Curso Python, 6 clases pensadas para 0 alumnos\n",
            "Por el muy módico precio de 10 rupias. La ocupación actual es del 0.0%\n"
          ],
          "name": "stdout"
        }
      ]
    },
    {
      "cell_type": "code",
      "metadata": {
        "id": "duNo1-tnokb_"
      },
      "source": [
        "scott.estudiar('Se puede heredar de otra clase y extender sus métodos')"
      ],
      "execution_count": null,
      "outputs": []
    },
    {
      "cell_type": "code",
      "metadata": {
        "id": "sZsRLB7eonA2",
        "colab": {
          "base_uri": "https://localhost:8080/",
          "height": 35
        },
        "outputId": "f8a54576-28fc-4227-d983-bf774edf82d8"
      },
      "source": [
        "scott.conocimiento"
      ],
      "execution_count": null,
      "outputs": [
        {
          "output_type": "execute_result",
          "data": {
            "application/vnd.google.colaboratory.intrinsic+json": {
              "type": "string"
            },
            "text/plain": [
              "'Se puede heredar de otra clase y extender sus métodos'"
            ]
          },
          "metadata": {
            "tags": []
          },
          "execution_count": 9
        }
      ]
    },
    {
      "cell_type": "code",
      "metadata": {
        "id": "d0Taas71otk_",
        "colab": {
          "base_uri": "https://localhost:8080/"
        },
        "outputId": "74065037-329c-4779-c7b0-5b3ec3c1e184"
      },
      "source": [
        "# Listar cuáles son los atributos y los métodos de scott\n",
        "dir(scott)"
      ],
      "execution_count": null,
      "outputs": [
        {
          "output_type": "execute_result",
          "data": {
            "text/plain": [
              "['__class__',\n",
              " '__delattr__',\n",
              " '__dict__',\n",
              " '__dir__',\n",
              " '__doc__',\n",
              " '__eq__',\n",
              " '__format__',\n",
              " '__ge__',\n",
              " '__getattribute__',\n",
              " '__gt__',\n",
              " '__hash__',\n",
              " '__init__',\n",
              " '__init_subclass__',\n",
              " '__le__',\n",
              " '__lt__',\n",
              " '__module__',\n",
              " '__ne__',\n",
              " '__new__',\n",
              " '__reduce__',\n",
              " '__reduce_ex__',\n",
              " '__repr__',\n",
              " '__setattr__',\n",
              " '__sizeof__',\n",
              " '__str__',\n",
              " '__subclasshook__',\n",
              " '__weakref__',\n",
              " 'apellido',\n",
              " 'conocimiento',\n",
              " 'contacto',\n",
              " 'curso',\n",
              " 'edad',\n",
              " 'estudiar',\n",
              " 'nombre',\n",
              " 'nombre_completo',\n",
              " 'saludar']"
            ]
          },
          "metadata": {
            "tags": []
          },
          "execution_count": 10
        }
      ]
    },
    {
      "cell_type": "markdown",
      "metadata": {
        "id": "63mWcvbspIWf"
      },
      "source": [
        "## Protección de acceso\n",
        "\n",
        "Podemos cambiar el acceso (publico, no publico, protejido) de los métodos y variables."
      ]
    },
    {
      "cell_type": "markdown",
      "metadata": {
        "id": "QcF4VB7mpPZj"
      },
      "source": [
        "Dos formas distintas de encapsulamiento:\n",
        "\n",
        "_nopublico\n",
        "__protegido\n",
        "Los atributos o método no públicos pueden ser accedidos desde el objeto y llevan el prefijo \"_\". La utilidad de este es indicarle al usuario que es una variable o método privado, de uso interno en el código de la clase y que no está pensando que sea usado desde afuera, por el usuario.\n",
        "\n",
        "Por otra parte, en el caso de usar como prefijo \"__\" (doble \"_\") directamente vamos a ocultar la variable o método de la lista de sugerencias para el usuario y tampoco va a poder invocarlo desde el objeto. Por este motivo, decimos que el atributo o método está protegido"
      ]
    },
    {
      "cell_type": "code",
      "metadata": {
        "id": "5Fkj28DxpYSO"
      },
      "source": [
        "class Auto():\n",
        "\n",
        "    def __init__(self, color, marca, velocidad_maxima):\n",
        "        self.color = color  # atributo público\n",
        "        self.marca = marca  # atributo público\n",
        "        self.__velocidad_maxima = 200 # atributo protejido\n",
        "        self.velocidad = 0\n",
        "        self.__contador = 0 # kilometros recorridos  # atributo protejido\n",
        "    \n",
        "    def avanzar(self, horas=1, velocidad=10):\n",
        "        if self._chequear_velocidad(velocidad):\n",
        "            self.velocidad = velocidad\n",
        "            print(f'avanzando durante {horas} horas')\n",
        "            self.__contador += horas*self.velocidad\n",
        "        else:\n",
        "            print(f\"Tu auto no puede llegar a tanta velocidad, el máximo es {self.__velocidad_maxima}\")\n",
        "    \n",
        "    def _chequear_velocidad(self, velocidad):\n",
        "        es_valida = False\n",
        "        if velocidad < self.__velocidad_maxima:\n",
        "            es_valida = True\n",
        "            if self.velocidad < velocidad:\n",
        "                print(\"Vas a acelerar!\")\n",
        "            else:\n",
        "                print(\"Vas a desaceler!\")\n",
        "        else:\n",
        "            print(\"Tu motor no permite ir tan rápido\")\n",
        "            es_valida = False\n",
        "        return es_valida\n",
        "    \n",
        "    def status(self):\n",
        "        print(f\"Vas a una velocidad de {self.velocidad} y llevás {self.__contador} km. recorridos\")"
      ],
      "execution_count": null,
      "outputs": []
    },
    {
      "cell_type": "code",
      "metadata": {
        "id": "sx9eZzCmprkO"
      },
      "source": [
        "superauto = Auto('rojo','Ferraudi', 200)"
      ],
      "execution_count": null,
      "outputs": []
    },
    {
      "cell_type": "code",
      "metadata": {
        "id": "gTdnqHbCpuP2",
        "colab": {
          "base_uri": "https://localhost:8080/"
        },
        "outputId": "b7a1ab65-45d4-4a28-d930-fc3456f509c9"
      },
      "source": [
        "# Atributo no publ\n",
        "superauto.avanzar(10)"
      ],
      "execution_count": null,
      "outputs": [
        {
          "output_type": "stream",
          "text": [
            "Vas a acelerar!\n",
            "avanzando durante 10 horas\n"
          ],
          "name": "stdout"
        }
      ]
    },
    {
      "cell_type": "code",
      "metadata": {
        "id": "lgJLPzSypxdw",
        "colab": {
          "base_uri": "https://localhost:8080/"
        },
        "outputId": "b317e7ac-bd4a-47c3-b957-eafa08effc84"
      },
      "source": [
        "superauto.status()"
      ],
      "execution_count": null,
      "outputs": [
        {
          "output_type": "stream",
          "text": [
            "Vas a una velocidad de 10 y llevás 100 km. recorridos\n"
          ],
          "name": "stdout"
        }
      ]
    },
    {
      "cell_type": "code",
      "metadata": {
        "id": "Ymx9mqjUp1HO",
        "colab": {
          "base_uri": "https://localhost:8080/",
          "height": 189
        },
        "outputId": "966235aa-7c09-4303-b347-a3e5543d97cb"
      },
      "source": [
        "# No se puede acceder a un atributo protegido\n",
        "superauto.__contador "
      ],
      "execution_count": null,
      "outputs": [
        {
          "output_type": "error",
          "ename": "AttributeError",
          "evalue": "ignored",
          "traceback": [
            "\u001b[0;31m---------------------------------------------------------------------------\u001b[0m",
            "\u001b[0;31mAttributeError\u001b[0m                            Traceback (most recent call last)",
            "\u001b[0;32m<ipython-input-15-1a30cd269de5>\u001b[0m in \u001b[0;36m<module>\u001b[0;34m()\u001b[0m\n\u001b[1;32m      1\u001b[0m \u001b[0;31m# No se puede acceder a un atributo protegido\u001b[0m\u001b[0;34m\u001b[0m\u001b[0;34m\u001b[0m\u001b[0;34m\u001b[0m\u001b[0m\n\u001b[0;32m----> 2\u001b[0;31m \u001b[0msuperauto\u001b[0m\u001b[0;34m.\u001b[0m\u001b[0m__contador\u001b[0m\u001b[0;34m\u001b[0m\u001b[0;34m\u001b[0m\u001b[0m\n\u001b[0m",
            "\u001b[0;31mAttributeError\u001b[0m: 'Auto' object has no attribute '__contador'"
          ]
        }
      ]
    },
    {
      "cell_type": "code",
      "metadata": {
        "id": "mTvrh6jjp5FW",
        "colab": {
          "base_uri": "https://localhost:8080/"
        },
        "outputId": "a9892613-1c58-48fd-a66f-33b35645d504"
      },
      "source": [
        "# Pero sí se puede acceder a un método no público:\n",
        "superauto._chequear_velocidad(10)"
      ],
      "execution_count": null,
      "outputs": [
        {
          "output_type": "stream",
          "text": [
            "Vas a desaceler!\n"
          ],
          "name": "stdout"
        },
        {
          "output_type": "execute_result",
          "data": {
            "text/plain": [
              "True"
            ]
          },
          "metadata": {
            "tags": []
          },
          "execution_count": 18
        }
      ]
    },
    {
      "cell_type": "markdown",
      "metadata": {
        "id": "o6yWTDyUtA_O"
      },
      "source": [
        "Define una clase Linea. Esta clase toma como parámetros dos objetos Punto() (instancias de la clase que definieron antes). \n",
        "\n",
        "1- Agregar un método 'largo' que permita calcular el largo de la línea. Para ello vale la pena recordar que ésta se puede calcular como la hipotenusa del triángulo rectángulo que se forma con los dos puntos.\n",
        "\\\\[ a = \\sqrt{b^2 + c^2} \\\\]\n"
      ]
    },
    {
      "cell_type": "code",
      "metadata": {
        "id": "uTuf_WYntQ1-"
      },
      "source": [
        "class Punto:\n",
        "  def __init__(self, x, y):\n",
        "    self.x = x\n",
        "    self.y = y\n"
      ],
      "execution_count": null,
      "outputs": []
    },
    {
      "cell_type": "code",
      "metadata": {
        "id": "7lem8-e2toI-"
      },
      "source": [
        "class Linea:\n",
        "  def __init__(self,p1:Punto, p2:Punto):\n",
        "    self.p1 = p1\n",
        "    self.p2 = p2\n",
        "  \n",
        "  def largo(self):\n",
        "    largo = ((self.p1.x - self.p2.x ) ** 2 + (self.p1.y - self.p2.y) **2 )** 0.5\n",
        "    return largo\n",
        "  \n",
        "  def pendiente(self):\n",
        "    dist_x = self.p2.x - self.p1.x\n",
        "    dist_y = self.p2.y - self.p1.y\n",
        "    return dist_y/dist_x\n",
        "  "
      ],
      "execution_count": null,
      "outputs": []
    },
    {
      "cell_type": "code",
      "metadata": {
        "id": "zhmf8HEXvDAZ"
      },
      "source": [
        "p1 = Punto(4, 1)\n",
        "p2 = Punto(7, 5)"
      ],
      "execution_count": null,
      "outputs": []
    },
    {
      "cell_type": "code",
      "metadata": {
        "id": "CtV7XGsavNlY"
      },
      "source": [
        "l = Linea(p1,p2)"
      ],
      "execution_count": null,
      "outputs": []
    },
    {
      "cell_type": "code",
      "metadata": {
        "id": "j0EhGRwmvVc1",
        "colab": {
          "base_uri": "https://localhost:8080/"
        },
        "outputId": "1f0715c3-3877-48fc-a128-142792012b58"
      },
      "source": [
        "l.largo() "
      ],
      "execution_count": null,
      "outputs": [
        {
          "output_type": "execute_result",
          "data": {
            "text/plain": [
              "5.0"
            ]
          },
          "metadata": {
            "tags": []
          },
          "execution_count": 35
        }
      ]
    },
    {
      "cell_type": "code",
      "metadata": {
        "id": "RprZ55mswdF4",
        "colab": {
          "base_uri": "https://localhost:8080/"
        },
        "outputId": "e7f4d2d9-8b67-4654-a0ec-1bb025d5cfa4"
      },
      "source": [
        "l.pendiente()"
      ],
      "execution_count": null,
      "outputs": [
        {
          "output_type": "execute_result",
          "data": {
            "text/plain": [
              "1.3333333333333333"
            ]
          },
          "metadata": {
            "tags": []
          },
          "execution_count": 36
        }
      ]
    },
    {
      "cell_type": "markdown",
      "metadata": {
        "id": "bN2dBeClzeQN"
      },
      "source": [
        "## Métodos Especiales\n",
        "\n",
        "Las clases en Python cuentan con múltiples métodos especiales, los cuales se encuentran entre dobles guiones bajos __<metodo>__().\n",
        "\n",
        "Los métodos especiales más utilizados son <strong> \\_\\_init\\_\\_(), \\_\\_str\\_\\_() y \\_\\_del\\_\\_() </strong>.\n",
        "\n",
        "\\_\\_init\\_\\_ sirve para inicializar la clase y \\_\\_del\\_\\_ sirve para eliminar completamente el objeto del compilador.\n",
        "\n",
        "Veamos un ejemplo de uso de \\_\\_str\\_\\_. Una vez que definimos este método, responde a la sintaxis reservada de Python str()."
      ]
    },
    {
      "cell_type": "code",
      "metadata": {
        "id": "CeJevbwszmyG"
      },
      "source": [
        "# Clase derivada\n",
        "class Alumno(Persona):\n",
        "    def __init__(self, curso: Curso, *args): \n",
        "        \"\"\" \n",
        "        Alumno pertence a un Curso (una instancia de la clase Curso) y, además, tiene otros atributos que pasaremos\n",
        "        a la clase previa\n",
        "        \"\"\"\n",
        "        self.curso = curso\n",
        "        super().__init__(*args) # inicializamos la clase 'madre'. La llamamos usando super() y ejecutamos el constructor\n",
        "        # Nótese también que desempacamos args\n",
        "\n",
        "    def saludar(self): # Sobrecarga de métodos, ver abajo\n",
        "        super().saludar() # ejecutamos el método de Persona .saludar() y agregamos más cosas a este método\n",
        "        print('Estoy cursando:')\n",
        "        self.curso.resumen()\n",
        "\n",
        "    def estudiar(self, dato): # También podemos definir nuevos métodos\n",
        "        self.conocimiento = dato\n",
        "        \n",
        "    def __str__(self):\n",
        "        #Devuelve un string representativo del alumno\n",
        "        return f'Alumno {self.nombre_completo()}'\n",
        "    "
      ],
      "execution_count": null,
      "outputs": []
    },
    {
      "cell_type": "code",
      "metadata": {
        "id": "gYs7tT_dzqyt"
      },
      "source": [
        "un_alumno = Alumno(curso_python, 'Scott', 'Henderson', 49, 'sh@mail.com')"
      ],
      "execution_count": null,
      "outputs": []
    },
    {
      "cell_type": "code",
      "metadata": {
        "id": "Jhzn7_0ZzuUf",
        "colab": {
          "base_uri": "https://localhost:8080/",
          "height": 35
        },
        "outputId": "26d026f0-db50-4d90-a280-a5ccb9b3b863"
      },
      "source": [
        "str(un_alumno)"
      ],
      "execution_count": null,
      "outputs": [
        {
          "output_type": "execute_result",
          "data": {
            "application/vnd.google.colaboratory.intrinsic+json": {
              "type": "string"
            },
            "text/plain": [
              "'Alumno Henderson, Scott'"
            ]
          },
          "metadata": {
            "tags": []
          },
          "execution_count": 39
        }
      ]
    },
    {
      "cell_type": "markdown",
      "metadata": {
        "id": "m6IJ6d-Az5sd"
      },
      "source": [
        "## Métodos Estáticos\n",
        "\n",
        "¿Qué pasa si no queremos instanciar los objetos a la hora de usarlos? En algunos diseños, tiene sentido utilizar las clases como simples repositorios de métodos. Por ejemplo, si necesito resolver varias operaciones geométricas puedo crear una clase Geometria que contenga todos los métodos necesarios.\n",
        "\n",
        "Para crear este tipo de métodos en una clase utilizamos el decorador @staticmethod. "
      ]
    },
    {
      "cell_type": "code",
      "metadata": {
        "id": "dkjrxrtN0ABu"
      },
      "source": [
        "class Geomtria():\n",
        "    \"\"\"Resuelve operaciones geométricas\"\"\"\n",
        "    \n",
        "    @staticmethod\n",
        "    def pendiente(x1,y1,x2,y2):\n",
        "        return ((y2 - y1)/(x2-x1))\n",
        "    \n",
        "    @staticmethod\n",
        "    def area_circulo(radio):\n",
        "        return math.pi * (radio**2)"
      ],
      "execution_count": null,
      "outputs": []
    },
    {
      "cell_type": "code",
      "metadata": {
        "id": "wSDVEJC_0Cjs",
        "colab": {
          "base_uri": "https://localhost:8080/"
        },
        "outputId": "36e31c9c-13ad-436e-8d09-3a5c475370bd"
      },
      "source": [
        "import math\n",
        "Geomtria.area_circulo(3)"
      ],
      "execution_count": null,
      "outputs": [
        {
          "output_type": "execute_result",
          "data": {
            "text/plain": [
              "28.274333882308138"
            ]
          },
          "metadata": {
            "tags": []
          },
          "execution_count": 42
        }
      ]
    },
    {
      "cell_type": "markdown",
      "metadata": {
        "id": "hmbmB9Gl0UBu"
      },
      "source": [
        "## Duck typing y monkey patching\n",
        "\n",
        "Dos características de la programación orientada a objetos con Python son el duck tiping y el monkey patching. Este tipo de flexibilidad es el que le permitió a Python crecer tanto en su adopción porque reducen la cantidad de palabras que es necesario escribir para desarrollar código, lo cual ahorra tiempo y también disminuyen la complejidad.\n",
        "\n",
        "### Duck typing"
      ]
    },
    {
      "cell_type": "code",
      "metadata": {
        "id": "K-HY8yGw0VXt"
      },
      "source": [
        "class ElHobbit:\n",
        "    \n",
        "    def __init__(self,nombre):\n",
        "        self.nombre = nombre\n",
        "    \n",
        "    def __len__(self):\n",
        "        return 95022\n",
        "    \n",
        "    def saludar(self):\n",
        "        return f'Hola soy {self.nombre}'\n",
        "\n",
        "el_hobbit = ElHobbit('Frodo')"
      ],
      "execution_count": null,
      "outputs": []
    },
    {
      "cell_type": "code",
      "metadata": {
        "id": "MCbaNrlA0aul",
        "colab": {
          "base_uri": "https://localhost:8080/"
        },
        "outputId": "777d01af-153a-488d-ca15-405c2e7d81ce"
      },
      "source": [
        "len(el_hobbit)"
      ],
      "execution_count": null,
      "outputs": [
        {
          "output_type": "execute_result",
          "data": {
            "text/plain": [
              "95022"
            ]
          },
          "metadata": {
            "tags": []
          },
          "execution_count": 44
        }
      ]
    },
    {
      "cell_type": "code",
      "metadata": {
        "id": "OFKHpidK0j-3"
      },
      "source": [
        "mi_str = \"Hello World\"\n",
        "mi_list = [34, 54, 65, 78]\n",
        "mi_dict = {\"a\": 123, \"b\": 456, \"c\": 789}"
      ],
      "execution_count": null,
      "outputs": []
    },
    {
      "cell_type": "code",
      "metadata": {
        "id": "me5EtVka0mpd",
        "colab": {
          "base_uri": "https://localhost:8080/"
        },
        "outputId": "fa2f83d6-56a7-4367-ee63-c6f6eac7e83b"
      },
      "source": [
        "print(len(mi_str))\n",
        "print(len(mi_list))\n",
        "print(len(mi_dict))\n",
        "print(len(el_hobbit))"
      ],
      "execution_count": null,
      "outputs": [
        {
          "output_type": "stream",
          "text": [
            "11\n",
            "4\n",
            "3\n",
            "95022\n"
          ],
          "name": "stdout"
        }
      ]
    },
    {
      "cell_type": "markdown",
      "metadata": {
        "id": "4fVRT9S206r1"
      },
      "source": [
        "## Monkey Patching\n",
        "\n",
        "Guerrilla, gorilla, ¿monkey?... Este término viene de uno anterior, \"guerrilla patching\", que hace referencia a emparchar el código rápido y cuando es necesario. \n",
        "\n",
        "Se refiere a la posibilidad en Python de sobreescribir clases después de haberlas instanciado y por qué no también la funcionalidad de los módulos. "
      ]
    },
    {
      "cell_type": "code",
      "metadata": {
        "id": "8Vfht8W31AG-",
        "colab": {
          "base_uri": "https://localhost:8080/",
          "height": 35
        },
        "outputId": "d815d524-1381-4dfc-a13a-342f572ee1c8"
      },
      "source": [
        "el_hobbit.saludar()"
      ],
      "execution_count": null,
      "outputs": [
        {
          "output_type": "execute_result",
          "data": {
            "application/vnd.google.colaboratory.intrinsic+json": {
              "type": "string"
            },
            "text/plain": [
              "'Hola soy Frodo'"
            ]
          },
          "metadata": {
            "tags": []
          },
          "execution_count": 49
        }
      ]
    },
    {
      "cell_type": "code",
      "metadata": {
        "id": "rST1btAH1EId"
      },
      "source": [
        "def saludo_largo(self):\n",
        "    return f'Hola mi nombre es {self.nombre}'"
      ],
      "execution_count": null,
      "outputs": []
    },
    {
      "cell_type": "code",
      "metadata": {
        "id": "wnVm3nYB1I6a"
      },
      "source": [
        "ElHobbit.saludar = saludo_largo"
      ],
      "execution_count": null,
      "outputs": []
    },
    {
      "cell_type": "code",
      "metadata": {
        "id": "mDARRqok1M20",
        "colab": {
          "base_uri": "https://localhost:8080/",
          "height": 35
        },
        "outputId": "361650ca-a9b2-40cf-df40-12cc8358fe4d"
      },
      "source": [
        "el_hobbit.saludar()"
      ],
      "execution_count": null,
      "outputs": [
        {
          "output_type": "execute_result",
          "data": {
            "application/vnd.google.colaboratory.intrinsic+json": {
              "type": "string"
            },
            "text/plain": [
              "'Hola mi nombre es Frodo'"
            ]
          },
          "metadata": {
            "tags": []
          },
          "execution_count": 52
        }
      ]
    },
    {
      "cell_type": "markdown",
      "metadata": {
        "id": "ABRMAdIT0xQm"
      },
      "source": [
        "# Aplicación POO"
      ]
    },
    {
      "cell_type": "code",
      "metadata": {
        "id": "737GAnUR0z2V",
        "outputId": "c38cb708-680f-4b6c-f65c-d71bfdfd8498",
        "colab": {
          "base_uri": "https://localhost:8080/"
        }
      },
      "source": [
        "!pip install python-docx"
      ],
      "execution_count": 1,
      "outputs": [
        {
          "output_type": "stream",
          "text": [
            "Collecting python-docx\n",
            "\u001b[?25l  Downloading https://files.pythonhosted.org/packages/e4/83/c66a1934ed5ed8ab1dbb9931f1779079f8bca0f6bbc5793c06c4b5e7d671/python-docx-0.8.10.tar.gz (5.5MB)\n",
            "\u001b[K     |████████████████████████████████| 5.5MB 7.0MB/s \n",
            "\u001b[?25hRequirement already satisfied: lxml>=2.3.2 in /usr/local/lib/python3.7/dist-packages (from python-docx) (4.2.6)\n",
            "Building wheels for collected packages: python-docx\n",
            "  Building wheel for python-docx (setup.py) ... \u001b[?25l\u001b[?25hdone\n",
            "  Created wheel for python-docx: filename=python_docx-0.8.10-cp37-none-any.whl size=184491 sha256=1f72634065fb0539dcb8ac4f45a0e881d82dc15a72ea6f3dd0347f16eab01e23\n",
            "  Stored in directory: /root/.cache/pip/wheels/18/0b/a0/1dd62ff812c857c9e487f27d80d53d2b40531bec1acecfa47b\n",
            "Successfully built python-docx\n",
            "Installing collected packages: python-docx\n",
            "Successfully installed python-docx-0.8.10\n"
          ],
          "name": "stdout"
        }
      ]
    },
    {
      "cell_type": "markdown",
      "metadata": {
        "id": "mdEzLdi-18Lu"
      },
      "source": [
        "## Aplicación de POO: Experimento de Tiempo de Reacción\n",
        "\n",
        "En esta clase vamos a utilizar un diseño de POO para crear una batería de experimentos:\n",
        "\n",
        "- Tiempo de Reacción\n",
        "- Cuestionario\n",
        "\n",
        "Para eso, tendremos una clase Sujeto que contendrá un id de sujeto, una clase abstracta **Experimento** de la cual heredarán las de **Tiempo de Reacción** y **Cuestionario**, y una clase para generar un **Reporte** de los resultados automáticamente."
      ]
    },
    {
      "cell_type": "code",
      "metadata": {
        "id": "vY8PntzE2F9v"
      },
      "source": [
        "class Sujeto():\n",
        "  '''Clase para un sujeto experimental.\n",
        "  info contiene datos por ejemplo sociodemográficos previos\n",
        "  en resultados guardaremos los resultados de las pruebas'''\n",
        "  def __init__(self, sujeto_id, info:dict):\n",
        "    self.id = sujeto_id\n",
        "    self.info = info\n",
        "    self.resultados = dict()\n",
        "  \n",
        "  #  sobreescribir el metodo __repr__ segun estos datos especificos \n",
        "  def __repr__(self):\n",
        "    # Funcion magica para mostrar los datos del sujeto\n",
        "    # el :<20 hace un relleno de máximo 20 espacios\n",
        "    s = f'Datos de ID {self.id:<20}\\n\\n'\n",
        "    for k, v in self.info.items():\n",
        "      s += f\"{k:<20} {v:<20}\\n\"\n",
        "    for k, v in self.resultados.items():\n",
        "      s += f\"{k:<20} {v:<20}\\n\"\n",
        "    return s "
      ],
      "execution_count": 5,
      "outputs": []
    },
    {
      "cell_type": "code",
      "metadata": {
        "id": "BeOtkEHmKTpg"
      },
      "source": [
        "# instanciamos\n",
        "info_ejemplo = {'edad':22, 'fecha_nacimiento':'01-01-1998', 'años_educacion':6}\n",
        "sujeto = Sujeto('123456', info_ejemplo)"
      ],
      "execution_count": 6,
      "outputs": []
    },
    {
      "cell_type": "code",
      "metadata": {
        "id": "c755znKmKUbA",
        "outputId": "a0c23d5a-6fe5-4f90-a86b-65521fe7902f",
        "colab": {
          "base_uri": "https://localhost:8080/"
        }
      },
      "source": [
        "print(sujeto)"
      ],
      "execution_count": 7,
      "outputs": [
        {
          "output_type": "stream",
          "text": [
            "Datos de ID 123456              \n",
            "\n",
            "edad                 22                  \n",
            "fecha_nacimiento     01-01-1998          \n",
            "años_educacion       6                   \n",
            "\n"
          ],
          "name": "stdout"
        }
      ]
    },
    {
      "cell_type": "markdown",
      "metadata": {
        "id": "uQw2cNobRAlh"
      },
      "source": [
        "Una vez que ya contamos con sujeto. Definimos una clase para la realización del experimento.  \n",
        "\n",
        "La clase tendrá tres métodos:\n",
        ">- instruccion: dará una pauta sobre como realizar el experimento.\n",
        ">- corregir_datos: toma los datos crudos y calcula un resultado\n",
        ">- tomar_experimento: realizará el experimento."
      ]
    },
    {
      "cell_type": "code",
      "metadata": {
        "id": "plrs4n3pKUeY"
      },
      "source": [
        "class Experimiento():\n",
        "  def __init__(self, sujeto:Sujeto, consigna='atencion!', nombre='Experimento'):\n",
        "    self.nombre = nombre\n",
        "    self.sujeto = sujeto\n",
        "    self.consigna = consigna\n",
        "    self.datos = []\n",
        "  \n",
        "  def instrucciones(self):\n",
        "    print(self.consigna)\n",
        "  \n",
        "  def corregir_datos(self):\n",
        "    pass\n",
        "\n",
        "  def tomar_experimento(self):\n",
        "    pass"
      ],
      "execution_count": 8,
      "outputs": []
    },
    {
      "cell_type": "code",
      "metadata": {
        "id": "REZMEe5zKUn-"
      },
      "source": [
        "exp = Experimiento(sujeto)"
      ],
      "execution_count": 9,
      "outputs": []
    },
    {
      "cell_type": "code",
      "metadata": {
        "id": "CoFIuQFwQn59",
        "outputId": "40e9e729-ff52-4d91-9746-eb842403fb10",
        "colab": {
          "base_uri": "https://localhost:8080/",
          "height": 35
        }
      },
      "source": [
        "exp.nombre"
      ],
      "execution_count": 10,
      "outputs": [
        {
          "output_type": "execute_result",
          "data": {
            "application/vnd.google.colaboratory.intrinsic+json": {
              "type": "string"
            },
            "text/plain": [
              "'Experimento'"
            ]
          },
          "metadata": {
            "tags": []
          },
          "execution_count": 10
        }
      ]
    },
    {
      "cell_type": "markdown",
      "metadata": {
        "id": "cyMS_9YPR7qH"
      },
      "source": [
        "### Tiempo de Reacción"
      ]
    },
    {
      "cell_type": "markdown",
      "metadata": {
        "id": "FkoMJ7e3R-V2"
      },
      "source": [
        "Para tomar el experimento se utilizarán dos modulos/librerias: **time** y **random**. \n",
        "\n",
        ">- **time**, nos va a ayudar a calcular el tiempo durante nuestro experimento.  \n",
        ">- **random**, nos va a permitir generar números aleatorios."
      ]
    },
    {
      "cell_type": "markdown",
      "metadata": {
        "id": "okdAvJT8SDO-"
      },
      "source": [
        "### Ejercicio: \n",
        "\n",
        "Crear una función *tomar_experimento* que ejecute una prueba de tiempo de reacción. Para esto, recibe como argumento \"rango_pausa\", que es el rango de segundos máximo que puede demorar entre un estímulo y el siguiente.\n",
        "\n",
        "Usando:\n",
        "\n",
        "- La función **time.time()** para devolver el tiempo actual en segundos\n",
        "- La función **random.random()** para generar un número aleatorio entre 0 y 1 y variar el tiempo de pausa\n",
        "- La función **time.sleep(s)** para hacer una pausa de *s* segundos\n",
        "- Y la función **input()** que aguarda una entrada del usuario, bloqueando la ejecución hasta que ingresa la tecla *ENTER*. "
      ]
    },
    {
      "cell_type": "markdown",
      "metadata": {
        "id": "hgduKjF5TRxV"
      },
      "source": [
        "```Dada una lista vacía \n",
        "Dado un entero \"n_trials\"\n",
        "\n",
        "Hacer \"n_trials\" veces:\n",
        "  Tomar un tiempo 0\n",
        "  Aguardar input\n",
        "  Tomar un tiempo 1\n",
        "  Calcular diferencia entre tiempos\n",
        "  Agregar diferencia a la lista\n",
        "  Hacer una pausa random de tiempo\n",
        "```"
      ]
    },
    {
      "cell_type": "code",
      "metadata": {
        "id": "lrJCnvsATYkp"
      },
      "source": [
        "import time\n",
        "import random"
      ],
      "execution_count": 11,
      "outputs": []
    },
    {
      "cell_type": "code",
      "metadata": {
        "id": "LBd1vEqyUMKu",
        "outputId": "12c83bb1-507b-4dae-9be5-520bb57c39c9",
        "colab": {
          "base_uri": "https://localhost:8080/"
        }
      },
      "source": [
        "print(time.time())\n",
        "print(time.strftime(\"%Y-%m-%d %H:%M:%S\", time.gmtime()))\n",
        "print(random.random())"
      ],
      "execution_count": 17,
      "outputs": [
        {
          "output_type": "stream",
          "text": [
            "1619997103.7783973\n",
            "2021-05-02 23:11:43\n",
            "0.8111628187876175\n"
          ],
          "name": "stdout"
        }
      ]
    },
    {
      "cell_type": "code",
      "metadata": {
        "id": "HBOvDnwXTb0j"
      },
      "source": [
        "def tomar_experimento(n_trials, rango_pausa=10):\n",
        "    dif = 0\n",
        "    for trial in range(n_trials):\n",
        "      t = random.random() * rango_pausa\n",
        "      print(t)\n",
        "      time.sleep(t)\n",
        "      tiempo_inicio = time.time()\n",
        "      input(\"Presiona Enter!!\")\n",
        "      tiempo_fin = time.time()\n",
        "      dif = dif + (tiempo_fin - tiempo_inicio)\n",
        "    print('tiempo demorado:', dif)\n"
      ],
      "execution_count": 22,
      "outputs": []
    },
    {
      "cell_type": "code",
      "metadata": {
        "id": "P63HXcQjXSgF",
        "outputId": "a803e66a-613e-4439-a2cf-90781ecf56ea",
        "colab": {
          "base_uri": "https://localhost:8080/"
        }
      },
      "source": [
        "tomar_experimento(5)"
      ],
      "execution_count": 23,
      "outputs": [
        {
          "output_type": "stream",
          "text": [
            "5.669862142435749\n",
            "Presiona Enter!!\n",
            "1.4020111163292093\n",
            "Presiona Enter!!\n",
            "9.88977500120544\n",
            "Presiona Enter!!\n",
            "0.9371886503205507\n",
            "Presiona Enter!!\n",
            "7.416535969616131\n",
            "Presiona Enter!!\n",
            "tiempo demorado: 6.647925615310669\n"
          ],
          "name": "stdout"
        }
      ]
    },
    {
      "cell_type": "code",
      "metadata": {
        "id": "KbERVP6mQ0Br"
      },
      "source": [
        "class TiempoDeReaccion(Experimento): \n",
        "    '''Hereda la clase Experimento'''\n",
        "    def __init__(self, *args, **kwargs):\n",
        "        super().__init__(*args, **kwargs)\n",
        "        \n",
        "    def corregir_datos(self):\n",
        "        mu = sum(self.datos) / len(self.datos)\n",
        "        var = sum([(x - mu)**2 for x in self.datos]) / len(self.datos)\n",
        "        self.sujeto.resultados['MediaReaccion'] = mu\n",
        "        self.sujeto.resultados['VarianzaReaccion'] = var\n",
        "\n",
        "    # COMPLETAR\n",
        "    # Usar la función tomar_experimento, esta vez con self en los argumentos\n",
        "    # y guardar el resultado en self.datos\n",
        "    # Al final del experimento, llamar a la función \"corregir_datos\"\n",
        "    def tomar_experimento(self, n_trials, rango_pausa=10):\n",
        "        pass"
      ],
      "execution_count": null,
      "outputs": []
    },
    {
      "cell_type": "code",
      "metadata": {
        "id": "mLGI6Eh6Q0Sp"
      },
      "source": [
        ""
      ],
      "execution_count": null,
      "outputs": []
    }
  ]
}