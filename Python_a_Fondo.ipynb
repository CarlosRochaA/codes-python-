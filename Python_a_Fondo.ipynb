{
  "nbformat": 4,
  "nbformat_minor": 0,
  "metadata": {
    "colab": {
      "name": "Python a Fondo.ipynb",
      "provenance": [],
      "collapsed_sections": [],
      "authorship_tag": "ABX9TyOzlJ34DlUJnEF1T7hpSq/2",
      "include_colab_link": true
    },
    "kernelspec": {
      "name": "python3",
      "display_name": "Python 3"
    },
    "language_info": {
      "name": "python"
    }
  },
  "cells": [
    {
      "cell_type": "markdown",
      "metadata": {
        "id": "view-in-github",
        "colab_type": "text"
      },
      "source": [
        "<a href=\"https://colab.research.google.com/github/CarlosRochaA/codes-python-/blob/main/Python_a_Fondo.ipynb\" target=\"_parent\"><img src=\"https://colab.research.google.com/assets/colab-badge.svg\" alt=\"Open In Colab\"/></a>"
      ]
    },
    {
      "cell_type": "markdown",
      "source": [
        "<a name=\"contents\"></a>\n",
        "# Contenidos\n",
        "[1. Introducción al Lenguaje Python](#intro_py) <br>\n",
        "&emsp;&emsp;[1.1 Ámbitos de uso de Python](#indice_1_1) <br> "
      ],
      "metadata": {
        "id": "-pN4ap5SC0su"
      }
    },
    {
      "cell_type": "markdown",
      "source": [
        "<a name=\"intro_py\"></a>\n",
        "# 1. Introducción al Lenguaje Python\n",
        "[Contents](#contents) <br>"
      ],
      "metadata": {
        "id": "tYV4dVJ-D2GV"
      }
    },
    {
      "cell_type": "markdown",
      "source": [
        "<a name=\"indice_1_1\"></a>\n",
        "## 1.1 Ámbitos de uso de Python\n",
        "[Contents](#contents) <br>\n",
        "\n",
        "### Aplicaciones científicas y manejo de datos\n",
        "\n",
        "#### NumPy\n",
        "Contiene herramientas para interactuar con vectores de N dimensiones y realizar operaciones matemáticas sobre ellos.\n",
        "\n",
        "#### Pandas \n",
        "Realiza operaciones eficientes sobre conjuntos de datos grandes de varias dimensiones, organizados en datasets\n",
        "\n",
        "#### Matplotlib\n",
        "Libreria de visualización de gran cantidad de gráficos.\n",
        "\n",
        "#### Seaborn\n",
        "Representacion de estadistica, usa matplotlib\n",
        "\n",
        "#### Bokeh\n",
        "Gráficos en dos y tres dimensiones y permite hacer interacciones con ellos\n",
        "\n",
        "### Aplicaciones científicas y manejo de datos\n",
        "\n",
        "#### Big Data:\n",
        "*   Apacke Spark (https://spark.apache.org/)\n",
        "*   Hadoop (https://hadoop.apache.org)\n",
        "*   Dask (https://dask.org)\n",
        "\n",
        "#### Inteligencia Artificial:\n",
        "Algoritmos para que las computadoras puedan tener comportamientos similares a los humanos, categorizaciones de imagenes, reconocimiento de patrones, PNL y otros. \n",
        "\n",
        "*   Scikit-learn (https://scikit-learn.org/)\n",
        "\n",
        "#### Deep learning: \n",
        "Algoritmos de aprendizaje automático para analizar datos expresados de forma matricial o tensorial mediante capas de redes neuronales, en la mayoría de los casos no necesitan intervención humana para su aprendizaje.\n",
        "\n",
        "*   TensorFlow (https://www.tensorflow.org/)\n",
        "*   CNTK (https://www.docs.microsoft.com/es-es/cognitive-toolkit/)\n",
        "*   Theano (https://py.pi.org/project/Theano/)\n",
        "\n",
        "Estos tres frameworks pueden ser utilizados facilmente por la libreria Keras (https://keras.io)"
      ],
      "metadata": {
        "id": "6VXizjYtDIFM"
      }
    },
    {
      "cell_type": "markdown",
      "source": [
        "<a name=\"indice_1_2\"></a>\n",
        "## 1.2 Guía de Estilos\n",
        "[Contents](#contents) <br>\n",
        "\n",
        "### Indentacion\n",
        "Se recomienda 4 espacios \n",
        "\n",
        "### Longitud de líneas \n",
        "Longitud máxima 79 caracteres y 72 para los comentario, \"\\\" salto de linea\n",
        "\n",
        "### Consejos generales\n",
        "Para comparaciones utiliza las herramientas del lenguaje\n",
        "```python\n",
        "#  Incorrecto                               Correcto\n",
        "l = range(5)                                l = range(5)                    \n",
        "if len(l) > 0:                              if l:\n",
        "    print('cadena')                             print('cadena')\n",
        "\n",
        "#  Incorrecto                               Correcto\n",
        "es_bueno = True                             es_bueno = True                    \n",
        "if is_bueno is not True:                    if not es_bueno:\n",
        "    print('Malo')                             print('Malo')\n",
        "\n",
        "#  Incorrecto                               Correcto\n",
        "a = ''                                      a = ''\n",
        "if a == '':                                 if not a:\n",
        "    print('cadena vacia')                             print('cadena vacia')\n",
        "\n",
        "```\n",
        "La forma correcta de comprobar si una variable tiene el valor de True, False o None es con el operador is o is not, evitando el uso de negaciones de expresiones afirmativas.\n",
        "```python\n",
        "#  Incorrecto                               Correcto\n",
        "a = 1                                       a = 1\n",
        "b = 2                                       b = 2\n",
        "if not a is b:                              if a is not b:\n",
        "    print('valores diferentes')                 print('valores diferentes')\n",
        "\n",
        "                                            coche = None\n",
        "                                                if coche is None:\n",
        "                                                print('No hay coche')   \n",
        "```\n",
        "La importación de módulos se hará siempre al comienzo.\n",
        "El orden de importación de los módulos es:\n",
        "*   Módulos de librería estándar\n",
        "*   Módulos de terceros (otras librerías)\n",
        "*   Módulos propios\n",
        "*   Nota: dentro de cada sección se mantendrá el orden alfabético\n",
        "\n",
        "Los comentarios de una linea se haran añadiendo dos espacios\n",
        "```python\n",
        "#  Comentario   \n",
        "```\n",
        "\n",
        "### Convención de nombres:\n",
        "La mas usadas son:\n",
        "*   CamelCase, clases o tipos de variables \n",
        "*   snake_case, nombres de paquetes o módulos\n",
        "*   SCREAMING_SNAKE_CASE, constantes\n",
        "Para comprobar si un módulo cumple las reglas de estilos se puede utilizar el paquete pycodestyle (https://github.com/PyCQA/pycodestyle/)\n",
        "\n",
        "### Distribuciones de Python\n",
        "*   Anaconda, utiliza su gestor de paquetes llamado conda \n",
        "*   WinPython\n",
        "*   Enthought Canopy, su gestor de paquetes es EDM\n",
        "*   ActivePython\n",
        "\n",
        "### Instalación de librerías\n",
        "Casi todas las librerías se encuentran en el repositorio de paquetes oficial de Python (https://pypi.org/), <b>pip</b> es el gestor de paquetes, tambien permite buscar, listar e instalar paquetes\n",
        "\n",
        "```bash\n",
        "$ pip search nombrePaquete   \n",
        "$ pip install --user paquete1 paquete2 paquete3\n",
        "$ pip uninstall nombrePaquete   \n",
        "$ pip -upgrade nombrePaquete   \n",
        "$ pip show ipython\n",
        "$ pip list\n",
        "$ pip check\n",
        "$ pip install --index-url http://url.de.otro.repositorio/ NombrePaquete \n",
        "```\n",
        "Es recomendable usar el argumento --user\n",
        "\n",
        "### Manejo de entornos virtuales\n",
        "Un entorno virtual se compone del intérprete en la versión que se haya elegido y todas las librerías o paquetes que se quieran usar asegurandose que el cambio de paquete o instalación no afectará al sistema operativo o a otro entorno virtual.\n",
        "\n",
        "Pip provee herramientas para gestionar dependencias\n",
        "```bash\n",
        "$ pip freeze > requirements.txt\n",
        "$ pip install -U -r requirements.txt\n",
        "```\n",
        "#### Virtualenv o env \n",
        "Permite crear entornos en la misma carpeta del proyecto, y se puede añadir un nombre específico al entorno virtual.\n",
        "\n",
        "Activar entorno virtual:\n",
        "```bash\n",
        "$ virtualenv nombre_entorno     # Python 2\n",
        "$ python3 -m venv nombre_entorno   # Python 3\n",
        "$ source nombre_entorno/bin/activate   # Unix\n",
        "$ \\nombre_entorno\\Scripts\\activate   # Windows\n",
        "```\n",
        "\n",
        "Para desactivar el entorno virtual se puede ejecutar el comando deactive.\n",
        "\n",
        "#### Pipenv\n",
        "Herramienta que une virtualenv y pip (https://pipenv.kennethreitz.org/)"
      ],
      "metadata": {
        "id": "d7hVEi4lPJBT"
      }
    },
    {
      "cell_type": "markdown",
      "source": [
        "### Ejecutar programas desde ficheros\n",
        "La forma más común de ejecutar aplicaciones Python es por medio de lanzamiento de ficheros, en los que se especifica un punto de entrada o inicio a modo de \"main point\".\n",
        "En python todos los archivos pueden tener ese punto de entrada que se define:\n",
        "```python\n",
        "if __name__ == '__main__':\n",
        "```"
      ],
      "metadata": {
        "id": "UKTIseVQg1BA"
      }
    },
    {
      "cell_type": "code",
      "source": [
        "# Guardar en un archivo ejemplo_simple.py\n",
        "import math\n",
        "\n",
        "def hola_mundo():\n",
        "  print('Hola Mundo')\n",
        "\n",
        "def calcular_raiz_cuadrada(num):\n",
        "  return math.sqrt(num)\n",
        "\n",
        "def funcion_principal(longitud):\n",
        "  hola_mundo()\n",
        "  print([x * 2 for x in range(longitud)])\n",
        "  res = calcular_raiz_cuadrada(num)\n",
        "  print(f'La raiz cuadrada de {num} es {res}')\n",
        "\n",
        "if __name__ == '__main__':\n",
        "  funcion_principal(10)"
      ],
      "metadata": {
        "id": "tLM2-qPVp5io"
      },
      "execution_count": null,
      "outputs": []
    },
    {
      "cell_type": "markdown",
      "source": [
        "La ejecución seria: \n",
        "```shell\n",
        "$ python ejemplo_simple.py\n",
        "```\n",
        "EL resultado seria el inicio en la funcion funcion_principal.\n",
        "\n",
        "Si se requiere interacción con el usuario se pueden utilizar las librerias:\n",
        "\n",
        "<b>argparse</b> (https://docs.python.org/3/library/argparse.html)\n",
        "\n",
        "<b>click</b> (https://click.palletsprojects.com)"
      ],
      "metadata": {
        "id": "YFsdMnawqOua"
      }
    },
    {
      "cell_type": "markdown",
      "source": [
        "## Variables y Tipos de Datos\n",
        "\n",
        "En esta sección se verán conceptos fundamentales del lenguaje Python\n",
        "en detalle. Se describirán los conceptos de literales, variables, memoria\n",
        "de un programa y las características de los tipos de datos presentes en el\n",
        "núcleo de Python, dado que son piezas fundamentales para el desarrollo\n",
        "de cualquier aplicación escrita en este lenguaje. Muchos de los conceptos,\n",
        "además, son aplicables a otros lenguajes\n",
        "\n"
      ],
      "metadata": {
        "id": "e_m55oLoo6cz"
      }
    },
    {
      "cell_type": "markdown",
      "source": [
        ""
      ],
      "metadata": {
        "id": "uMztoqPro6bI"
      }
    },
    {
      "cell_type": "code",
      "execution_count": null,
      "metadata": {
        "colab": {
          "base_uri": "https://localhost:8080/",
          "height": 148
        },
        "id": "Fobumgm-vfIO",
        "outputId": "271ff597-c9c8-4cce-e143-1d1adc538de8"
      },
      "outputs": [
        {
          "output_type": "error",
          "ename": "SyntaxError",
          "evalue": "ignored",
          "traceback": [
            "\u001b[0;36m  File \u001b[0;32m\"<ipython-input-1-174659760828>\"\u001b[0;36m, line \u001b[0;32m2\u001b[0m\n\u001b[0;31m    La forma más común de ejecutar aplicaciones Python es por medio de lanzamiento de ficheros, en los que se especifica un punto de entrada o inicio a modo de \"main point\".\u001b[0m\n\u001b[0m           ^\u001b[0m\n\u001b[0;31mSyntaxError\u001b[0m\u001b[0;31m:\u001b[0m invalid syntax\n"
          ]
        }
      ],
      "source": [
        ""
      ]
    },
    {
      "cell_type": "code",
      "source": [
        ""
      ],
      "metadata": {
        "id": "wvBWDLWIgzkn"
      },
      "execution_count": null,
      "outputs": []
    }
  ]
}