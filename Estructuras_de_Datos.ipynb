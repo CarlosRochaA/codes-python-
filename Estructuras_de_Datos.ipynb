{
  "nbformat": 4,
  "nbformat_minor": 0,
  "metadata": {
    "colab": {
      "name": "Estructuras de Datos.ipynb",
      "provenance": [],
      "collapsed_sections": [],
      "authorship_tag": "ABX9TyMzaV+MqT//9+heh2KIA/O+",
      "include_colab_link": true
    },
    "kernelspec": {
      "name": "python3",
      "display_name": "Python 3"
    },
    "language_info": {
      "name": "python"
    }
  },
  "cells": [
    {
      "cell_type": "markdown",
      "metadata": {
        "id": "view-in-github",
        "colab_type": "text"
      },
      "source": [
        "<a href=\"https://colab.research.google.com/github/CarlosRochaA/codes-python-/blob/main/Estructuras_de_Datos.ipynb\" target=\"_parent\"><img src=\"https://colab.research.google.com/assets/colab-badge.svg\" alt=\"Open In Colab\"/></a>"
      ]
    },
    {
      "cell_type": "markdown",
      "source": [
        "# Strings"
      ],
      "metadata": {
        "id": "qzsc4SXINV6c"
      }
    },
    {
      "cell_type": "markdown",
      "source": [
        "“Hola Mundo!” # Con comillas dobles  <br>\n",
        "‘Hola Mundo!’ # Con comillas simples  <br>\n",
        "“””Hola Mundo!””” # Con triple comillas dobles, permite saltos de linea<br>\n",
        "‘’’Hola Mundo!’’’ # Con triple comillas simples, permite saltos de linea"
      ],
      "metadata": {
        "id": "EKuqy8LsNu77"
      }
    },
    {
      "cell_type": "code",
      "execution_count": 4,
      "metadata": {
        "colab": {
          "base_uri": "https://localhost:8080/"
        },
        "id": "WktyG3QsM1VA",
        "outputId": "c442121a-2994-4b86-e48c-f3351830cc47"
      },
      "outputs": [
        {
          "output_type": "stream",
          "name": "stdout",
          "text": [
            "H\n",
            "!\n",
            "Hola\n",
            "Mundo\n"
          ]
        },
        {
          "output_type": "execute_result",
          "data": {
            "text/plain": [
              "11"
            ]
          },
          "metadata": {},
          "execution_count": 4
        }
      ],
      "source": [
        "a_string='Hola Mundo!'\n",
        "\n",
        "# Acceso a caracteres del string.\n",
        "print(a_string[0])   # Devuelve H\n",
        "print(a_string[-1])  # Devuelve ! \n",
        "\n",
        "# Slicing de un string\n",
        "print(a_string[:4])     # Devuelve Hola\n",
        "print(a_string[5:10])\n",
        "\n",
        "# Longitud del string\n",
        "len(a_string)  # Devuelve 11"
      ]
    },
    {
      "cell_type": "markdown",
      "source": [
        "Los Strings son inmutables, al tratar de modificar se levanta la excepción e tipo TypeError"
      ],
      "metadata": {
        "id": "SWVPpG7bQUI9"
      }
    },
    {
      "cell_type": "code",
      "source": [
        "a_string = 'Hola Mundo!'\n",
        "a_string[6] = 'o' # Dará un error de tipo TypeError"
      ],
      "metadata": {
        "colab": {
          "base_uri": "https://localhost:8080/",
          "height": 183
        },
        "id": "Xo8y3C4tQPad",
        "outputId": "52a0fb6e-0ed3-41b1-80b2-62aea2bed77b"
      },
      "execution_count": 8,
      "outputs": [
        {
          "output_type": "error",
          "ename": "TypeError",
          "evalue": "ignored",
          "traceback": [
            "\u001b[0;31m---------------------------------------------------------------------------\u001b[0m",
            "\u001b[0;31mTypeError\u001b[0m                                 Traceback (most recent call last)",
            "\u001b[0;32m<ipython-input-8-cde706261d88>\u001b[0m in \u001b[0;36m<module>\u001b[0;34m()\u001b[0m\n\u001b[1;32m      1\u001b[0m \u001b[0ma_string\u001b[0m \u001b[0;34m=\u001b[0m \u001b[0;34m'Hola Mundo!'\u001b[0m\u001b[0;34m\u001b[0m\u001b[0;34m\u001b[0m\u001b[0m\n\u001b[0;32m----> 2\u001b[0;31m \u001b[0ma_string\u001b[0m\u001b[0;34m[\u001b[0m\u001b[0;36m6\u001b[0m\u001b[0;34m]\u001b[0m \u001b[0;34m=\u001b[0m \u001b[0;34m'o'\u001b[0m \u001b[0;31m# Dará un error de tipo TypeError\u001b[0m\u001b[0;34m\u001b[0m\u001b[0;34m\u001b[0m\u001b[0m\n\u001b[0m",
            "\u001b[0;31mTypeError\u001b[0m: 'str' object does not support item assignment"
          ]
        }
      ]
    },
    {
      "cell_type": "code",
      "source": [
        "new_string = a_string + '?' # Genera el string Hola Mundo!?\n",
        "print(new_string)\n",
        "new_string = a_string[:6] +'o' + a_string[7:] # Genera el string Hola Mondo!\n",
        "print(new_string)"
      ],
      "metadata": {
        "colab": {
          "base_uri": "https://localhost:8080/"
        },
        "id": "TvfRxg-cPMCZ",
        "outputId": "31f7e927-efb4-4779-d0f4-b6d657e589bc"
      },
      "execution_count": 11,
      "outputs": [
        {
          "output_type": "stream",
          "name": "stdout",
          "text": [
            "Hola Mundo!?\n",
            "Hola Mondo!\n"
          ]
        }
      ]
    },
    {
      "cell_type": "markdown",
      "source": [
        "Secuencia de escape: \\newline  <br>\n",
        "Descripcion: Barra invertida y nueva línea ignorada."
      ],
      "metadata": {
        "id": "WjUlXstkRkBs"
      }
    },
    {
      "cell_type": "code",
      "source": [
        "print(\"linea1 \\\n",
        "linea2 \\\n",
        "linea3\")"
      ],
      "metadata": {
        "colab": {
          "base_uri": "https://localhost:8080/"
        },
        "id": "CPZPeUe7QKv0",
        "outputId": "04643951-1e06-4ddb-a31d-b3b5eb4c1f0a"
      },
      "execution_count": 15,
      "outputs": [
        {
          "output_type": "stream",
          "name": "stdout",
          "text": [
            "linea1 linea2 linea3\n"
          ]
        }
      ]
    },
    {
      "cell_type": "code",
      "source": [
        "print(\"\\\\\")  # \\\\ Barra invertida \n",
        "print('\\'') # \\' Comilla simple  '\n",
        "print(\"\\\"\") #  \"\\\" Comilla doble \n",
        "print(\"Hola \\n Mundo!\")  # \\n Salto de línea (LF)  \n",
        "print(\"Hola \\t Mundo!\")  # \\t Tabulador horizontal  Hola Mundo!\n",
        "print(\"Hola \\r Mundo!\") # \\r Salto de línea (CR) "
      ],
      "metadata": {
        "colab": {
          "base_uri": "https://localhost:8080/"
        },
        "id": "lJQ7rxJgST6R",
        "outputId": "6b68defb-18ed-4022-e3ae-3c26e0d22fc6"
      },
      "execution_count": 19,
      "outputs": [
        {
          "output_type": "stream",
          "name": "stdout",
          "text": [
            "\\\n",
            "'\n",
            "\"\n",
            "Hola \n",
            " Mundo!\n",
            "Hola \t Mundo!\n",
            "Hola \r Mundo!\n"
          ]
        }
      ]
    },
    {
      "cell_type": "code",
      "source": [
        "name = \"Agustín\"\n",
        "\"Hola %s\" % name # Resultado: Hola Agustín\n",
        "\"El número es %d\" % 5 # Resultado: El número es 5\n",
        "\"El número es %02d\" % 5 # Resultado: El número es 005\n",
        "\"El decimal es %f\" % 6.5 # Resultado: El número es 6.500000\n",
        "\"El decimal es %.2f\" % 6.5 # Resultado: El número es 6.50\n",
        "\"Hola %(name)s\" % {'name': name} # Resultado: Hola Agustín"
      ],
      "metadata": {
        "colab": {
          "base_uri": "https://localhost:8080/",
          "height": 35
        },
        "id": "ec33w3ZPTCEp",
        "outputId": "13709fd7-1ab1-4e1b-b29c-606afabaa5e4"
      },
      "execution_count": 20,
      "outputs": [
        {
          "output_type": "execute_result",
          "data": {
            "text/plain": [
              "'Hola Agustín'"
            ],
            "application/vnd.google.colaboratory.intrinsic+json": {
              "type": "string"
            }
          },
          "metadata": {},
          "execution_count": 20
        }
      ]
    },
    {
      "cell_type": "markdown",
      "source": [
        "En Python todos los strings son unicode, Los strings habrá que codificarlos (pasar de unicode a un byte array con una codificación determinada) o decodificarlos (pasar de un byte array con una codificación determinada a unicode) en dos momentos. Cuando ingresa un string desde afuera (desde un archivo, un web service, etc.), si el mismo no es unicode, habrá que decodificarlo a unicode. Y cuando necesitemos extraer datos de nuestro sistema,\n",
        "cuando los datos los necesitemos en cierta codificación, los tendremos que codificar con dicha codificación. Veamos un ejemplo de cómo codificar y decodificar los strings.\n"
      ],
      "metadata": {
        "id": "A1u7TlDNSFLZ"
      }
    },
    {
      "cell_type": "code",
      "source": [
        "a_string = 'Otoño'\n",
        "# Codifico el string a utf-8\n",
        "coding_string = a_string.encode('utf-8') # Respuesta: b'Oto\\xc3\\xb1o'\n",
        "print(coding_string)\n",
        "# Decodifico el byte array en utf-8\n",
        "coding_string.decode('utf-8') # Respuesta: 'Otoño'"
      ],
      "metadata": {
        "colab": {
          "base_uri": "https://localhost:8080/",
          "height": 53
        },
        "id": "mM939yKuR2Lx",
        "outputId": "4c0e2ff8-37f4-4f90-fe52-99dc54b434e4"
      },
      "execution_count": 24,
      "outputs": [
        {
          "output_type": "stream",
          "name": "stdout",
          "text": [
            "b'Oto\\xc3\\xb1o'\n"
          ]
        },
        {
          "output_type": "execute_result",
          "data": {
            "text/plain": [
              "'Otoño'"
            ],
            "application/vnd.google.colaboratory.intrinsic+json": {
              "type": "string"
            }
          },
          "metadata": {},
          "execution_count": 24
        }
      ]
    },
    {
      "cell_type": "code",
      "source": [
        ""
      ],
      "metadata": {
        "id": "PBv21SVkUGGW"
      },
      "execution_count": null,
      "outputs": []
    }
  ]
}